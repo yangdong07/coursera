{
 "cells": [
  {
   "cell_type": "markdown",
   "metadata": {},
   "source": [
    "# Regression Week 1: Simple Linear Regression"
   ]
  },
  {
   "cell_type": "markdown",
   "metadata": {},
   "source": [
    "In this notebook we will use data on house sales in King County to predict house prices using simple (one input) linear regression. You will:\n",
    "* Use graphlab SArray and SFrame functions to compute important summary statistics\n",
    "* Write a function to compute the Simple Linear Regression weights using the closed form solution\n",
    "* Write a function to make predictions of the output given the input feature\n",
    "* Turn the regression around to predict the input given the output\n",
    "* Compare two different models for predicting house prices\n",
    "\n",
    "In this notebook you will be provided with some already complete code as well as some code that you should complete yourself in order to answer quiz questions. The code we provide to complte is optional and is there to assist you with solving the problems but feel free to ignore the helper code and write your own."
   ]
  },
  {
   "cell_type": "markdown",
   "metadata": {},
   "source": [
    "# Fire up graphlab create"
   ]
  },
  {
   "cell_type": "code",
   "execution_count": 1,
   "metadata": {},
   "outputs": [],
   "source": [
    "import graphlab"
   ]
  },
  {
   "cell_type": "markdown",
   "metadata": {},
   "source": [
    "# Load house sales data\n",
    "\n",
    "Dataset is from house sales in King County, the region where the city of Seattle, WA is located."
   ]
  },
  {
   "cell_type": "code",
   "execution_count": 4,
   "metadata": {},
   "outputs": [
    {
     "data": {
      "text/html": [
       "<div style=\"max-height:1000px;max-width:1500px;overflow:auto;\"><table frame=\"box\" rules=\"cols\">\n",
       "    <tr>\n",
       "        <th style=\"padding-left: 1em; padding-right: 1em; text-align: center\">id</th>\n",
       "        <th style=\"padding-left: 1em; padding-right: 1em; text-align: center\">date</th>\n",
       "        <th style=\"padding-left: 1em; padding-right: 1em; text-align: center\">price</th>\n",
       "        <th style=\"padding-left: 1em; padding-right: 1em; text-align: center\">bedrooms</th>\n",
       "        <th style=\"padding-left: 1em; padding-right: 1em; text-align: center\">bathrooms</th>\n",
       "        <th style=\"padding-left: 1em; padding-right: 1em; text-align: center\">sqft_living</th>\n",
       "        <th style=\"padding-left: 1em; padding-right: 1em; text-align: center\">sqft_lot</th>\n",
       "        <th style=\"padding-left: 1em; padding-right: 1em; text-align: center\">floors</th>\n",
       "        <th style=\"padding-left: 1em; padding-right: 1em; text-align: center\">waterfront</th>\n",
       "    </tr>\n",
       "    <tr>\n",
       "        <td style=\"padding-left: 1em; padding-right: 1em; text-align: center; vertical-align: top\">7129300520</td>\n",
       "        <td style=\"padding-left: 1em; padding-right: 1em; text-align: center; vertical-align: top\">2014-10-13 00:00:00+00:00</td>\n",
       "        <td style=\"padding-left: 1em; padding-right: 1em; text-align: center; vertical-align: top\">221900.0</td>\n",
       "        <td style=\"padding-left: 1em; padding-right: 1em; text-align: center; vertical-align: top\">3.0</td>\n",
       "        <td style=\"padding-left: 1em; padding-right: 1em; text-align: center; vertical-align: top\">1.0</td>\n",
       "        <td style=\"padding-left: 1em; padding-right: 1em; text-align: center; vertical-align: top\">1180.0</td>\n",
       "        <td style=\"padding-left: 1em; padding-right: 1em; text-align: center; vertical-align: top\">5650</td>\n",
       "        <td style=\"padding-left: 1em; padding-right: 1em; text-align: center; vertical-align: top\">1</td>\n",
       "        <td style=\"padding-left: 1em; padding-right: 1em; text-align: center; vertical-align: top\">0</td>\n",
       "    </tr>\n",
       "    <tr>\n",
       "        <td style=\"padding-left: 1em; padding-right: 1em; text-align: center; vertical-align: top\">6414100192</td>\n",
       "        <td style=\"padding-left: 1em; padding-right: 1em; text-align: center; vertical-align: top\">2014-12-09 00:00:00+00:00</td>\n",
       "        <td style=\"padding-left: 1em; padding-right: 1em; text-align: center; vertical-align: top\">538000.0</td>\n",
       "        <td style=\"padding-left: 1em; padding-right: 1em; text-align: center; vertical-align: top\">3.0</td>\n",
       "        <td style=\"padding-left: 1em; padding-right: 1em; text-align: center; vertical-align: top\">2.25</td>\n",
       "        <td style=\"padding-left: 1em; padding-right: 1em; text-align: center; vertical-align: top\">2570.0</td>\n",
       "        <td style=\"padding-left: 1em; padding-right: 1em; text-align: center; vertical-align: top\">7242</td>\n",
       "        <td style=\"padding-left: 1em; padding-right: 1em; text-align: center; vertical-align: top\">2</td>\n",
       "        <td style=\"padding-left: 1em; padding-right: 1em; text-align: center; vertical-align: top\">0</td>\n",
       "    </tr>\n",
       "    <tr>\n",
       "        <td style=\"padding-left: 1em; padding-right: 1em; text-align: center; vertical-align: top\">5631500400</td>\n",
       "        <td style=\"padding-left: 1em; padding-right: 1em; text-align: center; vertical-align: top\">2015-02-25 00:00:00+00:00</td>\n",
       "        <td style=\"padding-left: 1em; padding-right: 1em; text-align: center; vertical-align: top\">180000.0</td>\n",
       "        <td style=\"padding-left: 1em; padding-right: 1em; text-align: center; vertical-align: top\">2.0</td>\n",
       "        <td style=\"padding-left: 1em; padding-right: 1em; text-align: center; vertical-align: top\">1.0</td>\n",
       "        <td style=\"padding-left: 1em; padding-right: 1em; text-align: center; vertical-align: top\">770.0</td>\n",
       "        <td style=\"padding-left: 1em; padding-right: 1em; text-align: center; vertical-align: top\">10000</td>\n",
       "        <td style=\"padding-left: 1em; padding-right: 1em; text-align: center; vertical-align: top\">1</td>\n",
       "        <td style=\"padding-left: 1em; padding-right: 1em; text-align: center; vertical-align: top\">0</td>\n",
       "    </tr>\n",
       "    <tr>\n",
       "        <td style=\"padding-left: 1em; padding-right: 1em; text-align: center; vertical-align: top\">2487200875</td>\n",
       "        <td style=\"padding-left: 1em; padding-right: 1em; text-align: center; vertical-align: top\">2014-12-09 00:00:00+00:00</td>\n",
       "        <td style=\"padding-left: 1em; padding-right: 1em; text-align: center; vertical-align: top\">604000.0</td>\n",
       "        <td style=\"padding-left: 1em; padding-right: 1em; text-align: center; vertical-align: top\">4.0</td>\n",
       "        <td style=\"padding-left: 1em; padding-right: 1em; text-align: center; vertical-align: top\">3.0</td>\n",
       "        <td style=\"padding-left: 1em; padding-right: 1em; text-align: center; vertical-align: top\">1960.0</td>\n",
       "        <td style=\"padding-left: 1em; padding-right: 1em; text-align: center; vertical-align: top\">5000</td>\n",
       "        <td style=\"padding-left: 1em; padding-right: 1em; text-align: center; vertical-align: top\">1</td>\n",
       "        <td style=\"padding-left: 1em; padding-right: 1em; text-align: center; vertical-align: top\">0</td>\n",
       "    </tr>\n",
       "    <tr>\n",
       "        <td style=\"padding-left: 1em; padding-right: 1em; text-align: center; vertical-align: top\">1954400510</td>\n",
       "        <td style=\"padding-left: 1em; padding-right: 1em; text-align: center; vertical-align: top\">2015-02-18 00:00:00+00:00</td>\n",
       "        <td style=\"padding-left: 1em; padding-right: 1em; text-align: center; vertical-align: top\">510000.0</td>\n",
       "        <td style=\"padding-left: 1em; padding-right: 1em; text-align: center; vertical-align: top\">3.0</td>\n",
       "        <td style=\"padding-left: 1em; padding-right: 1em; text-align: center; vertical-align: top\">2.0</td>\n",
       "        <td style=\"padding-left: 1em; padding-right: 1em; text-align: center; vertical-align: top\">1680.0</td>\n",
       "        <td style=\"padding-left: 1em; padding-right: 1em; text-align: center; vertical-align: top\">8080</td>\n",
       "        <td style=\"padding-left: 1em; padding-right: 1em; text-align: center; vertical-align: top\">1</td>\n",
       "        <td style=\"padding-left: 1em; padding-right: 1em; text-align: center; vertical-align: top\">0</td>\n",
       "    </tr>\n",
       "    <tr>\n",
       "        <td style=\"padding-left: 1em; padding-right: 1em; text-align: center; vertical-align: top\">7237550310</td>\n",
       "        <td style=\"padding-left: 1em; padding-right: 1em; text-align: center; vertical-align: top\">2014-05-12 00:00:00+00:00</td>\n",
       "        <td style=\"padding-left: 1em; padding-right: 1em; text-align: center; vertical-align: top\">1225000.0</td>\n",
       "        <td style=\"padding-left: 1em; padding-right: 1em; text-align: center; vertical-align: top\">4.0</td>\n",
       "        <td style=\"padding-left: 1em; padding-right: 1em; text-align: center; vertical-align: top\">4.5</td>\n",
       "        <td style=\"padding-left: 1em; padding-right: 1em; text-align: center; vertical-align: top\">5420.0</td>\n",
       "        <td style=\"padding-left: 1em; padding-right: 1em; text-align: center; vertical-align: top\">101930</td>\n",
       "        <td style=\"padding-left: 1em; padding-right: 1em; text-align: center; vertical-align: top\">1</td>\n",
       "        <td style=\"padding-left: 1em; padding-right: 1em; text-align: center; vertical-align: top\">0</td>\n",
       "    </tr>\n",
       "    <tr>\n",
       "        <td style=\"padding-left: 1em; padding-right: 1em; text-align: center; vertical-align: top\">1321400060</td>\n",
       "        <td style=\"padding-left: 1em; padding-right: 1em; text-align: center; vertical-align: top\">2014-06-27 00:00:00+00:00</td>\n",
       "        <td style=\"padding-left: 1em; padding-right: 1em; text-align: center; vertical-align: top\">257500.0</td>\n",
       "        <td style=\"padding-left: 1em; padding-right: 1em; text-align: center; vertical-align: top\">3.0</td>\n",
       "        <td style=\"padding-left: 1em; padding-right: 1em; text-align: center; vertical-align: top\">2.25</td>\n",
       "        <td style=\"padding-left: 1em; padding-right: 1em; text-align: center; vertical-align: top\">1715.0</td>\n",
       "        <td style=\"padding-left: 1em; padding-right: 1em; text-align: center; vertical-align: top\">6819</td>\n",
       "        <td style=\"padding-left: 1em; padding-right: 1em; text-align: center; vertical-align: top\">2</td>\n",
       "        <td style=\"padding-left: 1em; padding-right: 1em; text-align: center; vertical-align: top\">0</td>\n",
       "    </tr>\n",
       "    <tr>\n",
       "        <td style=\"padding-left: 1em; padding-right: 1em; text-align: center; vertical-align: top\">2008000270</td>\n",
       "        <td style=\"padding-left: 1em; padding-right: 1em; text-align: center; vertical-align: top\">2015-01-15 00:00:00+00:00</td>\n",
       "        <td style=\"padding-left: 1em; padding-right: 1em; text-align: center; vertical-align: top\">291850.0</td>\n",
       "        <td style=\"padding-left: 1em; padding-right: 1em; text-align: center; vertical-align: top\">3.0</td>\n",
       "        <td style=\"padding-left: 1em; padding-right: 1em; text-align: center; vertical-align: top\">1.5</td>\n",
       "        <td style=\"padding-left: 1em; padding-right: 1em; text-align: center; vertical-align: top\">1060.0</td>\n",
       "        <td style=\"padding-left: 1em; padding-right: 1em; text-align: center; vertical-align: top\">9711</td>\n",
       "        <td style=\"padding-left: 1em; padding-right: 1em; text-align: center; vertical-align: top\">1</td>\n",
       "        <td style=\"padding-left: 1em; padding-right: 1em; text-align: center; vertical-align: top\">0</td>\n",
       "    </tr>\n",
       "    <tr>\n",
       "        <td style=\"padding-left: 1em; padding-right: 1em; text-align: center; vertical-align: top\">2414600126</td>\n",
       "        <td style=\"padding-left: 1em; padding-right: 1em; text-align: center; vertical-align: top\">2015-04-15 00:00:00+00:00</td>\n",
       "        <td style=\"padding-left: 1em; padding-right: 1em; text-align: center; vertical-align: top\">229500.0</td>\n",
       "        <td style=\"padding-left: 1em; padding-right: 1em; text-align: center; vertical-align: top\">3.0</td>\n",
       "        <td style=\"padding-left: 1em; padding-right: 1em; text-align: center; vertical-align: top\">1.0</td>\n",
       "        <td style=\"padding-left: 1em; padding-right: 1em; text-align: center; vertical-align: top\">1780.0</td>\n",
       "        <td style=\"padding-left: 1em; padding-right: 1em; text-align: center; vertical-align: top\">7470</td>\n",
       "        <td style=\"padding-left: 1em; padding-right: 1em; text-align: center; vertical-align: top\">1</td>\n",
       "        <td style=\"padding-left: 1em; padding-right: 1em; text-align: center; vertical-align: top\">0</td>\n",
       "    </tr>\n",
       "    <tr>\n",
       "        <td style=\"padding-left: 1em; padding-right: 1em; text-align: center; vertical-align: top\">3793500160</td>\n",
       "        <td style=\"padding-left: 1em; padding-right: 1em; text-align: center; vertical-align: top\">2015-03-12 00:00:00+00:00</td>\n",
       "        <td style=\"padding-left: 1em; padding-right: 1em; text-align: center; vertical-align: top\">323000.0</td>\n",
       "        <td style=\"padding-left: 1em; padding-right: 1em; text-align: center; vertical-align: top\">3.0</td>\n",
       "        <td style=\"padding-left: 1em; padding-right: 1em; text-align: center; vertical-align: top\">2.5</td>\n",
       "        <td style=\"padding-left: 1em; padding-right: 1em; text-align: center; vertical-align: top\">1890.0</td>\n",
       "        <td style=\"padding-left: 1em; padding-right: 1em; text-align: center; vertical-align: top\">6560</td>\n",
       "        <td style=\"padding-left: 1em; padding-right: 1em; text-align: center; vertical-align: top\">2</td>\n",
       "        <td style=\"padding-left: 1em; padding-right: 1em; text-align: center; vertical-align: top\">0</td>\n",
       "    </tr>\n",
       "</table>\n",
       "<table frame=\"box\" rules=\"cols\">\n",
       "    <tr>\n",
       "        <th style=\"padding-left: 1em; padding-right: 1em; text-align: center\">view</th>\n",
       "        <th style=\"padding-left: 1em; padding-right: 1em; text-align: center\">condition</th>\n",
       "        <th style=\"padding-left: 1em; padding-right: 1em; text-align: center\">grade</th>\n",
       "        <th style=\"padding-left: 1em; padding-right: 1em; text-align: center\">sqft_above</th>\n",
       "        <th style=\"padding-left: 1em; padding-right: 1em; text-align: center\">sqft_basement</th>\n",
       "        <th style=\"padding-left: 1em; padding-right: 1em; text-align: center\">yr_built</th>\n",
       "        <th style=\"padding-left: 1em; padding-right: 1em; text-align: center\">yr_renovated</th>\n",
       "        <th style=\"padding-left: 1em; padding-right: 1em; text-align: center\">zipcode</th>\n",
       "        <th style=\"padding-left: 1em; padding-right: 1em; text-align: center\">lat</th>\n",
       "    </tr>\n",
       "    <tr>\n",
       "        <td style=\"padding-left: 1em; padding-right: 1em; text-align: center; vertical-align: top\">0</td>\n",
       "        <td style=\"padding-left: 1em; padding-right: 1em; text-align: center; vertical-align: top\">3</td>\n",
       "        <td style=\"padding-left: 1em; padding-right: 1em; text-align: center; vertical-align: top\">7</td>\n",
       "        <td style=\"padding-left: 1em; padding-right: 1em; text-align: center; vertical-align: top\">1180</td>\n",
       "        <td style=\"padding-left: 1em; padding-right: 1em; text-align: center; vertical-align: top\">0</td>\n",
       "        <td style=\"padding-left: 1em; padding-right: 1em; text-align: center; vertical-align: top\">1955</td>\n",
       "        <td style=\"padding-left: 1em; padding-right: 1em; text-align: center; vertical-align: top\">0</td>\n",
       "        <td style=\"padding-left: 1em; padding-right: 1em; text-align: center; vertical-align: top\">98178</td>\n",
       "        <td style=\"padding-left: 1em; padding-right: 1em; text-align: center; vertical-align: top\">47.51123398</td>\n",
       "    </tr>\n",
       "    <tr>\n",
       "        <td style=\"padding-left: 1em; padding-right: 1em; text-align: center; vertical-align: top\">0</td>\n",
       "        <td style=\"padding-left: 1em; padding-right: 1em; text-align: center; vertical-align: top\">3</td>\n",
       "        <td style=\"padding-left: 1em; padding-right: 1em; text-align: center; vertical-align: top\">7</td>\n",
       "        <td style=\"padding-left: 1em; padding-right: 1em; text-align: center; vertical-align: top\">2170</td>\n",
       "        <td style=\"padding-left: 1em; padding-right: 1em; text-align: center; vertical-align: top\">400</td>\n",
       "        <td style=\"padding-left: 1em; padding-right: 1em; text-align: center; vertical-align: top\">1951</td>\n",
       "        <td style=\"padding-left: 1em; padding-right: 1em; text-align: center; vertical-align: top\">1991</td>\n",
       "        <td style=\"padding-left: 1em; padding-right: 1em; text-align: center; vertical-align: top\">98125</td>\n",
       "        <td style=\"padding-left: 1em; padding-right: 1em; text-align: center; vertical-align: top\">47.72102274</td>\n",
       "    </tr>\n",
       "    <tr>\n",
       "        <td style=\"padding-left: 1em; padding-right: 1em; text-align: center; vertical-align: top\">0</td>\n",
       "        <td style=\"padding-left: 1em; padding-right: 1em; text-align: center; vertical-align: top\">3</td>\n",
       "        <td style=\"padding-left: 1em; padding-right: 1em; text-align: center; vertical-align: top\">6</td>\n",
       "        <td style=\"padding-left: 1em; padding-right: 1em; text-align: center; vertical-align: top\">770</td>\n",
       "        <td style=\"padding-left: 1em; padding-right: 1em; text-align: center; vertical-align: top\">0</td>\n",
       "        <td style=\"padding-left: 1em; padding-right: 1em; text-align: center; vertical-align: top\">1933</td>\n",
       "        <td style=\"padding-left: 1em; padding-right: 1em; text-align: center; vertical-align: top\">0</td>\n",
       "        <td style=\"padding-left: 1em; padding-right: 1em; text-align: center; vertical-align: top\">98028</td>\n",
       "        <td style=\"padding-left: 1em; padding-right: 1em; text-align: center; vertical-align: top\">47.73792661</td>\n",
       "    </tr>\n",
       "    <tr>\n",
       "        <td style=\"padding-left: 1em; padding-right: 1em; text-align: center; vertical-align: top\">0</td>\n",
       "        <td style=\"padding-left: 1em; padding-right: 1em; text-align: center; vertical-align: top\">5</td>\n",
       "        <td style=\"padding-left: 1em; padding-right: 1em; text-align: center; vertical-align: top\">7</td>\n",
       "        <td style=\"padding-left: 1em; padding-right: 1em; text-align: center; vertical-align: top\">1050</td>\n",
       "        <td style=\"padding-left: 1em; padding-right: 1em; text-align: center; vertical-align: top\">910</td>\n",
       "        <td style=\"padding-left: 1em; padding-right: 1em; text-align: center; vertical-align: top\">1965</td>\n",
       "        <td style=\"padding-left: 1em; padding-right: 1em; text-align: center; vertical-align: top\">0</td>\n",
       "        <td style=\"padding-left: 1em; padding-right: 1em; text-align: center; vertical-align: top\">98136</td>\n",
       "        <td style=\"padding-left: 1em; padding-right: 1em; text-align: center; vertical-align: top\">47.52082</td>\n",
       "    </tr>\n",
       "    <tr>\n",
       "        <td style=\"padding-left: 1em; padding-right: 1em; text-align: center; vertical-align: top\">0</td>\n",
       "        <td style=\"padding-left: 1em; padding-right: 1em; text-align: center; vertical-align: top\">3</td>\n",
       "        <td style=\"padding-left: 1em; padding-right: 1em; text-align: center; vertical-align: top\">8</td>\n",
       "        <td style=\"padding-left: 1em; padding-right: 1em; text-align: center; vertical-align: top\">1680</td>\n",
       "        <td style=\"padding-left: 1em; padding-right: 1em; text-align: center; vertical-align: top\">0</td>\n",
       "        <td style=\"padding-left: 1em; padding-right: 1em; text-align: center; vertical-align: top\">1987</td>\n",
       "        <td style=\"padding-left: 1em; padding-right: 1em; text-align: center; vertical-align: top\">0</td>\n",
       "        <td style=\"padding-left: 1em; padding-right: 1em; text-align: center; vertical-align: top\">98074</td>\n",
       "        <td style=\"padding-left: 1em; padding-right: 1em; text-align: center; vertical-align: top\">47.61681228</td>\n",
       "    </tr>\n",
       "    <tr>\n",
       "        <td style=\"padding-left: 1em; padding-right: 1em; text-align: center; vertical-align: top\">0</td>\n",
       "        <td style=\"padding-left: 1em; padding-right: 1em; text-align: center; vertical-align: top\">3</td>\n",
       "        <td style=\"padding-left: 1em; padding-right: 1em; text-align: center; vertical-align: top\">11</td>\n",
       "        <td style=\"padding-left: 1em; padding-right: 1em; text-align: center; vertical-align: top\">3890</td>\n",
       "        <td style=\"padding-left: 1em; padding-right: 1em; text-align: center; vertical-align: top\">1530</td>\n",
       "        <td style=\"padding-left: 1em; padding-right: 1em; text-align: center; vertical-align: top\">2001</td>\n",
       "        <td style=\"padding-left: 1em; padding-right: 1em; text-align: center; vertical-align: top\">0</td>\n",
       "        <td style=\"padding-left: 1em; padding-right: 1em; text-align: center; vertical-align: top\">98053</td>\n",
       "        <td style=\"padding-left: 1em; padding-right: 1em; text-align: center; vertical-align: top\">47.65611835</td>\n",
       "    </tr>\n",
       "    <tr>\n",
       "        <td style=\"padding-left: 1em; padding-right: 1em; text-align: center; vertical-align: top\">0</td>\n",
       "        <td style=\"padding-left: 1em; padding-right: 1em; text-align: center; vertical-align: top\">3</td>\n",
       "        <td style=\"padding-left: 1em; padding-right: 1em; text-align: center; vertical-align: top\">7</td>\n",
       "        <td style=\"padding-left: 1em; padding-right: 1em; text-align: center; vertical-align: top\">1715</td>\n",
       "        <td style=\"padding-left: 1em; padding-right: 1em; text-align: center; vertical-align: top\">0</td>\n",
       "        <td style=\"padding-left: 1em; padding-right: 1em; text-align: center; vertical-align: top\">1995</td>\n",
       "        <td style=\"padding-left: 1em; padding-right: 1em; text-align: center; vertical-align: top\">0</td>\n",
       "        <td style=\"padding-left: 1em; padding-right: 1em; text-align: center; vertical-align: top\">98003</td>\n",
       "        <td style=\"padding-left: 1em; padding-right: 1em; text-align: center; vertical-align: top\">47.30972002</td>\n",
       "    </tr>\n",
       "    <tr>\n",
       "        <td style=\"padding-left: 1em; padding-right: 1em; text-align: center; vertical-align: top\">0</td>\n",
       "        <td style=\"padding-left: 1em; padding-right: 1em; text-align: center; vertical-align: top\">3</td>\n",
       "        <td style=\"padding-left: 1em; padding-right: 1em; text-align: center; vertical-align: top\">7</td>\n",
       "        <td style=\"padding-left: 1em; padding-right: 1em; text-align: center; vertical-align: top\">1060</td>\n",
       "        <td style=\"padding-left: 1em; padding-right: 1em; text-align: center; vertical-align: top\">0</td>\n",
       "        <td style=\"padding-left: 1em; padding-right: 1em; text-align: center; vertical-align: top\">1963</td>\n",
       "        <td style=\"padding-left: 1em; padding-right: 1em; text-align: center; vertical-align: top\">0</td>\n",
       "        <td style=\"padding-left: 1em; padding-right: 1em; text-align: center; vertical-align: top\">98198</td>\n",
       "        <td style=\"padding-left: 1em; padding-right: 1em; text-align: center; vertical-align: top\">47.40949984</td>\n",
       "    </tr>\n",
       "    <tr>\n",
       "        <td style=\"padding-left: 1em; padding-right: 1em; text-align: center; vertical-align: top\">0</td>\n",
       "        <td style=\"padding-left: 1em; padding-right: 1em; text-align: center; vertical-align: top\">3</td>\n",
       "        <td style=\"padding-left: 1em; padding-right: 1em; text-align: center; vertical-align: top\">7</td>\n",
       "        <td style=\"padding-left: 1em; padding-right: 1em; text-align: center; vertical-align: top\">1050</td>\n",
       "        <td style=\"padding-left: 1em; padding-right: 1em; text-align: center; vertical-align: top\">730</td>\n",
       "        <td style=\"padding-left: 1em; padding-right: 1em; text-align: center; vertical-align: top\">1960</td>\n",
       "        <td style=\"padding-left: 1em; padding-right: 1em; text-align: center; vertical-align: top\">0</td>\n",
       "        <td style=\"padding-left: 1em; padding-right: 1em; text-align: center; vertical-align: top\">98146</td>\n",
       "        <td style=\"padding-left: 1em; padding-right: 1em; text-align: center; vertical-align: top\">47.51229381</td>\n",
       "    </tr>\n",
       "    <tr>\n",
       "        <td style=\"padding-left: 1em; padding-right: 1em; text-align: center; vertical-align: top\">0</td>\n",
       "        <td style=\"padding-left: 1em; padding-right: 1em; text-align: center; vertical-align: top\">3</td>\n",
       "        <td style=\"padding-left: 1em; padding-right: 1em; text-align: center; vertical-align: top\">7</td>\n",
       "        <td style=\"padding-left: 1em; padding-right: 1em; text-align: center; vertical-align: top\">1890</td>\n",
       "        <td style=\"padding-left: 1em; padding-right: 1em; text-align: center; vertical-align: top\">0</td>\n",
       "        <td style=\"padding-left: 1em; padding-right: 1em; text-align: center; vertical-align: top\">2003</td>\n",
       "        <td style=\"padding-left: 1em; padding-right: 1em; text-align: center; vertical-align: top\">0</td>\n",
       "        <td style=\"padding-left: 1em; padding-right: 1em; text-align: center; vertical-align: top\">98038</td>\n",
       "        <td style=\"padding-left: 1em; padding-right: 1em; text-align: center; vertical-align: top\">47.36840673</td>\n",
       "    </tr>\n",
       "</table>\n",
       "<table frame=\"box\" rules=\"cols\">\n",
       "    <tr>\n",
       "        <th style=\"padding-left: 1em; padding-right: 1em; text-align: center\">long</th>\n",
       "        <th style=\"padding-left: 1em; padding-right: 1em; text-align: center\">sqft_living15</th>\n",
       "        <th style=\"padding-left: 1em; padding-right: 1em; text-align: center\">sqft_lot15</th>\n",
       "    </tr>\n",
       "    <tr>\n",
       "        <td style=\"padding-left: 1em; padding-right: 1em; text-align: center; vertical-align: top\">-122.25677536</td>\n",
       "        <td style=\"padding-left: 1em; padding-right: 1em; text-align: center; vertical-align: top\">1340.0</td>\n",
       "        <td style=\"padding-left: 1em; padding-right: 1em; text-align: center; vertical-align: top\">5650.0</td>\n",
       "    </tr>\n",
       "    <tr>\n",
       "        <td style=\"padding-left: 1em; padding-right: 1em; text-align: center; vertical-align: top\">-122.3188624</td>\n",
       "        <td style=\"padding-left: 1em; padding-right: 1em; text-align: center; vertical-align: top\">1690.0</td>\n",
       "        <td style=\"padding-left: 1em; padding-right: 1em; text-align: center; vertical-align: top\">7639.0</td>\n",
       "    </tr>\n",
       "    <tr>\n",
       "        <td style=\"padding-left: 1em; padding-right: 1em; text-align: center; vertical-align: top\">-122.23319601</td>\n",
       "        <td style=\"padding-left: 1em; padding-right: 1em; text-align: center; vertical-align: top\">2720.0</td>\n",
       "        <td style=\"padding-left: 1em; padding-right: 1em; text-align: center; vertical-align: top\">8062.0</td>\n",
       "    </tr>\n",
       "    <tr>\n",
       "        <td style=\"padding-left: 1em; padding-right: 1em; text-align: center; vertical-align: top\">-122.39318505</td>\n",
       "        <td style=\"padding-left: 1em; padding-right: 1em; text-align: center; vertical-align: top\">1360.0</td>\n",
       "        <td style=\"padding-left: 1em; padding-right: 1em; text-align: center; vertical-align: top\">5000.0</td>\n",
       "    </tr>\n",
       "    <tr>\n",
       "        <td style=\"padding-left: 1em; padding-right: 1em; text-align: center; vertical-align: top\">-122.04490059</td>\n",
       "        <td style=\"padding-left: 1em; padding-right: 1em; text-align: center; vertical-align: top\">1800.0</td>\n",
       "        <td style=\"padding-left: 1em; padding-right: 1em; text-align: center; vertical-align: top\">7503.0</td>\n",
       "    </tr>\n",
       "    <tr>\n",
       "        <td style=\"padding-left: 1em; padding-right: 1em; text-align: center; vertical-align: top\">-122.00528655</td>\n",
       "        <td style=\"padding-left: 1em; padding-right: 1em; text-align: center; vertical-align: top\">4760.0</td>\n",
       "        <td style=\"padding-left: 1em; padding-right: 1em; text-align: center; vertical-align: top\">101930.0</td>\n",
       "    </tr>\n",
       "    <tr>\n",
       "        <td style=\"padding-left: 1em; padding-right: 1em; text-align: center; vertical-align: top\">-122.32704857</td>\n",
       "        <td style=\"padding-left: 1em; padding-right: 1em; text-align: center; vertical-align: top\">2238.0</td>\n",
       "        <td style=\"padding-left: 1em; padding-right: 1em; text-align: center; vertical-align: top\">6819.0</td>\n",
       "    </tr>\n",
       "    <tr>\n",
       "        <td style=\"padding-left: 1em; padding-right: 1em; text-align: center; vertical-align: top\">-122.31457273</td>\n",
       "        <td style=\"padding-left: 1em; padding-right: 1em; text-align: center; vertical-align: top\">1650.0</td>\n",
       "        <td style=\"padding-left: 1em; padding-right: 1em; text-align: center; vertical-align: top\">9711.0</td>\n",
       "    </tr>\n",
       "    <tr>\n",
       "        <td style=\"padding-left: 1em; padding-right: 1em; text-align: center; vertical-align: top\">-122.33659507</td>\n",
       "        <td style=\"padding-left: 1em; padding-right: 1em; text-align: center; vertical-align: top\">1780.0</td>\n",
       "        <td style=\"padding-left: 1em; padding-right: 1em; text-align: center; vertical-align: top\">8113.0</td>\n",
       "    </tr>\n",
       "    <tr>\n",
       "        <td style=\"padding-left: 1em; padding-right: 1em; text-align: center; vertical-align: top\">-122.0308176</td>\n",
       "        <td style=\"padding-left: 1em; padding-right: 1em; text-align: center; vertical-align: top\">2390.0</td>\n",
       "        <td style=\"padding-left: 1em; padding-right: 1em; text-align: center; vertical-align: top\">7570.0</td>\n",
       "    </tr>\n",
       "</table>\n",
       "[21613 rows x 21 columns]<br/>Note: Only the head of the SFrame is printed.<br/>You can use print_rows(num_rows=m, num_columns=n) to print more rows and columns.\n",
       "</div>"
      ],
      "text/plain": [
       "Columns:\n",
       "\tid\tstr\n",
       "\tdate\tdatetime\n",
       "\tprice\tfloat\n",
       "\tbedrooms\tfloat\n",
       "\tbathrooms\tfloat\n",
       "\tsqft_living\tfloat\n",
       "\tsqft_lot\tint\n",
       "\tfloors\tstr\n",
       "\twaterfront\tint\n",
       "\tview\tint\n",
       "\tcondition\tint\n",
       "\tgrade\tint\n",
       "\tsqft_above\tint\n",
       "\tsqft_basement\tint\n",
       "\tyr_built\tint\n",
       "\tyr_renovated\tint\n",
       "\tzipcode\tstr\n",
       "\tlat\tfloat\n",
       "\tlong\tfloat\n",
       "\tsqft_living15\tfloat\n",
       "\tsqft_lot15\tfloat\n",
       "\n",
       "Rows: 21613\n",
       "\n",
       "Data:\n",
       "+------------+---------------------------+-----------+----------+-----------+\n",
       "|     id     |            date           |   price   | bedrooms | bathrooms |\n",
       "+------------+---------------------------+-----------+----------+-----------+\n",
       "| 7129300520 | 2014-10-13 00:00:00+00:00 |  221900.0 |   3.0    |    1.0    |\n",
       "| 6414100192 | 2014-12-09 00:00:00+00:00 |  538000.0 |   3.0    |    2.25   |\n",
       "| 5631500400 | 2015-02-25 00:00:00+00:00 |  180000.0 |   2.0    |    1.0    |\n",
       "| 2487200875 | 2014-12-09 00:00:00+00:00 |  604000.0 |   4.0    |    3.0    |\n",
       "| 1954400510 | 2015-02-18 00:00:00+00:00 |  510000.0 |   3.0    |    2.0    |\n",
       "| 7237550310 | 2014-05-12 00:00:00+00:00 | 1225000.0 |   4.0    |    4.5    |\n",
       "| 1321400060 | 2014-06-27 00:00:00+00:00 |  257500.0 |   3.0    |    2.25   |\n",
       "| 2008000270 | 2015-01-15 00:00:00+00:00 |  291850.0 |   3.0    |    1.5    |\n",
       "| 2414600126 | 2015-04-15 00:00:00+00:00 |  229500.0 |   3.0    |    1.0    |\n",
       "| 3793500160 | 2015-03-12 00:00:00+00:00 |  323000.0 |   3.0    |    2.5    |\n",
       "+------------+---------------------------+-----------+----------+-----------+\n",
       "+-------------+----------+--------+------------+------+-----------+-------+------------+\n",
       "| sqft_living | sqft_lot | floors | waterfront | view | condition | grade | sqft_above |\n",
       "+-------------+----------+--------+------------+------+-----------+-------+------------+\n",
       "|    1180.0   |   5650   |   1    |     0      |  0   |     3     |   7   |    1180    |\n",
       "|    2570.0   |   7242   |   2    |     0      |  0   |     3     |   7   |    2170    |\n",
       "|    770.0    |  10000   |   1    |     0      |  0   |     3     |   6   |    770     |\n",
       "|    1960.0   |   5000   |   1    |     0      |  0   |     5     |   7   |    1050    |\n",
       "|    1680.0   |   8080   |   1    |     0      |  0   |     3     |   8   |    1680    |\n",
       "|    5420.0   |  101930  |   1    |     0      |  0   |     3     |   11  |    3890    |\n",
       "|    1715.0   |   6819   |   2    |     0      |  0   |     3     |   7   |    1715    |\n",
       "|    1060.0   |   9711   |   1    |     0      |  0   |     3     |   7   |    1060    |\n",
       "|    1780.0   |   7470   |   1    |     0      |  0   |     3     |   7   |    1050    |\n",
       "|    1890.0   |   6560   |   2    |     0      |  0   |     3     |   7   |    1890    |\n",
       "+-------------+----------+--------+------------+------+-----------+-------+------------+\n",
       "+---------------+----------+--------------+---------+-------------+\n",
       "| sqft_basement | yr_built | yr_renovated | zipcode |     lat     |\n",
       "+---------------+----------+--------------+---------+-------------+\n",
       "|       0       |   1955   |      0       |  98178  | 47.51123398 |\n",
       "|      400      |   1951   |     1991     |  98125  | 47.72102274 |\n",
       "|       0       |   1933   |      0       |  98028  | 47.73792661 |\n",
       "|      910      |   1965   |      0       |  98136  |   47.52082  |\n",
       "|       0       |   1987   |      0       |  98074  | 47.61681228 |\n",
       "|      1530     |   2001   |      0       |  98053  | 47.65611835 |\n",
       "|       0       |   1995   |      0       |  98003  | 47.30972002 |\n",
       "|       0       |   1963   |      0       |  98198  | 47.40949984 |\n",
       "|      730      |   1960   |      0       |  98146  | 47.51229381 |\n",
       "|       0       |   2003   |      0       |  98038  | 47.36840673 |\n",
       "+---------------+----------+--------------+---------+-------------+\n",
       "+---------------+---------------+-----+\n",
       "|      long     | sqft_living15 | ... |\n",
       "+---------------+---------------+-----+\n",
       "| -122.25677536 |     1340.0    | ... |\n",
       "|  -122.3188624 |     1690.0    | ... |\n",
       "| -122.23319601 |     2720.0    | ... |\n",
       "| -122.39318505 |     1360.0    | ... |\n",
       "| -122.04490059 |     1800.0    | ... |\n",
       "| -122.00528655 |     4760.0    | ... |\n",
       "| -122.32704857 |     2238.0    | ... |\n",
       "| -122.31457273 |     1650.0    | ... |\n",
       "| -122.33659507 |     1780.0    | ... |\n",
       "|  -122.0308176 |     2390.0    | ... |\n",
       "+---------------+---------------+-----+\n",
       "[21613 rows x 21 columns]\n",
       "Note: Only the head of the SFrame is printed.\n",
       "You can use print_rows(num_rows=m, num_columns=n) to print more rows and columns."
      ]
     },
     "execution_count": 4,
     "metadata": {},
     "output_type": "execute_result"
    }
   ],
   "source": [
    "sales = graphlab.SFrame('kc_house_data.gl/')\n",
    "\n",
    "sales"
   ]
  },
  {
   "cell_type": "markdown",
   "metadata": {},
   "source": [
    "# Split data into training and testing"
   ]
  },
  {
   "cell_type": "markdown",
   "metadata": {},
   "source": [
    "We use seed=0 so that everyone running this notebook gets the same results.  In practice, you may set a random seed (or let GraphLab Create pick a random seed for you).  "
   ]
  },
  {
   "cell_type": "code",
   "execution_count": 15,
   "metadata": {},
   "outputs": [
    {
     "data": {
      "application/javascript": [
       "$(\"head\").append($(\"<link/>\").attr({\n",
       "  rel:  \"stylesheet\",\n",
       "  type: \"text/css\",\n",
       "  href: \"//cdnjs.cloudflare.com/ajax/libs/font-awesome/4.1.0/css/font-awesome.min.css\"\n",
       "}));\n",
       "$(\"head\").append($(\"<link/>\").attr({\n",
       "  rel:  \"stylesheet\",\n",
       "  type: \"text/css\",\n",
       "  href: \"https://static.turi.com/products/graphlab-create/2.1/canvas/css/canvas.css\"\n",
       "}));\n",
       "\n",
       "            (function(){\n",
       "\n",
       "                var e = null;\n",
       "                if (typeof element == 'undefined') {\n",
       "                    var scripts = document.getElementsByTagName('script');\n",
       "                    var thisScriptTag = scripts[scripts.length-1];\n",
       "                    var parentDiv = thisScriptTag.parentNode;\n",
       "                    e = document.createElement('div');\n",
       "                    parentDiv.appendChild(e);\n",
       "                } else {\n",
       "                    e = element[0];\n",
       "                }\n",
       "\n",
       "                if (typeof requirejs !== 'undefined') {\n",
       "                    // disable load timeout; ipython_app.js is large and can take a while to load.\n",
       "                    requirejs.config({waitSeconds: 0});\n",
       "                }\n",
       "\n",
       "                require(['https://static.turi.com/products/graphlab-create/2.1/canvas/js/ipython_app.js'], function(IPythonApp){\n",
       "                    var app = new IPythonApp();\n",
       "                    app.attachView('sframe','Plots', {\"selected_variable\": {\"name\": [\"sales\"], \"descriptives\": {\"rows\": 21613, \"columns\": 21}, \"view_component\": \"Plots\", \"view_file\": \"sframe\", \"view_params\": {\"y\": \"price\", \"x\": \"sqft_living\", \"columns\": [\"id\", \"date\", \"price\", \"bedrooms\", \"bathrooms\", \"sqft_living\", \"sqft_lot\", \"floors\", \"waterfront\", \"view\", \"condition\", \"grade\", \"sqft_above\", \"sqft_basement\", \"yr_built\", \"yr_renovated\", \"zipcode\", \"lat\", \"long\", \"sqft_living15\", \"sqft_lot15\"], \"view\": \"Scatter Plot\"}, \"view_components\": [\"Summary\", \"Table\", \"Bar Chart\", \"BoxWhisker Plot\", \"Line Chart\", \"Scatter Plot\", \"Heat Map\", \"Plots\"], \"type\": \"SFrame\", \"columns\": [{\"dtype\": \"str\", \"name\": \"id\"}, {\"dtype\": \"datetime\", \"name\": \"date\"}, {\"dtype\": \"float\", \"name\": \"price\"}, {\"dtype\": \"float\", \"name\": \"bedrooms\"}, {\"dtype\": \"float\", \"name\": \"bathrooms\"}, {\"dtype\": \"float\", \"name\": \"sqft_living\"}, {\"dtype\": \"int\", \"name\": \"sqft_lot\"}, {\"dtype\": \"str\", \"name\": \"floors\"}, {\"dtype\": \"int\", \"name\": \"waterfront\"}, {\"dtype\": \"int\", \"name\": \"view\"}, {\"dtype\": \"int\", \"name\": \"condition\"}, {\"dtype\": \"int\", \"name\": \"grade\"}, {\"dtype\": \"int\", \"name\": \"sqft_above\"}, {\"dtype\": \"int\", \"name\": \"sqft_basement\"}, {\"dtype\": \"int\", \"name\": \"yr_built\"}, {\"dtype\": \"int\", \"name\": \"yr_renovated\"}, {\"dtype\": \"str\", \"name\": \"zipcode\"}, {\"dtype\": \"float\", \"name\": \"lat\"}, {\"dtype\": \"float\", \"name\": \"long\"}, {\"dtype\": \"float\", \"name\": \"sqft_living15\"}, {\"dtype\": \"float\", \"name\": \"sqft_lot15\"}], \"column_identifiers\": [\"bathrooms\", \"sqft_living15\", \"sqft_above\", \"grade\", \"yr_built\", \"price\", \"bedrooms\", \"zipcode\", \"long\", \"id\", \"sqft_lot15\", \"sqft_living\", \"floors\", \"sqft_lot\", \"date\", \"waterfront\", \"sqft_basement\", \"yr_renovated\", \"lat\", \"condition\", \"view\"]}, \"complete\": 1, \"ipython\": true, \"progress\": 1.0, \"data\": [[1690.0, 257500.0], [2630.0, 270000.0], [2530.0, 350000.0], [2840.0, 535000.0], [3520.0, 760000.0], [1010.0, 180000.0], [4110.0, 825000.0], [3370.0, 806000.0], [1260.0, 245560.0], [2320.0, 694000.0], [1560.0, 435000.0], [1530.0, 607500.0], [4290.0, 2680000.0], [3140.0, 780000.0], [3240.0, 1234582.0], [1180.0, 400000.0], [940.0, 185900.0], [2810.0, 571500.0], [2160.0, 820000.0], [2400.0, 456500.0], [2390.0, 770126.0], [2080.0, 550000.0], [1670.0, 294000.0], [1710.0, 675000.0], [2230.0, 920000.0], [1670.0, 373000.0], [2540.0, 945000.0], [1840.0, 329000.0], [1210.0, 483300.0], [1510.0, 269950.0], [2320.0, 580500.0], [3160.0, 1190000.0], [7620.0, 1680000.0], [3830.0, 1850000.0], [2390.0, 535000.0], [1620.0, 305000.0], [1680.0, 450000.0], [4590.0, 1720000.0], [1510.0, 489000.0], [1280.0, 415000.0], [1590.0, 720000.0], [1620.0, 580000.0], [2120.0, 379500.0], [1489.0, 260000.0], [2850.0, 1600000.0], [2000.0, 443950.0], [1950.0, 425000.0], [1950.0, 275000.0], [3030.0, 837219.0], [3990.0, 668000.0], [1570.0, 274950.0], [2100.0, 207000.0], [2760.0, 834538.0], [2050.0, 629000.0], [4240.0, 1393000.0], [1630.0, 249000.0], [3250.0, 718000.0], [1070.0, 200000.0], [2210.0, 635250.0], [1440.0, 457000.0], [1580.0, 305000.0], [1000.0, 425000.0], [1890.0, 375000.0], [690.0, 142500.0], [1280.0, 299500.0], [2550.0, 808000.0], [3320.0, 622500.0], [2680.0, 400000.0], [3100.0, 894400.0], [2880.0, 440000.0], [4360.0, 1289990.0], [2200.0, 637000.0], [2120.0, 400000.0], [2410.0, 365000.0], [1720.0, 547000.0], [2180.0, 830000.0], [2030.0, 765000.0], [2450.0, 836000.0], [1740.0, 525000.0], [1830.0, 275000.0], [770.0, 264950.0], [1940.0, 555000.0], [4400.0, 1800000.0], [2170.0, 399000.0], [3080.0, 1125000.0], [4883.0, 537000.0], [3070.0, 1295000.0], [2680.0, 775000.0], [1360.0, 273500.0], [2270.0, 596000.0], [2310.0, 524000.0], [2220.0, 464000.0], [2770.0, 1306000.0], [3223.0, 469950.0], [1340.0, 239000.0], [1480.0, 310000.0], [1960.0, 247500.0], [2340.0, 360000.0], [1840.0, 660000.0], [1250.0, 338000.0], [1540.0, 503000.0], [2610.0, 810000.0], [1580.0, 254999.0], [1040.0, 299000.0], [2020.0, 475000.0], [1860.0, 860000.0], [1390.0, 469000.0], [2600.0, 444500.0], [990.0, 402500.0], [1070.0, 420000.0], [1920.0, 571000.0], [2240.0, 535000.0], [2470.0, 350000.0], [2040.0, 355000.0], [3230.0, 480000.0], [2430.0, 255000.0], [2850.0, 360000.0], [1670.0, 680000.0], [2620.0, 399000.0], [2360.0, 260000.0], [1310.0, 575000.0], [3500.0, 799000.0], [1770.0, 248000.0], [5820.0, 784500.0], [1760.0, 608000.0], [1000.0, 225000.0], [1520.0, 460000.0], [2100.0, 305000.0], [2105.0, 330000.0], [1370.0, 160000.0], [1340.0, 324950.0], [3470.0, 598600.0], [2240.0, 650000.0], [3550.0, 450000.0], [1380.0, 553000.0], [1280.0, 239000.0], [3120.0, 855000.0], [2460.0, 990000.0], [2800.0, 1850000.0], [2320.0, 325900.0], [1210.0, 208000.0], [930.0, 360000.0], [3680.0, 425000.0], [1960.0, 449000.0], [1670.0, 256703.0], [2320.0, 310000.0], [1330.0, 236000.0], [1600.0, 280000.0], [3170.0, 660000.0], [1430.0, 485000.0], [2230.0, 700000.0], [3110.0, 367500.0], [3190.0, 925000.0], [2734.0, 520000.0], [3110.0, 1300000.0], [4500.0, 785000.0], [2740.0, 515000.0], [2480.0, 610000.0], [1870.0, 325000.0], [2340.0, 314000.0], [2510.0, 955000.0], [2030.0, 618080.0], [2180.0, 499900.0], [1020.0, 208000.0], [2020.0, 420000.0], [1680.0, 290500.0], [1390.0, 270000.0], [3620.0, 1490000.0], [2230.0, 590000.0], [570.0, 260000.0], [1220.0, 255000.0], [1610.0, 659950.0], [1900.0, 450000.0], [1040.0, 285650.0], [1040.0, 390000.0], [2080.0, 898888.0], [2240.0, 625000.0], [1480.0, 449250.0], [740.0, 157500.0], [1480.0, 350000.0], [1020.0, 214000.0], [2380.0, 470000.0], [1920.0, 245000.0], [1750.0, 250000.0], [1500.0, 244000.0], [1630.0, 437500.0], [1900.0, 255000.0], [1450.0, 680000.0], [770.0, 290000.0], [2040.0, 555000.0], [2200.0, 465000.0], [3340.0, 720000.0], [1230.0, 387000.0], [1260.0, 503000.0], [2670.0, 345000.0], [2990.0, 675000.0], [4050.0, 925000.0], [2570.0, 655000.0], [2190.0, 650000.0], [1470.0, 479000.0], [860.0, 210000.0], [4160.0, 1699000.0], [960.0, 290000.0], [1040.0, 687500.0], [2220.0, 467000.0], [3090.0, 1629000.0], [2440.0, 677900.0], [3410.0, 471000.0], [800.0, 405000.0], [820.0, 173000.0], [1480.0, 285000.0], [1770.0, 440000.0], [1300.0, 562500.0], [1750.0, 524950.0], [1611.0, 850000.0], [3160.0, 757500.0], [2350.0, 1620000.0], [2140.0, 680000.0], [2220.0, 437000.0], [1410.0, 307000.0], [1810.0, 513000.0], [2350.0, 895000.0], [1600.0, 408000.0], [1220.0, 415000.0], [2830.0, 795000.0], [1440.0, 330000.0], [3140.0, 570000.0], [1630.0, 312900.0], [1440.0, 440000.0], [2060.0, 418500.0], [1970.0, 509950.0], [1230.0, 349950.0], [2120.0, 600000.0], [1100.0, 325000.0], [1630.0, 497000.0], [1170.0, 415000.0], [1020.0, 293000.0], [1740.0, 415000.0], [2080.0, 368000.0], [1220.0, 210500.0], [1250.0, 355000.0], [1990.0, 595000.0], [4510.0, 1057000.0], [1940.0, 311500.0], [1620.0, 395000.0], [2330.0, 389000.0], [3990.0, 1500000.0], [1370.0, 325000.0], [1600.0, 265000.0], [1190.0, 229000.0], [3790.0, 2200000.0], [1060.0, 826000.0], [2578.0, 400950.0], [3000.0, 759900.0], [1730.0, 245000.0], [2050.0, 528000.0], [2080.0, 689000.0], [4410.0, 1881583.0], [1140.0, 160000.0], [2610.0, 337000.0], [1450.0, 440000.0], [1270.0, 237000.0], [1140.0, 517000.0], [4140.0, 1060000.0], [2150.0, 468000.0], [1970.0, 575000.0], [1550.0, 350000.0], [2400.0, 505000.0], [3110.0, 436500.0], [740.0, 392800.0], [5310.0, 1365000.0], [2260.0, 714000.0], [2050.0, 700000.0], [1640.0, 295000.0], [3390.0, 1054690.0], [1620.0, 580000.0], [1450.0, 490000.0], [1400.0, 230000.0], [1200.0, 165050.0], [2390.0, 405000.0], [3000.0, 379000.0], [1850.0, 268000.0], [2340.0, 339900.0], [1890.0, 524950.0], [1200.0, 249000.0], [1500.0, 170000.0], [2350.0, 880000.0], [1570.0, 273950.0], [2900.0, 675000.0], [1790.0, 346000.0], [1610.0, 288000.0], [2850.0, 335000.0], [3060.0, 475000.0], [3280.0, 580000.0], [4010.0, 1511250.0], [1800.0, 340000.0], [2280.0, 345000.0], [2600.0, 780000.0], [2180.0, 650000.0], [1580.0, 575000.0], [2490.0, 390000.0], [880.0, 105000.0], [4410.0, 600000.0], [2250.0, 559000.0], [3890.0, 1102030.0], [1430.0, 650000.0], [1180.0, 275000.0], [1190.0, 332900.0], [3490.0, 715000.0], [770.0, 156000.0], [1390.0, 319000.0], [1510.0, 400000.0], [2656.0, 495000.0], [4290.0, 1384000.0], [2530.0, 880000.0], [1950.0, 305000.0], [2670.0, 535000.0], [1560.0, 592000.0], [2020.0, 490000.0], [2840.0, 600000.0], [1860.0, 301350.0], [2160.0, 670000.0], [1450.0, 230000.0], [1830.0, 600000.0], [1240.0, 214000.0], [1140.0, 400000.0], [1480.0, 243000.0], [1300.0, 562000.0], [1780.0, 450000.0], [4750.0, 2175000.0], [2120.0, 425000.0], [1350.0, 304950.0], [1810.0, 295000.0], [1760.0, 1150000.0], [1680.0, 394000.0], [800.0, 353500.0], [1894.0, 280000.0], [3030.0, 815000.0], [1560.0, 604000.0], [2470.0, 525000.0], [5290.0, 1690000.0], [2620.0, 975000.0], [2350.0, 613500.0], [1470.0, 650000.0], [1080.0, 225000.0], [2730.0, 780000.0], [4810.0, 1295648.0], [1470.0, 630000.0], [3910.0, 489000.0], [2520.0, 610685.0], [2220.0, 260000.0], [3674.0, 699950.0], [3133.0, 685000.0], [1260.0, 350000.0], [2242.0, 329900.0], [1300.0, 170000.0], [2330.0, 780000.0], [3090.0, 1000000.0], [3150.0, 1900000.0], [2480.0, 415000.0], [2600.0, 482000.0], [2240.0, 500000.0], [2440.0, 548000.0], [3910.0, 1749000.0], [1920.0, 372000.0], [2130.0, 325000.0], [2190.0, 620000.0], [2720.0, 665000.0], [3220.0, 485000.0], [2100.0, 640000.0], [1360.0, 370000.0], [910.0, 85000.0], [1270.0, 433000.0], [2470.0, 660000.0], [1570.0, 169000.0], [2210.0, 294000.0], [3080.0, 635000.0], [700.0, 175000.0], [1400.0, 322000.0], [1920.0, 715000.0], [1640.0, 505400.0], [1730.0, 465000.0], [2732.0, 480000.0], [1000.0, 210000.0], [2350.0, 245000.0], [2600.0, 512000.0], [1830.0, 379500.0], [1830.0, 460000.0], [3140.0, 1640000.0], [1780.0, 760000.0], [1890.0, 465500.0], [2080.0, 360000.0], [2880.0, 680000.0], [1820.0, 286000.0], [3840.0, 1118000.0], [1280.0, 540000.0], [1880.0, 617000.0], [3210.0, 770000.0], [1850.0, 399950.0], [1680.0, 372500.0], [1500.0, 337900.0], [1700.0, 410000.0], [940.0, 342500.0], [3110.0, 485000.0], [2300.0, 350000.0], [1510.0, 327000.0], [3640.0, 630000.0], [2480.0, 399000.0], [1520.0, 500000.0], [2640.0, 895000.0], [1510.0, 415000.0], [2480.0, 350000.0], [2220.0, 475000.0], [1580.0, 225000.0], [1470.0, 262500.0], [2740.0, 660000.0], [2260.0, 833000.0], [4970.0, 1436000.0], [1300.0, 175000.0], [2480.0, 408506.0], [1340.0, 192000.0], [2130.0, 732600.0], [4430.0, 1960000.0], [4040.0, 860000.0], [2030.0, 550000.0], [1660.0, 545000.0], [3620.0, 2230000.0], [1950.0, 269000.0], [2960.0, 883000.0], [1600.0, 460000.0], [1420.0, 425000.0], [2010.0, 559000.0], [1420.0, 264250.0], [4690.0, 932808.0], [750.0, 319000.0], [1430.0, 234950.0], [2420.0, 380000.0], [2434.0, 285000.0], [2670.0, 750000.0], [1530.0, 620000.0], [1800.0, 607500.0], [1380.0, 365000.0], [1120.0, 362000.0], [1670.0, 697000.0], [1570.0, 547000.0], [1820.0, 425000.0], [3410.0, 815000.0], [1610.0, 375000.0], [1280.0, 296500.0], [1610.0, 269950.0], [1380.0, 365000.0], [2600.0, 641000.0], [2520.0, 415000.0], [1830.0, 323000.0], [4930.0, 1465000.0], [1380.0, 380000.0], [1540.0, 325500.0], [1260.0, 452000.0], [3930.0, 828950.0], [1350.0, 397500.0], [1920.0, 900000.0], [1470.0, 299900.0], [2680.0, 653000.0], [4420.0, 2700000.0], [1460.0, 521000.0], [2110.0, 565000.0], [1340.0, 172000.0], [1130.0, 565000.0], [2800.0, 529000.0], [1920.0, 625000.0], [2530.0, 417838.0], [2290.0, 620000.0], [1480.0, 501000.0], [760.0, 415000.0], [3390.0, 859900.0], [4780.0, 1640000.0], [1870.0, 460000.0], [1920.0, 495000.0], [1370.0, 600000.0], [1030.0, 326000.0], [1420.0, 269000.0], [1510.0, 185000.0], [1960.0, 372000.0], [2400.0, 608000.0], [990.0, 191000.0], [2160.0, 295000.0], [1660.0, 535000.0], [1680.0, 466000.0], [1980.0, 775000.0], [3540.0, 1348000.0], [1790.0, 380000.0], [1650.0, 402500.0], [4190.0, 2546000.0], [1430.0, 397500.0], [1630.0, 350000.0], [2680.0, 437500.0], [1660.0, 432000.0], [1610.0, 259000.0], [4210.0, 900000.0], [1690.0, 390000.0], [2880.0, 535000.0], [1650.0, 275000.0], [4690.0, 1015000.0], [1960.0, 285750.0], [2510.0, 706000.0], [3460.0, 855000.0], [2190.0, 255000.0], [1320.0, 330000.0], [1830.0, 440000.0], [1490.0, 242150.0], [2770.0, 675750.0], [2120.0, 470000.0], [1300.0, 247500.0], [1960.0, 275000.0], [2060.0, 460000.0], [2000.0, 349950.0], [2050.0, 299000.0], [2760.0, 1340000.0], [1430.0, 330000.0], [2170.0, 802000.0], [2330.0, 650000.0], [1980.0, 405000.0], [2350.0, 360000.0], [3560.0, 770000.0], [3080.0, 300000.0], [1260.0, 342000.0], [1260.0, 295000.0], [2530.0, 450000.0], [3390.0, 735000.0], [2460.0, 600000.0], [1240.0, 347000.0], [1410.0, 399900.0], [2350.0, 625000.0], [2440.0, 745641.0], [2210.0, 614306.0], [1660.0, 650000.0], [1410.0, 230000.0], [1240.0, 355000.0], [1870.0, 315500.0], [3030.0, 790000.0], [1740.0, 445000.0], [1350.0, 288790.0], [2310.0, 817000.0], [1460.0, 675000.0], [2680.0, 525000.0], [2680.0, 1309500.0], [1370.0, 388000.0], [1500.0, 470000.0], [2500.0, 368000.0], [1460.0, 580000.0], [2730.0, 678000.0], [3284.0, 460458.0], [3480.0, 780000.0], [1140.0, 120750.0], [1030.0, 315000.0], [1480.0, 778100.0], [5570.0, 1855000.0], [1720.0, 439950.0], [1690.0, 719000.0], [2720.0, 835000.0], [2580.0, 456500.0], [2340.0, 539000.0], [1370.0, 229000.0], [1340.0, 399000.0], [3570.0, 2200000.0], [3080.0, 585000.0], [1390.0, 270000.0], [1690.0, 550000.0], [1080.0, 157000.0], [840.0, 295000.0], [2448.0, 447055.0], [2020.0, 1225000.0], [1610.0, 630000.0], [1170.0, 225000.0], [2420.0, 339900.0], [1290.0, 521450.0], [2950.0, 610000.0], [2310.0, 588000.0], [1070.0, 217500.0], [800.0, 402500.0], [3280.0, 825000.0], [1640.0, 525000.0], [1070.0, 425000.0], [2710.0, 690000.0], [860.0, 278000.0], [1280.0, 520000.0], [2160.0, 640000.0], [2180.0, 1410000.0], [1930.0, 325000.0], [2520.0, 825000.0], [1880.0, 545000.0], [910.0, 275000.0], [1510.0, 450000.0], [1060.0, 206000.0], [1310.0, 235000.0], [1420.0, 300000.0], [1400.0, 372500.0], [1360.0, 260000.0], [1710.0, 397000.0], [2190.0, 833000.0], [4700.0, 1175000.0], [3190.0, 2125000.0], [780.0, 464050.0], [1790.0, 263000.0], [1530.0, 320000.0], [2970.0, 640000.0], [1020.0, 210000.0], [2100.0, 342500.0], [1088.0, 250000.0], [2900.0, 800000.0], [1560.0, 226500.0], [1800.0, 265000.0], [2090.0, 632500.0], [1110.0, 320000.0], [1280.0, 242000.0], [1820.0, 425000.0], [2650.0, 1008000.0], [2470.0, 609000.0], [2240.0, 495000.0], [670.0, 295000.0], [2350.0, 659000.0], [3140.0, 464000.0], [2260.0, 925000.0], [2180.0, 540000.0], [2420.0, 376000.0], [1340.0, 415000.0], [2590.0, 570000.0], [2710.0, 275000.0], [1480.0, 290000.0], [1160.0, 487000.0], [1150.0, 227500.0], [2170.0, 765000.0], [2150.0, 430000.0], [1490.0, 289999.0], [930.0, 358000.0], [850.0, 389000.0], [2620.0, 900000.0], [2140.0, 495000.0], [1020.0, 303000.0], [2640.0, 518000.0], [1690.0, 338000.0], [3250.0, 699188.0], [1590.0, 572500.0], [1390.0, 190000.0], [800.0, 265000.0], [2880.0, 660000.0], [1790.0, 312000.0], [2980.0, 932800.0], [1410.0, 350000.0], [1680.0, 550285.0], [940.0, 350000.0], [1040.0, 170000.0], [1830.0, 274000.0], [1900.0, 855000.0], [1410.0, 274800.0], [2470.0, 445000.0], [3760.0, 838300.0], [1580.0, 749000.0], [930.0, 306000.0], [2220.0, 532500.0], [950.0, 230000.0], [3010.0, 847000.0], [1640.0, 450000.0], [4130.0, 995000.0], [1540.0, 259950.0], [1460.0, 245000.0], [4040.0, 1388000.0], [1960.0, 425000.0], [2360.0, 550000.0], [2740.0, 779000.0], [2360.0, 431000.0], [2600.0, 392000.0], [980.0, 393000.0], [1500.0, 405000.0], [2170.0, 442500.0], [3990.0, 1200000.0], [3660.0, 1506000.0], [1070.0, 327000.0], [2090.0, 566000.0], [1780.0, 398500.0], [1600.0, 502000.0], [2780.0, 402500.0], [700.0, 310000.0], [1240.0, 336000.0], [2181.0, 340000.0], [1720.0, 427000.0], [1630.0, 230000.0], [1590.0, 338000.0], [1880.0, 340000.0], [1300.0, 300000.0], [2170.0, 913000.0], [660.0, 227450.0], [1450.0, 360000.0], [1850.0, 270000.0], [1780.0, 272000.0], [1410.0, 245000.0], [3440.0, 785000.0], [2620.0, 450000.0], [3600.0, 1075000.0], [2375.0, 712000.0], [2480.0, 690000.0], [2990.0, 900000.0], [1440.0, 487000.0], [1650.0, 619000.0], [1520.0, 810000.0], [790.0, 375000.0], [2700.0, 552500.0], [960.0, 457500.0], [3530.0, 1550000.0], [1690.0, 498000.0], [1220.0, 250000.0], [1650.0, 360000.0], [1440.0, 330490.0], [1010.0, 201000.0], [3160.0, 1078000.0], [2900.0, 696000.0], [770.0, 197000.0], [1552.0, 264000.0], [1370.0, 175000.0], [1470.0, 380000.0], [2250.0, 363000.0], [2050.0, 568000.0], [1670.0, 310000.0], [1720.0, 380000.0], [940.0, 255000.0], [4000.0, 570000.0], [1440.0, 210000.0], [2460.0, 485000.0], [2790.0, 1131000.0], [3890.0, 1185000.0], [2530.0, 380000.0], [2670.0, 465000.0], [2090.0, 403000.0], [1760.0, 322000.0], [3750.0, 775000.0], [3370.0, 1245000.0], [1410.0, 550000.0], [1970.0, 460000.0], [2110.0, 320000.0], [1580.0, 475000.0], [1290.0, 359950.0], [540.0, 425000.0], [2650.0, 699000.0], [1960.0, 500000.0], [3220.0, 430000.0], [4000.0, 802945.0], [1870.0, 355000.0], [3180.0, 680000.0], [990.0, 225000.0], [1790.0, 392000.0], [960.0, 525000.0], [2090.0, 385000.0], [4010.0, 1096500.0], [2330.0, 350000.0], [900.0, 350000.0], [2080.0, 315000.0], [1740.0, 600000.0], [1740.0, 329950.0], [1320.0, 200000.0], [3470.0, 834800.0], [2920.0, 675900.0], [2080.0, 555000.0], [2940.0, 780000.0], [1110.0, 452000.0], [1580.0, 190000.0], [1030.0, 650000.0], [1680.0, 555000.0], [1820.0, 275000.0], [2430.0, 760000.0], [4600.0, 800000.0], [3320.0, 950000.0], [4240.0, 1160000.0], [1940.0, 465250.0], [840.0, 199990.0], [2770.0, 825000.0], [980.0, 329000.0], [2910.0, 925000.0], [1740.0, 225000.0], [1850.0, 819000.0], [2170.0, 366000.0], [2930.0, 840000.0], [1940.0, 627000.0], [1330.0, 539950.0], [2900.0, 926500.0], [2050.0, 655275.0], [2360.0, 871000.0], [2300.0, 590000.0], [2090.0, 460000.0], [3340.0, 870000.0], [1800.0, 408200.0], [1040.0, 450000.0], [1460.0, 602000.0], [940.0, 212700.0], [1520.0, 508450.0], [2210.0, 589000.0], [1370.0, 390000.0], [2010.0, 699000.0], [3030.0, 794500.0], [2810.0, 750000.0], [4270.0, 1100000.0], [2100.0, 305000.0], [3190.0, 1216000.0], [1910.0, 585000.0], [1750.0, 247000.0], [2420.0, 697000.0], [2180.0, 485000.0], [2475.0, 319900.0], [1020.0, 300000.0], [2160.0, 499950.0], [1650.0, 238000.0], [1600.0, 384500.0], [2290.0, 622500.0], [2180.0, 727000.0], [2060.0, 647500.0], [1480.0, 459000.0], [2660.0, 379000.0], [2230.0, 500000.0], [1510.0, 479200.0], [840.0, 202000.0], [1430.0, 246500.0], [1230.0, 278000.0], [1520.0, 434900.0], [2140.0, 603500.0], [3300.0, 760000.0], [1610.0, 393000.0], [1540.0, 176000.0], [1210.0, 205000.0], [2120.0, 582000.0], [2480.0, 855000.0], [1610.0, 590000.0], [1220.0, 575000.0], [1420.0, 485000.0], [1790.0, 409950.0], [5430.0, 1240000.0], [1440.0, 439950.0], [1500.0, 435000.0], [1060.0, 420000.0], [2311.0, 399440.0], [2610.0, 350000.0], [1690.0, 519990.0], [3010.0, 700000.0], [1310.0, 525000.0], [1920.0, 571500.0], [2990.0, 760000.0], [1610.0, 275000.0], [940.0, 435000.0], [2120.0, 597000.0], [2240.0, 600000.0], [2240.0, 337000.0], [1670.0, 985000.0], [1700.0, 750000.0], [2080.0, 286950.0], [1480.0, 269950.0], [2007.0, 305950.0], [2760.0, 375000.0], [1820.0, 239975.0], [1930.0, 421000.0], [1090.0, 394950.0], [1320.0, 447000.0], [1200.0, 150000.0], [2720.0, 645000.0], [1620.0, 218000.0], [2280.0, 721000.0], [3920.0, 760000.0], [1090.0, 249950.0], [2390.0, 360000.0], [2490.0, 616950.0], [1860.0, 352500.0], [2040.0, 346950.0], [1370.0, 469000.0], [1670.0, 500000.0], [2090.0, 491950.0], [1760.0, 247500.0], [2460.0, 427500.0], [1090.0, 460000.0], [2800.0, 677790.0], [2350.0, 870300.0], [1560.0, 400000.0], [1020.0, 229000.0], [1150.0, 185000.0], [1900.0, 250000.0], [1230.0, 549000.0], [1100.0, 353000.0], [2630.0, 430000.0], [1710.0, 529999.0], [1550.0, 318500.0], [3216.0, 498445.0], [2740.0, 535000.0], [1850.0, 245000.0], [1350.0, 270000.0], [2600.0, 805000.0], [2190.0, 450000.0], [4670.0, 1415000.0], [3840.0, 875000.0], [950.0, 469000.0], [2529.0, 370950.0], [3150.0, 700000.0], [1640.0, 832600.0], [4050.0, 450000.0], [830.0, 393000.0], [1480.0, 215000.0], [3050.0, 1030000.0], [910.0, 400000.0], [1610.0, 305000.0], [2480.0, 495000.0], [2130.0, 955500.0], [1370.0, 545000.0], [3070.0, 664500.0], [2820.0, 690000.0], [2810.0, 550000.0], [2420.0, 1490000.0], [2230.0, 347500.0], [840.0, 290000.0], [1820.0, 430000.0], [3266.0, 424950.0], [2630.0, 738000.0], [3090.0, 458000.0], [2250.0, 474950.0], [2250.0, 1060000.0], [3270.0, 485000.0], [5270.0, 782000.0], [2980.0, 620000.0], [820.0, 208000.0], [2350.0, 430000.0], [2290.0, 500000.0], [1130.0, 420000.0], [1810.0, 585000.0], [2828.0, 367000.0], [1240.0, 400000.0], [1860.0, 410000.0], [1800.0, 440000.0], [2470.0, 503000.0], [1590.0, 411000.0], [1090.0, 152000.0], [1430.0, 213950.0], [5000.0, 1730000.0], [3970.0, 949990.0], [1060.0, 299995.0], [1550.0, 525000.0], [2440.0, 749500.0], [1540.0, 515000.0], [2040.0, 540000.0], [1290.0, 781000.0], [1580.0, 558000.0], [3840.0, 970000.0], [1900.0, 235000.0], [3310.0, 803100.0], [2340.0, 982218.0], [1540.0, 550000.0], [2920.0, 650000.0], [1232.0, 344000.0], [1980.0, 810000.0], [1400.0, 315000.0], [1640.0, 308000.0], [1550.0, 432000.0], [2620.0, 672000.0], [1660.0, 165000.0], [3560.0, 1364000.0], [1390.0, 190500.0], [1730.0, 265000.0], [2360.0, 550000.0], [1300.0, 570000.0], [1860.0, 265000.0], [2330.0, 420000.0], [2460.0, 445000.0], [4720.0, 1525000.0], [5010.0, 2351956.0], [2620.0, 720000.0], [2014.0, 321000.0], [2080.0, 267500.0], [1900.0, 566000.0], [2070.0, 490000.0], [960.0, 345000.0], [2380.0, 340000.0], [1160.0, 312000.0], [2100.0, 440000.0], [890.0, 285000.0], [1370.0, 815000.0], [1830.0, 285000.0], [2270.0, 258000.0], [1880.0, 310000.0], [1300.0, 415000.0], [1120.0, 469000.0], [680.0, 510000.0], [3060.0, 708000.0], [4220.0, 1165000.0], [1900.0, 250000.0], [1990.0, 467000.0], [990.0, 245000.0], [1740.0, 517000.0], [770.0, 277000.0], [2160.0, 585000.0], [2780.0, 645000.0], [1680.0, 550000.0], [2329.0, 327555.0], [4320.0, 1800000.0], [1390.0, 657100.0], [4440.0, 1730000.0], [2200.0, 559900.0], [2000.0, 593000.0]], \"columns\": [{\"dtype\": \"str\", \"name\": \"id\"}, {\"dtype\": \"datetime\", \"name\": \"date\"}, {\"dtype\": \"float\", \"name\": \"price\"}, {\"dtype\": \"float\", \"name\": \"bedrooms\"}, {\"dtype\": \"float\", \"name\": \"bathrooms\"}, {\"dtype\": \"float\", \"name\": \"sqft_living\"}, {\"dtype\": \"int\", \"name\": \"sqft_lot\"}, {\"dtype\": \"str\", \"name\": \"floors\"}, {\"dtype\": \"int\", \"name\": \"waterfront\"}, {\"dtype\": \"int\", \"name\": \"view\"}, {\"dtype\": \"int\", \"name\": \"condition\"}, {\"dtype\": \"int\", \"name\": \"grade\"}, {\"dtype\": \"int\", \"name\": \"sqft_above\"}, {\"dtype\": \"int\", \"name\": \"sqft_basement\"}, {\"dtype\": \"int\", \"name\": \"yr_built\"}, {\"dtype\": \"int\", \"name\": \"yr_renovated\"}, {\"dtype\": \"str\", \"name\": \"zipcode\"}, {\"dtype\": \"float\", \"name\": \"lat\"}, {\"dtype\": \"float\", \"name\": \"long\"}, {\"dtype\": \"float\", \"name\": \"sqft_living15\"}, {\"dtype\": \"float\", \"name\": \"sqft_lot15\"}]}, e);\n",
       "                });\n",
       "            })();\n",
       "        "
      ]
     },
     "metadata": {},
     "output_type": "display_data"
    }
   ],
   "source": [
    "train_data,test_data = sales.random_split(.8,seed=0)\n",
    "\n",
    "graphlab.canvas.set_target('ipynb')\n",
    "sales.show(view=\"Scatter Plot\", x=\"sqft_living\", y=\"price\")"
   ]
  },
  {
   "cell_type": "markdown",
   "metadata": {},
   "source": [
    "# Useful SFrame summary functions"
   ]
  },
  {
   "cell_type": "markdown",
   "metadata": {},
   "source": [
    "In order to make use of the closed form solution as well as take advantage of graphlab's built in functions we will review some important ones. In particular:\n",
    "* Computing the sum of an SArray\n",
    "* Computing the arithmetic average (mean) of an SArray\n",
    "* multiplying SArrays by constants\n",
    "* multiplying SArrays by other SArrays"
   ]
  },
  {
   "cell_type": "code",
   "execution_count": 6,
   "metadata": {},
   "outputs": [
    {
     "name": "stdout",
     "output_type": "stream",
     "text": [
      "average price via method 1: 540088.141905\n",
      "average price via method 2: 540088.141905\n"
     ]
    }
   ],
   "source": [
    "# Let's compute the mean of the House Prices in King County in 2 different ways.\n",
    "prices = sales['price'] # extract the price column of the sales SFrame -- this is now an SArray\n",
    "\n",
    "# recall that the arithmetic average (the mean) is the sum of the prices divided by the total number of houses:\n",
    "sum_prices = prices.sum()\n",
    "num_houses = prices.size() # when prices is an SArray .size() returns its length\n",
    "avg_price_1 = sum_prices/num_houses\n",
    "avg_price_2 = prices.mean() # if you just want the average, the .mean() function\n",
    "print (\"average price via method 1: \" + str(avg_price_1))\n",
    "print (\"average price via method 2: \" + str(avg_price_2))"
   ]
  },
  {
   "cell_type": "markdown",
   "metadata": {},
   "source": [
    "As we see we get the same answer both ways"
   ]
  },
  {
   "cell_type": "code",
   "execution_count": 8,
   "metadata": {},
   "outputs": [
    {
     "name": "stdout",
     "output_type": "stream",
     "text": [
      "the sum of price squared is: 9.21732513355e+15\n"
     ]
    }
   ],
   "source": [
    "# if we want to multiply every price by 0.5 it's a simple as:\n",
    "half_prices = 0.5*prices\n",
    "# Let's compute the sum of squares of price. We can multiply two SArrays of the same length elementwise also with *\n",
    "prices_squared = prices*prices\n",
    "sum_prices_squared = prices_squared.sum() # price_squared is an SArray of the squares and we want to add them up.\n",
    "print (\"the sum of price squared is: \" + str(sum_prices_squared))"
   ]
  },
  {
   "cell_type": "markdown",
   "metadata": {},
   "source": [
    "Aside: The python notation x.xxe+yy means x.xx \\* 10^(yy). e.g 100 = 10^2 = 1*10^2 = 1e2 "
   ]
  },
  {
   "cell_type": "markdown",
   "metadata": {},
   "source": [
    "# Build a generic simple linear regression function "
   ]
  },
  {
   "cell_type": "markdown",
   "metadata": {},
   "source": [
    "Armed with these SArray functions we can use the closed form solution found from lecture to compute the slope and intercept for a simple linear regression on observations stored as SArrays: input_feature, output.\n",
    "\n",
    "Complete the following function (or write your own) to compute the simple linear regression slope and intercept:"
   ]
  },
  {
   "cell_type": "code",
   "execution_count": 9,
   "metadata": {},
   "outputs": [],
   "source": [
    "def simple_linear_regression(input_feature, output):\n",
    "    N = input_feature.size()\n",
    "    # compute the sum of input_feature and output\n",
    "    sum_x = input_feature.sum()\n",
    "    sum_y = output.sum()\n",
    "    # compute the product of the output and the input_feature and its sum\n",
    "    sum_xy = (input_feature * output).sum()\n",
    "    # compute the squared value of the input_feature and its sum\n",
    "    sum_squared_x = (input_feature * input_feature).sum()\n",
    "    # use the formula for the slope\n",
    "    slope = (sum_xy - sum_x * sum_y / N) / (sum_squared_x - sum_x * sum_x / N)\n",
    "    # use the formula for the intercept\n",
    "    intercept = (sum_y - slope * sum_x) / N\n",
    "    \n",
    "    return (intercept, slope)"
   ]
  },
  {
   "cell_type": "markdown",
   "metadata": {},
   "source": [
    "We can test that our function works by passing it something where we know the answer. In particular we can generate a feature and then put the output exactly on a line: output = 1 + 1\\*input_feature then we know both our slope and intercept should be 1"
   ]
  },
  {
   "cell_type": "code",
   "execution_count": 27,
   "metadata": {
    "scrolled": true
   },
   "outputs": [
    {
     "name": "stdout",
     "output_type": "stream",
     "text": [
      "Intercept: 1\n",
      "Slope: 1\n"
     ]
    }
   ],
   "source": [
    "test_feature = graphlab.SArray(range(5))\n",
    "test_output = graphlab.SArray(1 + 1*test_feature)\n",
    "(test_intercept, test_slope) =  simple_linear_regression(test_feature, test_output)\n",
    "print (\"Intercept: \" + str(test_intercept))\n",
    "print (\"Slope: \" + str(test_slope))"
   ]
  },
  {
   "cell_type": "markdown",
   "metadata": {},
   "source": [
    "Now that we know it works let's build a regression model for predicting price based on sqft_living. Rembember that we train on train_data!"
   ]
  },
  {
   "cell_type": "code",
   "execution_count": 28,
   "metadata": {},
   "outputs": [
    {
     "name": "stdout",
     "output_type": "stream",
     "text": [
      "Intercept: -47116.0765749\n",
      "Slope: 281.958838568\n"
     ]
    }
   ],
   "source": [
    "sqft_intercept, sqft_slope = simple_linear_regression(train_data['sqft_living'], train_data['price'])\n",
    "\n",
    "print (\"Intercept: \" + str(sqft_intercept))\n",
    "print (\"Slope: \" + str(sqft_slope))"
   ]
  },
  {
   "cell_type": "markdown",
   "metadata": {},
   "source": [
    "# Predicting Values"
   ]
  },
  {
   "cell_type": "markdown",
   "metadata": {},
   "source": [
    "Now that we have the model parameters: intercept & slope we can make predictions. Using SArrays it's easy to multiply an SArray by a constant and add a constant value. Complete the following function to return the predicted output given the input_feature, slope and intercept:"
   ]
  },
  {
   "cell_type": "code",
   "execution_count": 13,
   "metadata": {},
   "outputs": [],
   "source": [
    "def get_regression_predictions(input_feature, intercept, slope):\n",
    "    # calculate the predicted values:\n",
    "    predicted_values = intercept + slope * input_feature\n",
    "    return predicted_values"
   ]
  },
  {
   "cell_type": "markdown",
   "metadata": {},
   "source": [
    "Now that we can calculate a prediction given the slope and intercept let's make a prediction. Use (or alter) the following to find out the estimated price for a house with 2650 squarefeet according to the squarefeet model we estiamted above.\n",
    "\n",
    "**Quiz Question: Using your Slope and Intercept from (4), What is the predicted price for a house with 2650 sqft?**"
   ]
  },
  {
   "cell_type": "code",
   "execution_count": 14,
   "metadata": {},
   "outputs": [
    {
     "name": "stdout",
     "output_type": "stream",
     "text": [
      "The estimated price for a house with 2650 squarefeet is $700074.85\n"
     ]
    }
   ],
   "source": [
    "my_house_sqft = 2650\n",
    "estimated_price = get_regression_predictions(my_house_sqft, sqft_intercept, sqft_slope)\n",
    "print (\"The estimated price for a house with %d squarefeet is $%.2f\" % (my_house_sqft, estimated_price))"
   ]
  },
  {
   "cell_type": "markdown",
   "metadata": {},
   "source": [
    "# Residual Sum of Squares"
   ]
  },
  {
   "cell_type": "markdown",
   "metadata": {},
   "source": [
    "Now that we have a model and can make predictions let's evaluate our model using Residual Sum of Squares (RSS). Recall that RSS is the sum of the squares of the residuals and the residuals is just a fancy word for the difference between the predicted output and the true output. \n",
    "\n",
    "Complete the following (or write your own) function to compute the RSS of a simple linear regression model given the input_feature, output, intercept and slope:"
   ]
  },
  {
   "cell_type": "code",
   "execution_count": 16,
   "metadata": {
    "collapsed": true
   },
   "outputs": [],
   "source": [
    "def get_residual_sum_of_squares(input_feature, output, intercept, slope):\n",
    "    # First get the predictions\n",
    "    predictions = intercept + slope * input_feature\n",
    "    # then compute the residuals (since we are squaring it doesn't matter which order you subtract)\n",
    "    residuals = output - predictions\n",
    "    # square the residuals and add them up\n",
    "    RSS = (residuals * residuals).sum()\n",
    "    return(RSS)"
   ]
  },
  {
   "cell_type": "markdown",
   "metadata": {},
   "source": [
    "Let's test our get_residual_sum_of_squares function by applying it to the test model where the data lie exactly on a line. Since they lie exactly on a line the residual sum of squares should be zero!"
   ]
  },
  {
   "cell_type": "code",
   "execution_count": 19,
   "metadata": {},
   "outputs": [
    {
     "name": "stdout",
     "output_type": "stream",
     "text": [
      "0\n"
     ]
    }
   ],
   "source": [
    "print (get_residual_sum_of_squares(test_feature, test_output, test_intercept, test_slope)) # should be 0.0"
   ]
  },
  {
   "cell_type": "markdown",
   "metadata": {},
   "source": [
    "Now use your function to calculate the RSS on training data from the squarefeet model calculated above.\n",
    "\n",
    "**Quiz Question: According to this function and the slope and intercept from the squarefeet model What is the RSS for the simple linear regression using squarefeet to predict prices on TRAINING data?**"
   ]
  },
  {
   "cell_type": "code",
   "execution_count": 21,
   "metadata": {},
   "outputs": [
    {
     "name": "stdout",
     "output_type": "stream",
     "text": [
      "The RSS of predicting Prices based on Square Feet is : 1.20191835632e+15\n"
     ]
    }
   ],
   "source": [
    "rss_prices_on_sqft = get_residual_sum_of_squares(\n",
    "    train_data['sqft_living'], train_data['price'], sqft_intercept, sqft_slope)\n",
    "\n",
    "print ('The RSS of predicting Prices based on Square Feet is : ' + str(rss_prices_on_sqft))"
   ]
  },
  {
   "cell_type": "markdown",
   "metadata": {},
   "source": [
    "# Predict the squarefeet given price"
   ]
  },
  {
   "cell_type": "markdown",
   "metadata": {},
   "source": [
    "What if we want to predict the squarefoot given the price? Since we have an equation y = a + b\\*x we can solve the function for x. So that if we have the intercept (a) and the slope (b) and the price (y) we can solve for the estimated squarefeet (x).\n",
    "\n",
    "Complete the following function to compute the inverse regression estimate, i.e. predict the input_feature given the output."
   ]
  },
  {
   "cell_type": "code",
   "execution_count": 22,
   "metadata": {
    "collapsed": true
   },
   "outputs": [],
   "source": [
    "def inverse_regression_predictions(output, intercept, slope):\n",
    "    # solve output = intercept + slope*input_feature for input_feature. \n",
    "    # Use this equation to compute the inverse predictions:\n",
    "    estimated_feature = (output - intercept) / slope\n",
    "    return estimated_feature"
   ]
  },
  {
   "cell_type": "markdown",
   "metadata": {},
   "source": [
    "Now that we have a function to compute the squarefeet given the price from our simple regression model let's see how big we might expect a house that costs $800,000 to be.\n",
    "\n",
    "**Quiz Question: According to this function and the regression slope and intercept from (3) what is the estimated square-feet for a house costing $800,000?**"
   ]
  },
  {
   "cell_type": "code",
   "execution_count": 23,
   "metadata": {},
   "outputs": [
    {
     "name": "stdout",
     "output_type": "stream",
     "text": [
      "The estimated squarefeet for a house worth $800000.00 is 3004\n"
     ]
    }
   ],
   "source": [
    "my_house_price = 800000\n",
    "estimated_squarefeet = inverse_regression_predictions(my_house_price, sqft_intercept, sqft_slope)\n",
    "print (\"The estimated squarefeet for a house worth $%.2f is %d\" % (my_house_price, estimated_squarefeet))"
   ]
  },
  {
   "cell_type": "markdown",
   "metadata": {},
   "source": [
    "# New Model: estimate prices from bedrooms"
   ]
  },
  {
   "cell_type": "markdown",
   "metadata": {},
   "source": [
    "We have made one model for predicting house prices using squarefeet, but there are many other features in the sales SFrame. \n",
    "Use your simple linear regression function to estimate the regression parameters from predicting Prices based on number of bedrooms. Use the training data!"
   ]
  },
  {
   "cell_type": "code",
   "execution_count": 25,
   "metadata": {},
   "outputs": [
    {
     "name": "stdout",
     "output_type": "stream",
     "text": [
      "Intercept: 109473.180469\n",
      "Slope: 127588.952175\n"
     ]
    }
   ],
   "source": [
    "# Estimate the slope and intercept for predicting 'price' based on 'bedrooms'\n",
    "\n",
    "bedrooms_intercept, bedrooms_slope = simple_linear_regression(train_data['bedrooms'], train_data['price'])\n",
    "\n",
    "print (\"Intercept: \" + str(bedrooms_intercept))\n",
    "print (\"Slope: \" + str(bedrooms_slope))"
   ]
  },
  {
   "cell_type": "markdown",
   "metadata": {},
   "source": [
    "# Test your Linear Regression Algorithm"
   ]
  },
  {
   "cell_type": "markdown",
   "metadata": {},
   "source": [
    "Now we have two models for predicting the price of a house. How do we know which one is better? Calculate the RSS on the TEST data (remember this data wasn't involved in learning the model). Compute the RSS from predicting prices using bedrooms and from predicting prices using squarefeet.\n",
    "\n",
    "**Quiz Question: Which model (square feet or bedrooms) has lowest RSS on TEST data? Think about why this might be the case.**"
   ]
  },
  {
   "cell_type": "code",
   "execution_count": 30,
   "metadata": {},
   "outputs": [
    {
     "name": "stdout",
     "output_type": "stream",
     "text": [
      "The RSS of predicting Prices based on Square Feet is : 4.93364582868e+14\n"
     ]
    }
   ],
   "source": [
    "# Compute RSS when using bedrooms on TEST data:\n",
    "rss_prices_on_bedrooms = get_residual_sum_of_squares(\n",
    "    test_data['bedrooms'], test_data['price'], bedrooms_intercept, bedrooms_slope)\n",
    "\n",
    "print ('The RSS of predicting Prices based on Square Feet is : ' + str(rss_prices_on_bedrooms))\n"
   ]
  },
  {
   "cell_type": "code",
   "execution_count": 29,
   "metadata": {},
   "outputs": [
    {
     "name": "stdout",
     "output_type": "stream",
     "text": [
      "The RSS of predicting Prices based on Square Feet is : 2.75402936247e+14\n"
     ]
    }
   ],
   "source": [
    "# Compute RSS when using squarefeet on TEST data:\n",
    "\n",
    "rss_prices_on_sqft = get_residual_sum_of_squares(\n",
    "    test_data['sqft_living'], test_data['price'], sqft_intercept, sqft_slope)\n",
    "\n",
    "print ('The RSS of predicting Prices based on Square Feet is : ' + str(rss_prices_on_sqft))"
   ]
  }
 ],
 "metadata": {
  "kernelspec": {
   "display_name": "Python 2",
   "language": "python",
   "name": "python2"
  },
  "language_info": {
   "codemirror_mode": {
    "name": "ipython",
    "version": 2
   },
   "file_extension": ".py",
   "mimetype": "text/x-python",
   "name": "python",
   "nbconvert_exporter": "python",
   "pygments_lexer": "ipython2",
   "version": "2.7.13"
  },
  "varInspector": {
   "cols": {
    "lenName": 16,
    "lenType": 16,
    "lenVar": 40
   },
   "kernels_config": {
    "python": {
     "delete_cmd_postfix": "",
     "delete_cmd_prefix": "del ",
     "library": "var_list.py",
     "varRefreshCmd": "print(var_dic_list())"
    },
    "r": {
     "delete_cmd_postfix": ") ",
     "delete_cmd_prefix": "rm(",
     "library": "var_list.r",
     "varRefreshCmd": "cat(var_dic_list()) "
    }
   },
   "types_to_exclude": [
    "module",
    "function",
    "builtin_function_or_method",
    "instance",
    "_Feature"
   ],
   "window_display": false
  }
 },
 "nbformat": 4,
 "nbformat_minor": 1
}
