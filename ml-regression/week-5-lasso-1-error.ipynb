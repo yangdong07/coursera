{
 "cells": [
  {
   "cell_type": "markdown",
   "metadata": {},
   "source": [
    "# Regression Week 5: Feature Selection and LASSO (Interpretation)"
   ]
  },
  {
   "cell_type": "markdown",
   "metadata": {},
   "source": [
    "In this notebook, you will use LASSO to select features, building on a pre-implemented solver for LASSO (using GraphLab Create, though you can use other solvers). You will:\n",
    "* Run LASSO with different L1 penalties.\n",
    "* Choose best L1 penalty using a validation set.\n",
    "* Choose best L1 penalty using a validation set, with additional constraint on the size of subset.\n",
    "\n",
    "In the second notebook, you will implement your own LASSO solver, using coordinate descent. "
   ]
  },
  {
   "cell_type": "markdown",
   "metadata": {},
   "source": [
    "# Fire up Graphlab Create"
   ]
  },
  {
   "cell_type": "code",
   "execution_count": 3,
   "metadata": {
    "collapsed": true
   },
   "outputs": [],
   "source": [
    "import graphlab"
   ]
  },
  {
   "cell_type": "markdown",
   "metadata": {},
   "source": [
    "# Load in house sales data\n",
    "\n",
    "Dataset is from house sales in King County, the region where the city of Seattle, WA is located."
   ]
  },
  {
   "cell_type": "code",
   "execution_count": 4,
   "metadata": {
    "scrolled": true
   },
   "outputs": [
    {
     "name": "stdout",
     "output_type": "stream",
     "text": [
      "This non-commercial license of GraphLab Create for academic use is assigned to yangdong07@gmail.com and will expire on August 28, 2018.\n"
     ]
    },
    {
     "name": "stderr",
     "output_type": "stream",
     "text": [
      "[INFO] graphlab.cython.cy_server: GraphLab Create v2.1 started. Logging: /tmp/graphlab_server_1505125022.log\n"
     ]
    }
   ],
   "source": [
    "sales = graphlab.SFrame('kc_house_data.gl/')"
   ]
  },
  {
   "cell_type": "code",
   "execution_count": 5,
   "metadata": {},
   "outputs": [
    {
     "data": {
      "text/html": [
       "<div style=\"max-height:1000px;max-width:1500px;overflow:auto;\"><table frame=\"box\" rules=\"cols\">\n",
       "    <tr>\n",
       "        <th style=\"padding-left: 1em; padding-right: 1em; text-align: center\">id</th>\n",
       "        <th style=\"padding-left: 1em; padding-right: 1em; text-align: center\">date</th>\n",
       "        <th style=\"padding-left: 1em; padding-right: 1em; text-align: center\">price</th>\n",
       "        <th style=\"padding-left: 1em; padding-right: 1em; text-align: center\">bedrooms</th>\n",
       "        <th style=\"padding-left: 1em; padding-right: 1em; text-align: center\">bathrooms</th>\n",
       "        <th style=\"padding-left: 1em; padding-right: 1em; text-align: center\">sqft_living</th>\n",
       "        <th style=\"padding-left: 1em; padding-right: 1em; text-align: center\">sqft_lot</th>\n",
       "        <th style=\"padding-left: 1em; padding-right: 1em; text-align: center\">floors</th>\n",
       "        <th style=\"padding-left: 1em; padding-right: 1em; text-align: center\">waterfront</th>\n",
       "    </tr>\n",
       "    <tr>\n",
       "        <td style=\"padding-left: 1em; padding-right: 1em; text-align: center; vertical-align: top\">7129300520</td>\n",
       "        <td style=\"padding-left: 1em; padding-right: 1em; text-align: center; vertical-align: top\">2014-10-13 00:00:00+00:00</td>\n",
       "        <td style=\"padding-left: 1em; padding-right: 1em; text-align: center; vertical-align: top\">221900.0</td>\n",
       "        <td style=\"padding-left: 1em; padding-right: 1em; text-align: center; vertical-align: top\">3.0</td>\n",
       "        <td style=\"padding-left: 1em; padding-right: 1em; text-align: center; vertical-align: top\">1.0</td>\n",
       "        <td style=\"padding-left: 1em; padding-right: 1em; text-align: center; vertical-align: top\">1180.0</td>\n",
       "        <td style=\"padding-left: 1em; padding-right: 1em; text-align: center; vertical-align: top\">5650</td>\n",
       "        <td style=\"padding-left: 1em; padding-right: 1em; text-align: center; vertical-align: top\">1</td>\n",
       "        <td style=\"padding-left: 1em; padding-right: 1em; text-align: center; vertical-align: top\">0</td>\n",
       "    </tr>\n",
       "    <tr>\n",
       "        <td style=\"padding-left: 1em; padding-right: 1em; text-align: center; vertical-align: top\">6414100192</td>\n",
       "        <td style=\"padding-left: 1em; padding-right: 1em; text-align: center; vertical-align: top\">2014-12-09 00:00:00+00:00</td>\n",
       "        <td style=\"padding-left: 1em; padding-right: 1em; text-align: center; vertical-align: top\">538000.0</td>\n",
       "        <td style=\"padding-left: 1em; padding-right: 1em; text-align: center; vertical-align: top\">3.0</td>\n",
       "        <td style=\"padding-left: 1em; padding-right: 1em; text-align: center; vertical-align: top\">2.25</td>\n",
       "        <td style=\"padding-left: 1em; padding-right: 1em; text-align: center; vertical-align: top\">2570.0</td>\n",
       "        <td style=\"padding-left: 1em; padding-right: 1em; text-align: center; vertical-align: top\">7242</td>\n",
       "        <td style=\"padding-left: 1em; padding-right: 1em; text-align: center; vertical-align: top\">2</td>\n",
       "        <td style=\"padding-left: 1em; padding-right: 1em; text-align: center; vertical-align: top\">0</td>\n",
       "    </tr>\n",
       "    <tr>\n",
       "        <td style=\"padding-left: 1em; padding-right: 1em; text-align: center; vertical-align: top\">5631500400</td>\n",
       "        <td style=\"padding-left: 1em; padding-right: 1em; text-align: center; vertical-align: top\">2015-02-25 00:00:00+00:00</td>\n",
       "        <td style=\"padding-left: 1em; padding-right: 1em; text-align: center; vertical-align: top\">180000.0</td>\n",
       "        <td style=\"padding-left: 1em; padding-right: 1em; text-align: center; vertical-align: top\">2.0</td>\n",
       "        <td style=\"padding-left: 1em; padding-right: 1em; text-align: center; vertical-align: top\">1.0</td>\n",
       "        <td style=\"padding-left: 1em; padding-right: 1em; text-align: center; vertical-align: top\">770.0</td>\n",
       "        <td style=\"padding-left: 1em; padding-right: 1em; text-align: center; vertical-align: top\">10000</td>\n",
       "        <td style=\"padding-left: 1em; padding-right: 1em; text-align: center; vertical-align: top\">1</td>\n",
       "        <td style=\"padding-left: 1em; padding-right: 1em; text-align: center; vertical-align: top\">0</td>\n",
       "    </tr>\n",
       "    <tr>\n",
       "        <td style=\"padding-left: 1em; padding-right: 1em; text-align: center; vertical-align: top\">2487200875</td>\n",
       "        <td style=\"padding-left: 1em; padding-right: 1em; text-align: center; vertical-align: top\">2014-12-09 00:00:00+00:00</td>\n",
       "        <td style=\"padding-left: 1em; padding-right: 1em; text-align: center; vertical-align: top\">604000.0</td>\n",
       "        <td style=\"padding-left: 1em; padding-right: 1em; text-align: center; vertical-align: top\">4.0</td>\n",
       "        <td style=\"padding-left: 1em; padding-right: 1em; text-align: center; vertical-align: top\">3.0</td>\n",
       "        <td style=\"padding-left: 1em; padding-right: 1em; text-align: center; vertical-align: top\">1960.0</td>\n",
       "        <td style=\"padding-left: 1em; padding-right: 1em; text-align: center; vertical-align: top\">5000</td>\n",
       "        <td style=\"padding-left: 1em; padding-right: 1em; text-align: center; vertical-align: top\">1</td>\n",
       "        <td style=\"padding-left: 1em; padding-right: 1em; text-align: center; vertical-align: top\">0</td>\n",
       "    </tr>\n",
       "    <tr>\n",
       "        <td style=\"padding-left: 1em; padding-right: 1em; text-align: center; vertical-align: top\">1954400510</td>\n",
       "        <td style=\"padding-left: 1em; padding-right: 1em; text-align: center; vertical-align: top\">2015-02-18 00:00:00+00:00</td>\n",
       "        <td style=\"padding-left: 1em; padding-right: 1em; text-align: center; vertical-align: top\">510000.0</td>\n",
       "        <td style=\"padding-left: 1em; padding-right: 1em; text-align: center; vertical-align: top\">3.0</td>\n",
       "        <td style=\"padding-left: 1em; padding-right: 1em; text-align: center; vertical-align: top\">2.0</td>\n",
       "        <td style=\"padding-left: 1em; padding-right: 1em; text-align: center; vertical-align: top\">1680.0</td>\n",
       "        <td style=\"padding-left: 1em; padding-right: 1em; text-align: center; vertical-align: top\">8080</td>\n",
       "        <td style=\"padding-left: 1em; padding-right: 1em; text-align: center; vertical-align: top\">1</td>\n",
       "        <td style=\"padding-left: 1em; padding-right: 1em; text-align: center; vertical-align: top\">0</td>\n",
       "    </tr>\n",
       "    <tr>\n",
       "        <td style=\"padding-left: 1em; padding-right: 1em; text-align: center; vertical-align: top\">7237550310</td>\n",
       "        <td style=\"padding-left: 1em; padding-right: 1em; text-align: center; vertical-align: top\">2014-05-12 00:00:00+00:00</td>\n",
       "        <td style=\"padding-left: 1em; padding-right: 1em; text-align: center; vertical-align: top\">1225000.0</td>\n",
       "        <td style=\"padding-left: 1em; padding-right: 1em; text-align: center; vertical-align: top\">4.0</td>\n",
       "        <td style=\"padding-left: 1em; padding-right: 1em; text-align: center; vertical-align: top\">4.5</td>\n",
       "        <td style=\"padding-left: 1em; padding-right: 1em; text-align: center; vertical-align: top\">5420.0</td>\n",
       "        <td style=\"padding-left: 1em; padding-right: 1em; text-align: center; vertical-align: top\">101930</td>\n",
       "        <td style=\"padding-left: 1em; padding-right: 1em; text-align: center; vertical-align: top\">1</td>\n",
       "        <td style=\"padding-left: 1em; padding-right: 1em; text-align: center; vertical-align: top\">0</td>\n",
       "    </tr>\n",
       "    <tr>\n",
       "        <td style=\"padding-left: 1em; padding-right: 1em; text-align: center; vertical-align: top\">1321400060</td>\n",
       "        <td style=\"padding-left: 1em; padding-right: 1em; text-align: center; vertical-align: top\">2014-06-27 00:00:00+00:00</td>\n",
       "        <td style=\"padding-left: 1em; padding-right: 1em; text-align: center; vertical-align: top\">257500.0</td>\n",
       "        <td style=\"padding-left: 1em; padding-right: 1em; text-align: center; vertical-align: top\">3.0</td>\n",
       "        <td style=\"padding-left: 1em; padding-right: 1em; text-align: center; vertical-align: top\">2.25</td>\n",
       "        <td style=\"padding-left: 1em; padding-right: 1em; text-align: center; vertical-align: top\">1715.0</td>\n",
       "        <td style=\"padding-left: 1em; padding-right: 1em; text-align: center; vertical-align: top\">6819</td>\n",
       "        <td style=\"padding-left: 1em; padding-right: 1em; text-align: center; vertical-align: top\">2</td>\n",
       "        <td style=\"padding-left: 1em; padding-right: 1em; text-align: center; vertical-align: top\">0</td>\n",
       "    </tr>\n",
       "    <tr>\n",
       "        <td style=\"padding-left: 1em; padding-right: 1em; text-align: center; vertical-align: top\">2008000270</td>\n",
       "        <td style=\"padding-left: 1em; padding-right: 1em; text-align: center; vertical-align: top\">2015-01-15 00:00:00+00:00</td>\n",
       "        <td style=\"padding-left: 1em; padding-right: 1em; text-align: center; vertical-align: top\">291850.0</td>\n",
       "        <td style=\"padding-left: 1em; padding-right: 1em; text-align: center; vertical-align: top\">3.0</td>\n",
       "        <td style=\"padding-left: 1em; padding-right: 1em; text-align: center; vertical-align: top\">1.5</td>\n",
       "        <td style=\"padding-left: 1em; padding-right: 1em; text-align: center; vertical-align: top\">1060.0</td>\n",
       "        <td style=\"padding-left: 1em; padding-right: 1em; text-align: center; vertical-align: top\">9711</td>\n",
       "        <td style=\"padding-left: 1em; padding-right: 1em; text-align: center; vertical-align: top\">1</td>\n",
       "        <td style=\"padding-left: 1em; padding-right: 1em; text-align: center; vertical-align: top\">0</td>\n",
       "    </tr>\n",
       "    <tr>\n",
       "        <td style=\"padding-left: 1em; padding-right: 1em; text-align: center; vertical-align: top\">2414600126</td>\n",
       "        <td style=\"padding-left: 1em; padding-right: 1em; text-align: center; vertical-align: top\">2015-04-15 00:00:00+00:00</td>\n",
       "        <td style=\"padding-left: 1em; padding-right: 1em; text-align: center; vertical-align: top\">229500.0</td>\n",
       "        <td style=\"padding-left: 1em; padding-right: 1em; text-align: center; vertical-align: top\">3.0</td>\n",
       "        <td style=\"padding-left: 1em; padding-right: 1em; text-align: center; vertical-align: top\">1.0</td>\n",
       "        <td style=\"padding-left: 1em; padding-right: 1em; text-align: center; vertical-align: top\">1780.0</td>\n",
       "        <td style=\"padding-left: 1em; padding-right: 1em; text-align: center; vertical-align: top\">7470</td>\n",
       "        <td style=\"padding-left: 1em; padding-right: 1em; text-align: center; vertical-align: top\">1</td>\n",
       "        <td style=\"padding-left: 1em; padding-right: 1em; text-align: center; vertical-align: top\">0</td>\n",
       "    </tr>\n",
       "    <tr>\n",
       "        <td style=\"padding-left: 1em; padding-right: 1em; text-align: center; vertical-align: top\">3793500160</td>\n",
       "        <td style=\"padding-left: 1em; padding-right: 1em; text-align: center; vertical-align: top\">2015-03-12 00:00:00+00:00</td>\n",
       "        <td style=\"padding-left: 1em; padding-right: 1em; text-align: center; vertical-align: top\">323000.0</td>\n",
       "        <td style=\"padding-left: 1em; padding-right: 1em; text-align: center; vertical-align: top\">3.0</td>\n",
       "        <td style=\"padding-left: 1em; padding-right: 1em; text-align: center; vertical-align: top\">2.5</td>\n",
       "        <td style=\"padding-left: 1em; padding-right: 1em; text-align: center; vertical-align: top\">1890.0</td>\n",
       "        <td style=\"padding-left: 1em; padding-right: 1em; text-align: center; vertical-align: top\">6560</td>\n",
       "        <td style=\"padding-left: 1em; padding-right: 1em; text-align: center; vertical-align: top\">2</td>\n",
       "        <td style=\"padding-left: 1em; padding-right: 1em; text-align: center; vertical-align: top\">0</td>\n",
       "    </tr>\n",
       "</table>\n",
       "<table frame=\"box\" rules=\"cols\">\n",
       "    <tr>\n",
       "        <th style=\"padding-left: 1em; padding-right: 1em; text-align: center\">view</th>\n",
       "        <th style=\"padding-left: 1em; padding-right: 1em; text-align: center\">condition</th>\n",
       "        <th style=\"padding-left: 1em; padding-right: 1em; text-align: center\">grade</th>\n",
       "        <th style=\"padding-left: 1em; padding-right: 1em; text-align: center\">sqft_above</th>\n",
       "        <th style=\"padding-left: 1em; padding-right: 1em; text-align: center\">sqft_basement</th>\n",
       "        <th style=\"padding-left: 1em; padding-right: 1em; text-align: center\">yr_built</th>\n",
       "        <th style=\"padding-left: 1em; padding-right: 1em; text-align: center\">yr_renovated</th>\n",
       "        <th style=\"padding-left: 1em; padding-right: 1em; text-align: center\">zipcode</th>\n",
       "        <th style=\"padding-left: 1em; padding-right: 1em; text-align: center\">lat</th>\n",
       "    </tr>\n",
       "    <tr>\n",
       "        <td style=\"padding-left: 1em; padding-right: 1em; text-align: center; vertical-align: top\">0</td>\n",
       "        <td style=\"padding-left: 1em; padding-right: 1em; text-align: center; vertical-align: top\">3</td>\n",
       "        <td style=\"padding-left: 1em; padding-right: 1em; text-align: center; vertical-align: top\">7</td>\n",
       "        <td style=\"padding-left: 1em; padding-right: 1em; text-align: center; vertical-align: top\">1180</td>\n",
       "        <td style=\"padding-left: 1em; padding-right: 1em; text-align: center; vertical-align: top\">0</td>\n",
       "        <td style=\"padding-left: 1em; padding-right: 1em; text-align: center; vertical-align: top\">1955</td>\n",
       "        <td style=\"padding-left: 1em; padding-right: 1em; text-align: center; vertical-align: top\">0</td>\n",
       "        <td style=\"padding-left: 1em; padding-right: 1em; text-align: center; vertical-align: top\">98178</td>\n",
       "        <td style=\"padding-left: 1em; padding-right: 1em; text-align: center; vertical-align: top\">47.51123398</td>\n",
       "    </tr>\n",
       "    <tr>\n",
       "        <td style=\"padding-left: 1em; padding-right: 1em; text-align: center; vertical-align: top\">0</td>\n",
       "        <td style=\"padding-left: 1em; padding-right: 1em; text-align: center; vertical-align: top\">3</td>\n",
       "        <td style=\"padding-left: 1em; padding-right: 1em; text-align: center; vertical-align: top\">7</td>\n",
       "        <td style=\"padding-left: 1em; padding-right: 1em; text-align: center; vertical-align: top\">2170</td>\n",
       "        <td style=\"padding-left: 1em; padding-right: 1em; text-align: center; vertical-align: top\">400</td>\n",
       "        <td style=\"padding-left: 1em; padding-right: 1em; text-align: center; vertical-align: top\">1951</td>\n",
       "        <td style=\"padding-left: 1em; padding-right: 1em; text-align: center; vertical-align: top\">1991</td>\n",
       "        <td style=\"padding-left: 1em; padding-right: 1em; text-align: center; vertical-align: top\">98125</td>\n",
       "        <td style=\"padding-left: 1em; padding-right: 1em; text-align: center; vertical-align: top\">47.72102274</td>\n",
       "    </tr>\n",
       "    <tr>\n",
       "        <td style=\"padding-left: 1em; padding-right: 1em; text-align: center; vertical-align: top\">0</td>\n",
       "        <td style=\"padding-left: 1em; padding-right: 1em; text-align: center; vertical-align: top\">3</td>\n",
       "        <td style=\"padding-left: 1em; padding-right: 1em; text-align: center; vertical-align: top\">6</td>\n",
       "        <td style=\"padding-left: 1em; padding-right: 1em; text-align: center; vertical-align: top\">770</td>\n",
       "        <td style=\"padding-left: 1em; padding-right: 1em; text-align: center; vertical-align: top\">0</td>\n",
       "        <td style=\"padding-left: 1em; padding-right: 1em; text-align: center; vertical-align: top\">1933</td>\n",
       "        <td style=\"padding-left: 1em; padding-right: 1em; text-align: center; vertical-align: top\">0</td>\n",
       "        <td style=\"padding-left: 1em; padding-right: 1em; text-align: center; vertical-align: top\">98028</td>\n",
       "        <td style=\"padding-left: 1em; padding-right: 1em; text-align: center; vertical-align: top\">47.73792661</td>\n",
       "    </tr>\n",
       "    <tr>\n",
       "        <td style=\"padding-left: 1em; padding-right: 1em; text-align: center; vertical-align: top\">0</td>\n",
       "        <td style=\"padding-left: 1em; padding-right: 1em; text-align: center; vertical-align: top\">5</td>\n",
       "        <td style=\"padding-left: 1em; padding-right: 1em; text-align: center; vertical-align: top\">7</td>\n",
       "        <td style=\"padding-left: 1em; padding-right: 1em; text-align: center; vertical-align: top\">1050</td>\n",
       "        <td style=\"padding-left: 1em; padding-right: 1em; text-align: center; vertical-align: top\">910</td>\n",
       "        <td style=\"padding-left: 1em; padding-right: 1em; text-align: center; vertical-align: top\">1965</td>\n",
       "        <td style=\"padding-left: 1em; padding-right: 1em; text-align: center; vertical-align: top\">0</td>\n",
       "        <td style=\"padding-left: 1em; padding-right: 1em; text-align: center; vertical-align: top\">98136</td>\n",
       "        <td style=\"padding-left: 1em; padding-right: 1em; text-align: center; vertical-align: top\">47.52082</td>\n",
       "    </tr>\n",
       "    <tr>\n",
       "        <td style=\"padding-left: 1em; padding-right: 1em; text-align: center; vertical-align: top\">0</td>\n",
       "        <td style=\"padding-left: 1em; padding-right: 1em; text-align: center; vertical-align: top\">3</td>\n",
       "        <td style=\"padding-left: 1em; padding-right: 1em; text-align: center; vertical-align: top\">8</td>\n",
       "        <td style=\"padding-left: 1em; padding-right: 1em; text-align: center; vertical-align: top\">1680</td>\n",
       "        <td style=\"padding-left: 1em; padding-right: 1em; text-align: center; vertical-align: top\">0</td>\n",
       "        <td style=\"padding-left: 1em; padding-right: 1em; text-align: center; vertical-align: top\">1987</td>\n",
       "        <td style=\"padding-left: 1em; padding-right: 1em; text-align: center; vertical-align: top\">0</td>\n",
       "        <td style=\"padding-left: 1em; padding-right: 1em; text-align: center; vertical-align: top\">98074</td>\n",
       "        <td style=\"padding-left: 1em; padding-right: 1em; text-align: center; vertical-align: top\">47.61681228</td>\n",
       "    </tr>\n",
       "    <tr>\n",
       "        <td style=\"padding-left: 1em; padding-right: 1em; text-align: center; vertical-align: top\">0</td>\n",
       "        <td style=\"padding-left: 1em; padding-right: 1em; text-align: center; vertical-align: top\">3</td>\n",
       "        <td style=\"padding-left: 1em; padding-right: 1em; text-align: center; vertical-align: top\">11</td>\n",
       "        <td style=\"padding-left: 1em; padding-right: 1em; text-align: center; vertical-align: top\">3890</td>\n",
       "        <td style=\"padding-left: 1em; padding-right: 1em; text-align: center; vertical-align: top\">1530</td>\n",
       "        <td style=\"padding-left: 1em; padding-right: 1em; text-align: center; vertical-align: top\">2001</td>\n",
       "        <td style=\"padding-left: 1em; padding-right: 1em; text-align: center; vertical-align: top\">0</td>\n",
       "        <td style=\"padding-left: 1em; padding-right: 1em; text-align: center; vertical-align: top\">98053</td>\n",
       "        <td style=\"padding-left: 1em; padding-right: 1em; text-align: center; vertical-align: top\">47.65611835</td>\n",
       "    </tr>\n",
       "    <tr>\n",
       "        <td style=\"padding-left: 1em; padding-right: 1em; text-align: center; vertical-align: top\">0</td>\n",
       "        <td style=\"padding-left: 1em; padding-right: 1em; text-align: center; vertical-align: top\">3</td>\n",
       "        <td style=\"padding-left: 1em; padding-right: 1em; text-align: center; vertical-align: top\">7</td>\n",
       "        <td style=\"padding-left: 1em; padding-right: 1em; text-align: center; vertical-align: top\">1715</td>\n",
       "        <td style=\"padding-left: 1em; padding-right: 1em; text-align: center; vertical-align: top\">0</td>\n",
       "        <td style=\"padding-left: 1em; padding-right: 1em; text-align: center; vertical-align: top\">1995</td>\n",
       "        <td style=\"padding-left: 1em; padding-right: 1em; text-align: center; vertical-align: top\">0</td>\n",
       "        <td style=\"padding-left: 1em; padding-right: 1em; text-align: center; vertical-align: top\">98003</td>\n",
       "        <td style=\"padding-left: 1em; padding-right: 1em; text-align: center; vertical-align: top\">47.30972002</td>\n",
       "    </tr>\n",
       "    <tr>\n",
       "        <td style=\"padding-left: 1em; padding-right: 1em; text-align: center; vertical-align: top\">0</td>\n",
       "        <td style=\"padding-left: 1em; padding-right: 1em; text-align: center; vertical-align: top\">3</td>\n",
       "        <td style=\"padding-left: 1em; padding-right: 1em; text-align: center; vertical-align: top\">7</td>\n",
       "        <td style=\"padding-left: 1em; padding-right: 1em; text-align: center; vertical-align: top\">1060</td>\n",
       "        <td style=\"padding-left: 1em; padding-right: 1em; text-align: center; vertical-align: top\">0</td>\n",
       "        <td style=\"padding-left: 1em; padding-right: 1em; text-align: center; vertical-align: top\">1963</td>\n",
       "        <td style=\"padding-left: 1em; padding-right: 1em; text-align: center; vertical-align: top\">0</td>\n",
       "        <td style=\"padding-left: 1em; padding-right: 1em; text-align: center; vertical-align: top\">98198</td>\n",
       "        <td style=\"padding-left: 1em; padding-right: 1em; text-align: center; vertical-align: top\">47.40949984</td>\n",
       "    </tr>\n",
       "    <tr>\n",
       "        <td style=\"padding-left: 1em; padding-right: 1em; text-align: center; vertical-align: top\">0</td>\n",
       "        <td style=\"padding-left: 1em; padding-right: 1em; text-align: center; vertical-align: top\">3</td>\n",
       "        <td style=\"padding-left: 1em; padding-right: 1em; text-align: center; vertical-align: top\">7</td>\n",
       "        <td style=\"padding-left: 1em; padding-right: 1em; text-align: center; vertical-align: top\">1050</td>\n",
       "        <td style=\"padding-left: 1em; padding-right: 1em; text-align: center; vertical-align: top\">730</td>\n",
       "        <td style=\"padding-left: 1em; padding-right: 1em; text-align: center; vertical-align: top\">1960</td>\n",
       "        <td style=\"padding-left: 1em; padding-right: 1em; text-align: center; vertical-align: top\">0</td>\n",
       "        <td style=\"padding-left: 1em; padding-right: 1em; text-align: center; vertical-align: top\">98146</td>\n",
       "        <td style=\"padding-left: 1em; padding-right: 1em; text-align: center; vertical-align: top\">47.51229381</td>\n",
       "    </tr>\n",
       "    <tr>\n",
       "        <td style=\"padding-left: 1em; padding-right: 1em; text-align: center; vertical-align: top\">0</td>\n",
       "        <td style=\"padding-left: 1em; padding-right: 1em; text-align: center; vertical-align: top\">3</td>\n",
       "        <td style=\"padding-left: 1em; padding-right: 1em; text-align: center; vertical-align: top\">7</td>\n",
       "        <td style=\"padding-left: 1em; padding-right: 1em; text-align: center; vertical-align: top\">1890</td>\n",
       "        <td style=\"padding-left: 1em; padding-right: 1em; text-align: center; vertical-align: top\">0</td>\n",
       "        <td style=\"padding-left: 1em; padding-right: 1em; text-align: center; vertical-align: top\">2003</td>\n",
       "        <td style=\"padding-left: 1em; padding-right: 1em; text-align: center; vertical-align: top\">0</td>\n",
       "        <td style=\"padding-left: 1em; padding-right: 1em; text-align: center; vertical-align: top\">98038</td>\n",
       "        <td style=\"padding-left: 1em; padding-right: 1em; text-align: center; vertical-align: top\">47.36840673</td>\n",
       "    </tr>\n",
       "</table>\n",
       "<table frame=\"box\" rules=\"cols\">\n",
       "    <tr>\n",
       "        <th style=\"padding-left: 1em; padding-right: 1em; text-align: center\">long</th>\n",
       "        <th style=\"padding-left: 1em; padding-right: 1em; text-align: center\">sqft_living15</th>\n",
       "        <th style=\"padding-left: 1em; padding-right: 1em; text-align: center\">sqft_lot15</th>\n",
       "    </tr>\n",
       "    <tr>\n",
       "        <td style=\"padding-left: 1em; padding-right: 1em; text-align: center; vertical-align: top\">-122.25677536</td>\n",
       "        <td style=\"padding-left: 1em; padding-right: 1em; text-align: center; vertical-align: top\">1340.0</td>\n",
       "        <td style=\"padding-left: 1em; padding-right: 1em; text-align: center; vertical-align: top\">5650.0</td>\n",
       "    </tr>\n",
       "    <tr>\n",
       "        <td style=\"padding-left: 1em; padding-right: 1em; text-align: center; vertical-align: top\">-122.3188624</td>\n",
       "        <td style=\"padding-left: 1em; padding-right: 1em; text-align: center; vertical-align: top\">1690.0</td>\n",
       "        <td style=\"padding-left: 1em; padding-right: 1em; text-align: center; vertical-align: top\">7639.0</td>\n",
       "    </tr>\n",
       "    <tr>\n",
       "        <td style=\"padding-left: 1em; padding-right: 1em; text-align: center; vertical-align: top\">-122.23319601</td>\n",
       "        <td style=\"padding-left: 1em; padding-right: 1em; text-align: center; vertical-align: top\">2720.0</td>\n",
       "        <td style=\"padding-left: 1em; padding-right: 1em; text-align: center; vertical-align: top\">8062.0</td>\n",
       "    </tr>\n",
       "    <tr>\n",
       "        <td style=\"padding-left: 1em; padding-right: 1em; text-align: center; vertical-align: top\">-122.39318505</td>\n",
       "        <td style=\"padding-left: 1em; padding-right: 1em; text-align: center; vertical-align: top\">1360.0</td>\n",
       "        <td style=\"padding-left: 1em; padding-right: 1em; text-align: center; vertical-align: top\">5000.0</td>\n",
       "    </tr>\n",
       "    <tr>\n",
       "        <td style=\"padding-left: 1em; padding-right: 1em; text-align: center; vertical-align: top\">-122.04490059</td>\n",
       "        <td style=\"padding-left: 1em; padding-right: 1em; text-align: center; vertical-align: top\">1800.0</td>\n",
       "        <td style=\"padding-left: 1em; padding-right: 1em; text-align: center; vertical-align: top\">7503.0</td>\n",
       "    </tr>\n",
       "    <tr>\n",
       "        <td style=\"padding-left: 1em; padding-right: 1em; text-align: center; vertical-align: top\">-122.00528655</td>\n",
       "        <td style=\"padding-left: 1em; padding-right: 1em; text-align: center; vertical-align: top\">4760.0</td>\n",
       "        <td style=\"padding-left: 1em; padding-right: 1em; text-align: center; vertical-align: top\">101930.0</td>\n",
       "    </tr>\n",
       "    <tr>\n",
       "        <td style=\"padding-left: 1em; padding-right: 1em; text-align: center; vertical-align: top\">-122.32704857</td>\n",
       "        <td style=\"padding-left: 1em; padding-right: 1em; text-align: center; vertical-align: top\">2238.0</td>\n",
       "        <td style=\"padding-left: 1em; padding-right: 1em; text-align: center; vertical-align: top\">6819.0</td>\n",
       "    </tr>\n",
       "    <tr>\n",
       "        <td style=\"padding-left: 1em; padding-right: 1em; text-align: center; vertical-align: top\">-122.31457273</td>\n",
       "        <td style=\"padding-left: 1em; padding-right: 1em; text-align: center; vertical-align: top\">1650.0</td>\n",
       "        <td style=\"padding-left: 1em; padding-right: 1em; text-align: center; vertical-align: top\">9711.0</td>\n",
       "    </tr>\n",
       "    <tr>\n",
       "        <td style=\"padding-left: 1em; padding-right: 1em; text-align: center; vertical-align: top\">-122.33659507</td>\n",
       "        <td style=\"padding-left: 1em; padding-right: 1em; text-align: center; vertical-align: top\">1780.0</td>\n",
       "        <td style=\"padding-left: 1em; padding-right: 1em; text-align: center; vertical-align: top\">8113.0</td>\n",
       "    </tr>\n",
       "    <tr>\n",
       "        <td style=\"padding-left: 1em; padding-right: 1em; text-align: center; vertical-align: top\">-122.0308176</td>\n",
       "        <td style=\"padding-left: 1em; padding-right: 1em; text-align: center; vertical-align: top\">2390.0</td>\n",
       "        <td style=\"padding-left: 1em; padding-right: 1em; text-align: center; vertical-align: top\">7570.0</td>\n",
       "    </tr>\n",
       "</table>\n",
       "[21613 rows x 21 columns]<br/>Note: Only the head of the SFrame is printed.<br/>You can use print_rows(num_rows=m, num_columns=n) to print more rows and columns.\n",
       "</div>"
      ],
      "text/plain": [
       "Columns:\n",
       "\tid\tstr\n",
       "\tdate\tdatetime\n",
       "\tprice\tfloat\n",
       "\tbedrooms\tfloat\n",
       "\tbathrooms\tfloat\n",
       "\tsqft_living\tfloat\n",
       "\tsqft_lot\tint\n",
       "\tfloors\tstr\n",
       "\twaterfront\tint\n",
       "\tview\tint\n",
       "\tcondition\tint\n",
       "\tgrade\tint\n",
       "\tsqft_above\tint\n",
       "\tsqft_basement\tint\n",
       "\tyr_built\tint\n",
       "\tyr_renovated\tint\n",
       "\tzipcode\tstr\n",
       "\tlat\tfloat\n",
       "\tlong\tfloat\n",
       "\tsqft_living15\tfloat\n",
       "\tsqft_lot15\tfloat\n",
       "\n",
       "Rows: 21613\n",
       "\n",
       "Data:\n",
       "+------------+---------------------------+-----------+----------+-----------+\n",
       "|     id     |            date           |   price   | bedrooms | bathrooms |\n",
       "+------------+---------------------------+-----------+----------+-----------+\n",
       "| 7129300520 | 2014-10-13 00:00:00+00:00 |  221900.0 |   3.0    |    1.0    |\n",
       "| 6414100192 | 2014-12-09 00:00:00+00:00 |  538000.0 |   3.0    |    2.25   |\n",
       "| 5631500400 | 2015-02-25 00:00:00+00:00 |  180000.0 |   2.0    |    1.0    |\n",
       "| 2487200875 | 2014-12-09 00:00:00+00:00 |  604000.0 |   4.0    |    3.0    |\n",
       "| 1954400510 | 2015-02-18 00:00:00+00:00 |  510000.0 |   3.0    |    2.0    |\n",
       "| 7237550310 | 2014-05-12 00:00:00+00:00 | 1225000.0 |   4.0    |    4.5    |\n",
       "| 1321400060 | 2014-06-27 00:00:00+00:00 |  257500.0 |   3.0    |    2.25   |\n",
       "| 2008000270 | 2015-01-15 00:00:00+00:00 |  291850.0 |   3.0    |    1.5    |\n",
       "| 2414600126 | 2015-04-15 00:00:00+00:00 |  229500.0 |   3.0    |    1.0    |\n",
       "| 3793500160 | 2015-03-12 00:00:00+00:00 |  323000.0 |   3.0    |    2.5    |\n",
       "+------------+---------------------------+-----------+----------+-----------+\n",
       "+-------------+----------+--------+------------+------+-----------+-------+------------+\n",
       "| sqft_living | sqft_lot | floors | waterfront | view | condition | grade | sqft_above |\n",
       "+-------------+----------+--------+------------+------+-----------+-------+------------+\n",
       "|    1180.0   |   5650   |   1    |     0      |  0   |     3     |   7   |    1180    |\n",
       "|    2570.0   |   7242   |   2    |     0      |  0   |     3     |   7   |    2170    |\n",
       "|    770.0    |  10000   |   1    |     0      |  0   |     3     |   6   |    770     |\n",
       "|    1960.0   |   5000   |   1    |     0      |  0   |     5     |   7   |    1050    |\n",
       "|    1680.0   |   8080   |   1    |     0      |  0   |     3     |   8   |    1680    |\n",
       "|    5420.0   |  101930  |   1    |     0      |  0   |     3     |   11  |    3890    |\n",
       "|    1715.0   |   6819   |   2    |     0      |  0   |     3     |   7   |    1715    |\n",
       "|    1060.0   |   9711   |   1    |     0      |  0   |     3     |   7   |    1060    |\n",
       "|    1780.0   |   7470   |   1    |     0      |  0   |     3     |   7   |    1050    |\n",
       "|    1890.0   |   6560   |   2    |     0      |  0   |     3     |   7   |    1890    |\n",
       "+-------------+----------+--------+------------+------+-----------+-------+------------+\n",
       "+---------------+----------+--------------+---------+-------------+\n",
       "| sqft_basement | yr_built | yr_renovated | zipcode |     lat     |\n",
       "+---------------+----------+--------------+---------+-------------+\n",
       "|       0       |   1955   |      0       |  98178  | 47.51123398 |\n",
       "|      400      |   1951   |     1991     |  98125  | 47.72102274 |\n",
       "|       0       |   1933   |      0       |  98028  | 47.73792661 |\n",
       "|      910      |   1965   |      0       |  98136  |   47.52082  |\n",
       "|       0       |   1987   |      0       |  98074  | 47.61681228 |\n",
       "|      1530     |   2001   |      0       |  98053  | 47.65611835 |\n",
       "|       0       |   1995   |      0       |  98003  | 47.30972002 |\n",
       "|       0       |   1963   |      0       |  98198  | 47.40949984 |\n",
       "|      730      |   1960   |      0       |  98146  | 47.51229381 |\n",
       "|       0       |   2003   |      0       |  98038  | 47.36840673 |\n",
       "+---------------+----------+--------------+---------+-------------+\n",
       "+---------------+---------------+-----+\n",
       "|      long     | sqft_living15 | ... |\n",
       "+---------------+---------------+-----+\n",
       "| -122.25677536 |     1340.0    | ... |\n",
       "|  -122.3188624 |     1690.0    | ... |\n",
       "| -122.23319601 |     2720.0    | ... |\n",
       "| -122.39318505 |     1360.0    | ... |\n",
       "| -122.04490059 |     1800.0    | ... |\n",
       "| -122.00528655 |     4760.0    | ... |\n",
       "| -122.32704857 |     2238.0    | ... |\n",
       "| -122.31457273 |     1650.0    | ... |\n",
       "| -122.33659507 |     1780.0    | ... |\n",
       "|  -122.0308176 |     2390.0    | ... |\n",
       "+---------------+---------------+-----+\n",
       "[21613 rows x 21 columns]\n",
       "Note: Only the head of the SFrame is printed.\n",
       "You can use print_rows(num_rows=m, num_columns=n) to print more rows and columns."
      ]
     },
     "execution_count": 5,
     "metadata": {},
     "output_type": "execute_result"
    }
   ],
   "source": [
    "sales"
   ]
  },
  {
   "cell_type": "markdown",
   "metadata": {},
   "source": [
    "# Create new features"
   ]
  },
  {
   "cell_type": "markdown",
   "metadata": {},
   "source": [
    "As in Week 2, we consider features that are some transformations of inputs."
   ]
  },
  {
   "cell_type": "code",
   "execution_count": 6,
   "metadata": {
    "collapsed": true
   },
   "outputs": [],
   "source": [
    "from math import log, sqrt\n",
    "sales['sqft_living_sqrt'] = sales['sqft_living'].apply(sqrt)\n",
    "sales['sqft_lot_sqrt'] = sales['sqft_lot'].apply(sqrt)\n",
    "sales['bedrooms_square'] = sales['bedrooms']*sales['bedrooms']\n",
    "\n",
    "# In the dataset, 'floors' was defined with type string, \n",
    "# so we'll convert them to float, before creating a new feature.\n",
    "sales['floors'] = sales['floors'].astype(float) \n",
    "sales['floors_square'] = sales['floors']*sales['floors']"
   ]
  },
  {
   "cell_type": "markdown",
   "metadata": {},
   "source": [
    "* Squaring bedrooms will increase the separation between not many bedrooms (e.g. 1) and lots of bedrooms (e.g. 4) since 1^2 = 1 but 4^2 = 16. Consequently this variable will mostly affect houses with many bedrooms.\n",
    "* On the other hand, taking square root of sqft_living will decrease the separation between big house and small house. The owner may not be exactly twice as happy for getting a house that is twice as big."
   ]
  },
  {
   "cell_type": "markdown",
   "metadata": {},
   "source": [
    "# Learn regression weights with L1 penalty"
   ]
  },
  {
   "cell_type": "markdown",
   "metadata": {},
   "source": [
    "Let us fit a model with all the features available, plus the features we just created above."
   ]
  },
  {
   "cell_type": "code",
   "execution_count": 7,
   "metadata": {
    "collapsed": true
   },
   "outputs": [],
   "source": [
    "all_features = ['bedrooms', 'bedrooms_square',\n",
    "            'bathrooms',\n",
    "            'sqft_living', 'sqft_living_sqrt',\n",
    "            'sqft_lot', 'sqft_lot_sqrt',\n",
    "            'floors', 'floors_square',\n",
    "            'waterfront', 'view', 'condition', 'grade',\n",
    "            'sqft_above',\n",
    "            'sqft_basement',\n",
    "            'yr_built', 'yr_renovated']"
   ]
  },
  {
   "cell_type": "markdown",
   "metadata": {},
   "source": [
    "Applying L1 penalty requires adding an extra parameter (`l1_penalty`) to the linear regression call in GraphLab Create. (Other tools may have separate implementations of LASSO.)  Note that it's important to set `l2_penalty=0` to ensure we don't introduce an additional L2 penalty."
   ]
  },
  {
   "cell_type": "code",
   "execution_count": 6,
   "metadata": {},
   "outputs": [
    {
     "data": {
      "text/html": [
       "<pre>Linear regression:</pre>"
      ],
      "text/plain": [
       "Linear regression:"
      ]
     },
     "metadata": {},
     "output_type": "display_data"
    },
    {
     "data": {
      "text/html": [
       "<pre>--------------------------------------------------------</pre>"
      ],
      "text/plain": [
       "--------------------------------------------------------"
      ]
     },
     "metadata": {},
     "output_type": "display_data"
    },
    {
     "data": {
      "text/html": [
       "<pre>Number of examples          : 21613</pre>"
      ],
      "text/plain": [
       "Number of examples          : 21613"
      ]
     },
     "metadata": {},
     "output_type": "display_data"
    },
    {
     "data": {
      "text/html": [
       "<pre>Number of features          : 17</pre>"
      ],
      "text/plain": [
       "Number of features          : 17"
      ]
     },
     "metadata": {},
     "output_type": "display_data"
    },
    {
     "data": {
      "text/html": [
       "<pre>Number of unpacked features : 17</pre>"
      ],
      "text/plain": [
       "Number of unpacked features : 17"
      ]
     },
     "metadata": {},
     "output_type": "display_data"
    },
    {
     "data": {
      "text/html": [
       "<pre>Number of coefficients    : 18</pre>"
      ],
      "text/plain": [
       "Number of coefficients    : 18"
      ]
     },
     "metadata": {},
     "output_type": "display_data"
    },
    {
     "data": {
      "text/html": [
       "<pre>Starting Accelerated Gradient (FISTA)</pre>"
      ],
      "text/plain": [
       "Starting Accelerated Gradient (FISTA)"
      ]
     },
     "metadata": {},
     "output_type": "display_data"
    },
    {
     "data": {
      "text/html": [
       "<pre>--------------------------------------------------------</pre>"
      ],
      "text/plain": [
       "--------------------------------------------------------"
      ]
     },
     "metadata": {},
     "output_type": "display_data"
    },
    {
     "data": {
      "text/html": [
       "<pre>+-----------+----------+-----------+--------------+--------------------+---------------+</pre>"
      ],
      "text/plain": [
       "+-----------+----------+-----------+--------------+--------------------+---------------+"
      ]
     },
     "metadata": {},
     "output_type": "display_data"
    },
    {
     "data": {
      "text/html": [
       "<pre>| Iteration | Passes   | Step size | Elapsed Time | Training-max_error | Training-rmse |</pre>"
      ],
      "text/plain": [
       "| Iteration | Passes   | Step size | Elapsed Time | Training-max_error | Training-rmse |"
      ]
     },
     "metadata": {},
     "output_type": "display_data"
    },
    {
     "data": {
      "text/html": [
       "<pre>+-----------+----------+-----------+--------------+--------------------+---------------+</pre>"
      ],
      "text/plain": [
       "+-----------+----------+-----------+--------------+--------------------+---------------+"
      ]
     },
     "metadata": {},
     "output_type": "display_data"
    },
    {
     "data": {
      "text/html": [
       "<pre>Tuning step size. First iteration could take longer than subsequent iterations.</pre>"
      ],
      "text/plain": [
       "Tuning step size. First iteration could take longer than subsequent iterations."
      ]
     },
     "metadata": {},
     "output_type": "display_data"
    },
    {
     "data": {
      "text/html": [
       "<pre>| 1         | 2        | 0.000002  | 1.824110     | 6962915.603493     | 426631.749026 |</pre>"
      ],
      "text/plain": [
       "| 1         | 2        | 0.000002  | 1.824110     | 6962915.603493     | 426631.749026 |"
      ]
     },
     "metadata": {},
     "output_type": "display_data"
    },
    {
     "data": {
      "text/html": [
       "<pre>| 2         | 3        | 0.000002  | 1.928724     | 6843144.200219     | 392488.929838 |</pre>"
      ],
      "text/plain": [
       "| 2         | 3        | 0.000002  | 1.928724     | 6843144.200219     | 392488.929838 |"
      ]
     },
     "metadata": {},
     "output_type": "display_data"
    },
    {
     "data": {
      "text/html": [
       "<pre>| 3         | 4        | 0.000002  | 2.026640     | 6831900.032123     | 385340.166783 |</pre>"
      ],
      "text/plain": [
       "| 3         | 4        | 0.000002  | 2.026640     | 6831900.032123     | 385340.166783 |"
      ]
     },
     "metadata": {},
     "output_type": "display_data"
    },
    {
     "data": {
      "text/html": [
       "<pre>| 4         | 5        | 0.000002  | 2.142146     | 6847166.848958     | 384842.383767 |</pre>"
      ],
      "text/plain": [
       "| 4         | 5        | 0.000002  | 2.142146     | 6847166.848958     | 384842.383767 |"
      ]
     },
     "metadata": {},
     "output_type": "display_data"
    },
    {
     "data": {
      "text/html": [
       "<pre>| 5         | 6        | 0.000002  | 2.221317     | 6869667.895833     | 385998.458623 |</pre>"
      ],
      "text/plain": [
       "| 5         | 6        | 0.000002  | 2.221317     | 6869667.895833     | 385998.458623 |"
      ]
     },
     "metadata": {},
     "output_type": "display_data"
    },
    {
     "data": {
      "text/html": [
       "<pre>| 6         | 7        | 0.000002  | 2.292828     | 6847177.773672     | 380824.455891 |</pre>"
      ],
      "text/plain": [
       "| 6         | 7        | 0.000002  | 2.292828     | 6847177.773672     | 380824.455891 |"
      ]
     },
     "metadata": {},
     "output_type": "display_data"
    },
    {
     "data": {
      "text/html": [
       "<pre>+-----------+----------+-----------+--------------+--------------------+---------------+</pre>"
      ],
      "text/plain": [
       "+-----------+----------+-----------+--------------+--------------------+---------------+"
      ]
     },
     "metadata": {},
     "output_type": "display_data"
    },
    {
     "data": {
      "text/html": [
       "<pre>TERMINATED: Iteration limit reached.</pre>"
      ],
      "text/plain": [
       "TERMINATED: Iteration limit reached."
      ]
     },
     "metadata": {},
     "output_type": "display_data"
    },
    {
     "data": {
      "text/html": [
       "<pre>This model may not be optimal. To improve it, consider increasing `max_iterations`.</pre>"
      ],
      "text/plain": [
       "This model may not be optimal. To improve it, consider increasing `max_iterations`."
      ]
     },
     "metadata": {},
     "output_type": "display_data"
    }
   ],
   "source": [
    "model_all = graphlab.linear_regression.create(sales, target='price', features=all_features,\n",
    "                                              validation_set=None, \n",
    "                                              l2_penalty=0., l1_penalty=1e10)"
   ]
  },
  {
   "cell_type": "markdown",
   "metadata": {},
   "source": [
    "Find what features had non-zero weight."
   ]
  },
  {
   "cell_type": "code",
   "execution_count": 7,
   "metadata": {},
   "outputs": [
    {
     "name": "stdout",
     "output_type": "stream",
     "text": [
      "number of nonzeros = 6\n"
     ]
    },
    {
     "data": {
      "text/html": [
       "<div style=\"max-height:1000px;max-width:1500px;overflow:auto;\"><table frame=\"box\" rules=\"cols\">\n",
       "    <tr>\n",
       "        <th style=\"padding-left: 1em; padding-right: 1em; text-align: center\">name</th>\n",
       "        <th style=\"padding-left: 1em; padding-right: 1em; text-align: center\">index</th>\n",
       "        <th style=\"padding-left: 1em; padding-right: 1em; text-align: center\">value</th>\n",
       "        <th style=\"padding-left: 1em; padding-right: 1em; text-align: center\">stderr</th>\n",
       "    </tr>\n",
       "    <tr>\n",
       "        <td style=\"padding-left: 1em; padding-right: 1em; text-align: center; vertical-align: top\">(intercept)</td>\n",
       "        <td style=\"padding-left: 1em; padding-right: 1em; text-align: center; vertical-align: top\">None</td>\n",
       "        <td style=\"padding-left: 1em; padding-right: 1em; text-align: center; vertical-align: top\">274873.05595</td>\n",
       "        <td style=\"padding-left: 1em; padding-right: 1em; text-align: center; vertical-align: top\">None</td>\n",
       "    </tr>\n",
       "    <tr>\n",
       "        <td style=\"padding-left: 1em; padding-right: 1em; text-align: center; vertical-align: top\">bathrooms</td>\n",
       "        <td style=\"padding-left: 1em; padding-right: 1em; text-align: center; vertical-align: top\">None</td>\n",
       "        <td style=\"padding-left: 1em; padding-right: 1em; text-align: center; vertical-align: top\">8468.53108691</td>\n",
       "        <td style=\"padding-left: 1em; padding-right: 1em; text-align: center; vertical-align: top\">None</td>\n",
       "    </tr>\n",
       "    <tr>\n",
       "        <td style=\"padding-left: 1em; padding-right: 1em; text-align: center; vertical-align: top\">sqft_living</td>\n",
       "        <td style=\"padding-left: 1em; padding-right: 1em; text-align: center; vertical-align: top\">None</td>\n",
       "        <td style=\"padding-left: 1em; padding-right: 1em; text-align: center; vertical-align: top\">24.4207209824</td>\n",
       "        <td style=\"padding-left: 1em; padding-right: 1em; text-align: center; vertical-align: top\">None</td>\n",
       "    </tr>\n",
       "    <tr>\n",
       "        <td style=\"padding-left: 1em; padding-right: 1em; text-align: center; vertical-align: top\">sqft_living_sqrt</td>\n",
       "        <td style=\"padding-left: 1em; padding-right: 1em; text-align: center; vertical-align: top\">None</td>\n",
       "        <td style=\"padding-left: 1em; padding-right: 1em; text-align: center; vertical-align: top\">350.060553386</td>\n",
       "        <td style=\"padding-left: 1em; padding-right: 1em; text-align: center; vertical-align: top\">None</td>\n",
       "    </tr>\n",
       "    <tr>\n",
       "        <td style=\"padding-left: 1em; padding-right: 1em; text-align: center; vertical-align: top\">grade</td>\n",
       "        <td style=\"padding-left: 1em; padding-right: 1em; text-align: center; vertical-align: top\">None</td>\n",
       "        <td style=\"padding-left: 1em; padding-right: 1em; text-align: center; vertical-align: top\">842.068034898</td>\n",
       "        <td style=\"padding-left: 1em; padding-right: 1em; text-align: center; vertical-align: top\">None</td>\n",
       "    </tr>\n",
       "    <tr>\n",
       "        <td style=\"padding-left: 1em; padding-right: 1em; text-align: center; vertical-align: top\">sqft_above</td>\n",
       "        <td style=\"padding-left: 1em; padding-right: 1em; text-align: center; vertical-align: top\">None</td>\n",
       "        <td style=\"padding-left: 1em; padding-right: 1em; text-align: center; vertical-align: top\">20.0247224171</td>\n",
       "        <td style=\"padding-left: 1em; padding-right: 1em; text-align: center; vertical-align: top\">None</td>\n",
       "    </tr>\n",
       "</table>\n",
       "[6 rows x 4 columns]<br/>\n",
       "</div>"
      ],
      "text/plain": [
       "Columns:\n",
       "\tname\tstr\n",
       "\tindex\tstr\n",
       "\tvalue\tfloat\n",
       "\tstderr\tfloat\n",
       "\n",
       "Rows: 6\n",
       "\n",
       "Data:\n",
       "+------------------+-------+---------------+--------+\n",
       "|       name       | index |     value     | stderr |\n",
       "+------------------+-------+---------------+--------+\n",
       "|   (intercept)    |  None |  274873.05595 |  None  |\n",
       "|    bathrooms     |  None | 8468.53108691 |  None  |\n",
       "|   sqft_living    |  None | 24.4207209824 |  None  |\n",
       "| sqft_living_sqrt |  None | 350.060553386 |  None  |\n",
       "|      grade       |  None | 842.068034898 |  None  |\n",
       "|    sqft_above    |  None | 20.0247224171 |  None  |\n",
       "+------------------+-------+---------------+--------+\n",
       "[6 rows x 4 columns]"
      ]
     },
     "execution_count": 7,
     "metadata": {},
     "output_type": "execute_result"
    }
   ],
   "source": [
    "print ('number of nonzeros = %d' % (model_all.coefficients['value']).nnz())\n",
    "\n",
    "coef = model_all.coefficients\n",
    "\n",
    "coef[coef['value'] != 0][:]"
   ]
  },
  {
   "cell_type": "markdown",
   "metadata": {},
   "source": [
    "Note that a majority of the weights have been set to zero. So by setting an L1 penalty that's large enough, we are performing a subset selection. \n",
    "\n",
    "***QUIZ QUESTION***:\n",
    "According to this list of weights, which of the features have been chosen? "
   ]
  },
  {
   "cell_type": "markdown",
   "metadata": {},
   "source": [
    "# Selecting an L1 penalty"
   ]
  },
  {
   "cell_type": "markdown",
   "metadata": {},
   "source": [
    "To find a good L1 penalty, we will explore multiple values using a validation set. Let us do three way split into train, validation, and test sets:\n",
    "* Split our sales data into 2 sets: training and test\n",
    "* Further split our training data into two sets: train, validation\n",
    "\n",
    "Be *very* careful that you use seed = 1 to ensure you get the same answer!"
   ]
  },
  {
   "cell_type": "code",
   "execution_count": 8,
   "metadata": {
    "collapsed": true
   },
   "outputs": [],
   "source": [
    "(training_and_validation, testing) = sales.random_split(.9,seed=1) # initial train/test split\n",
    "(training, validation) = training_and_validation.random_split(0.5, seed=1) # split training into train and validate"
   ]
  },
  {
   "cell_type": "markdown",
   "metadata": {},
   "source": [
    "Next, we write a loop that does the following:\n",
    "* For `l1_penalty` in [10^1, 10^1.5, 10^2, 10^2.5, ..., 10^7] (to get this in Python, type `np.logspace(1, 7, num=13)`.)\n",
    "    * Fit a regression model with a given `l1_penalty` on TRAIN data. Specify `l1_penalty=l1_penalty` and `l2_penalty=0.` in the parameter list.\n",
    "    * Compute the RSS on VALIDATION data (here you will want to use `.predict()`) for that `l1_penalty`\n",
    "* Report which `l1_penalty` produced the lowest RSS on validation data.\n",
    "\n",
    "When you call `linear_regression.create()` make sure you set `validation_set = None`.\n",
    "\n",
    "Note: you can turn off the print out of `linear_regression.create()` with `verbose = False`"
   ]
  },
  {
   "cell_type": "code",
   "execution_count": 9,
   "metadata": {
    "collapsed": true
   },
   "outputs": [],
   "source": [
    "import numpy as np\n",
    "def RSS(y_true, y_predict):\n",
    "    residual = y_true - y_predict\n",
    "    return np.dot(residual, residual)\n",
    "\n",
    "\n",
    "def print_coefficient(model):\n",
    "#     print(model)\n",
    "    coef = model.coefficients\n",
    "    print ('number of nonzeros = %d' % (coef['value']).nnz())\n",
    "    print(coef[coef['value'] != 0][:])\n",
    "    \n",
    "    \n",
    "def train_model(data, target, l1_penalty, max_iterations=1000, verbose=False):\n",
    "    model = graphlab.linear_regression.create(\n",
    "        data, target=target, features=all_features,\n",
    "        validation_set=None, verbose=verbose,\n",
    "        l2_penalty=0., l1_penalty=l1_penalty,\n",
    "        max_iterations=max_iterations)\n",
    "    return model"
   ]
  },
  {
   "cell_type": "code",
   "execution_count": 21,
   "metadata": {
    "scrolled": true
   },
   "outputs": [
    {
     "data": {
      "text/html": [
       "<pre>Linear regression:</pre>"
      ],
      "text/plain": [
       "Linear regression:"
      ]
     },
     "metadata": {},
     "output_type": "display_data"
    },
    {
     "data": {
      "text/html": [
       "<pre>--------------------------------------------------------</pre>"
      ],
      "text/plain": [
       "--------------------------------------------------------"
      ]
     },
     "metadata": {},
     "output_type": "display_data"
    },
    {
     "data": {
      "text/html": [
       "<pre>Number of examples          : 9761</pre>"
      ],
      "text/plain": [
       "Number of examples          : 9761"
      ]
     },
     "metadata": {},
     "output_type": "display_data"
    },
    {
     "data": {
      "text/html": [
       "<pre>Number of features          : 17</pre>"
      ],
      "text/plain": [
       "Number of features          : 17"
      ]
     },
     "metadata": {},
     "output_type": "display_data"
    },
    {
     "data": {
      "text/html": [
       "<pre>Number of unpacked features : 17</pre>"
      ],
      "text/plain": [
       "Number of unpacked features : 17"
      ]
     },
     "metadata": {},
     "output_type": "display_data"
    },
    {
     "data": {
      "text/html": [
       "<pre>Number of coefficients    : 18</pre>"
      ],
      "text/plain": [
       "Number of coefficients    : 18"
      ]
     },
     "metadata": {},
     "output_type": "display_data"
    },
    {
     "data": {
      "text/html": [
       "<pre>Starting Accelerated Gradient (FISTA)</pre>"
      ],
      "text/plain": [
       "Starting Accelerated Gradient (FISTA)"
      ]
     },
     "metadata": {},
     "output_type": "display_data"
    },
    {
     "data": {
      "text/html": [
       "<pre>--------------------------------------------------------</pre>"
      ],
      "text/plain": [
       "--------------------------------------------------------"
      ]
     },
     "metadata": {},
     "output_type": "display_data"
    },
    {
     "data": {
      "text/html": [
       "<pre>+-----------+----------+-----------+--------------+--------------------+---------------+</pre>"
      ],
      "text/plain": [
       "+-----------+----------+-----------+--------------+--------------------+---------------+"
      ]
     },
     "metadata": {},
     "output_type": "display_data"
    },
    {
     "data": {
      "text/html": [
       "<pre>| Iteration | Passes   | Step size | Elapsed Time | Training-max_error | Training-rmse |</pre>"
      ],
      "text/plain": [
       "| Iteration | Passes   | Step size | Elapsed Time | Training-max_error | Training-rmse |"
      ]
     },
     "metadata": {},
     "output_type": "display_data"
    },
    {
     "data": {
      "text/html": [
       "<pre>+-----------+----------+-----------+--------------+--------------------+---------------+</pre>"
      ],
      "text/plain": [
       "+-----------+----------+-----------+--------------+--------------------+---------------+"
      ]
     },
     "metadata": {},
     "output_type": "display_data"
    },
    {
     "data": {
      "text/html": [
       "<pre>Tuning step size. First iteration could take longer than subsequent iterations.</pre>"
      ],
      "text/plain": [
       "Tuning step size. First iteration could take longer than subsequent iterations."
      ]
     },
     "metadata": {},
     "output_type": "display_data"
    },
    {
     "data": {
      "text/html": [
       "<pre>| 1         | 2        | 0.000003  | 0.678167     | 6287429.491340     | 322431.089695 |</pre>"
      ],
      "text/plain": [
       "| 1         | 2        | 0.000003  | 0.678167     | 6287429.491340     | 322431.089695 |"
      ]
     },
     "metadata": {},
     "output_type": "display_data"
    },
    {
     "data": {
      "text/html": [
       "<pre>| 2         | 3        | 0.000003  | 0.720526     | 6004149.575378     | 303352.940082 |</pre>"
      ],
      "text/plain": [
       "| 2         | 3        | 0.000003  | 0.720526     | 6004149.575378     | 303352.940082 |"
      ]
     },
     "metadata": {},
     "output_type": "display_data"
    },
    {
     "data": {
      "text/html": [
       "<pre>| 3         | 4        | 0.000003  | 0.917160     | 5888905.510609     | 298370.891417 |</pre>"
      ],
      "text/plain": [
       "| 3         | 4        | 0.000003  | 0.917160     | 5888905.510609     | 298370.891417 |"
      ]
     },
     "metadata": {},
     "output_type": "display_data"
    },
    {
     "data": {
      "text/html": [
       "<pre>| 4         | 5        | 0.000003  | 0.982599     | 5813807.381396     | 293775.128315 |</pre>"
      ],
      "text/plain": [
       "| 4         | 5        | 0.000003  | 0.982599     | 5813807.381396     | 293775.128315 |"
      ]
     },
     "metadata": {},
     "output_type": "display_data"
    },
    {
     "data": {
      "text/html": [
       "<pre>| 5         | 6        | 0.000003  | 1.049175     | 5737601.788960     | 289375.308545 |</pre>"
      ],
      "text/plain": [
       "| 5         | 6        | 0.000003  | 1.049175     | 5737601.788960     | 289375.308545 |"
      ]
     },
     "metadata": {},
     "output_type": "display_data"
    },
    {
     "data": {
      "text/html": [
       "<pre>| 6         | 7        | 0.000003  | 1.175709     | 5655897.630825     | 285355.359658 |</pre>"
      ],
      "text/plain": [
       "| 6         | 7        | 0.000003  | 1.175709     | 5655897.630825     | 285355.359658 |"
      ]
     },
     "metadata": {},
     "output_type": "display_data"
    },
    {
     "data": {
      "text/html": [
       "<pre>| 10        | 11       | 0.000003  | 1.672835     | 5329860.559899     | 273608.863760 |</pre>"
      ],
      "text/plain": [
       "| 10        | 11       | 0.000003  | 1.672835     | 5329860.559899     | 273608.863760 |"
      ]
     },
     "metadata": {},
     "output_type": "display_data"
    },
    {
     "data": {
      "text/html": [
       "<pre>| 11        | 12       | 0.000003  | 1.726318     | 5255733.466186     | 271461.730187 |</pre>"
      ],
      "text/plain": [
       "| 11        | 12       | 0.000003  | 1.726318     | 5255733.466186     | 271461.730187 |"
      ]
     },
     "metadata": {},
     "output_type": "display_data"
    },
    {
     "data": {
      "text/html": [
       "<pre>| 20        | 21       | 0.000003  | 2.250029     | 4751748.637588     | 256677.691066 |</pre>"
      ],
      "text/plain": [
       "| 20        | 21       | 0.000003  | 2.250029     | 4751748.637588     | 256677.691066 |"
      ]
     },
     "metadata": {},
     "output_type": "display_data"
    },
    {
     "data": {
      "text/html": [
       "<pre>| 30        | 31       | 0.000003  | 2.808273     | 4373364.370272     | 249064.951771 |</pre>"
      ],
      "text/plain": [
       "| 30        | 31       | 0.000003  | 2.808273     | 4373364.370272     | 249064.951771 |"
      ]
     },
     "metadata": {},
     "output_type": "display_data"
    },
    {
     "data": {
      "text/html": [
       "<pre>| 40        | 41       | 0.000003  | 3.317365     | 4208415.112679     | 245606.985433 |</pre>"
      ],
      "text/plain": [
       "| 40        | 41       | 0.000003  | 3.317365     | 4208415.112679     | 245606.985433 |"
      ]
     },
     "metadata": {},
     "output_type": "display_data"
    },
    {
     "data": {
      "text/html": [
       "<pre>| 50        | 51       | 0.000003  | 3.748869     | 4184624.074857     | 242499.232576 |</pre>"
      ],
      "text/plain": [
       "| 50        | 51       | 0.000003  | 3.748869     | 4184624.074857     | 242499.232576 |"
      ]
     },
     "metadata": {},
     "output_type": "display_data"
    },
    {
     "data": {
      "text/html": [
       "<pre>| 51        | 52       | 0.000003  | 3.792867     | 4184494.212031     | 242188.880772 |</pre>"
      ],
      "text/plain": [
       "| 51        | 52       | 0.000003  | 3.792867     | 4184494.212031     | 242188.880772 |"
      ]
     },
     "metadata": {},
     "output_type": "display_data"
    },
    {
     "data": {
      "text/html": [
       "<pre>| 60        | 61       | 0.000003  | 4.217505     | 4181443.745824     | 239596.390361 |</pre>"
      ],
      "text/plain": [
       "| 60        | 61       | 0.000003  | 4.217505     | 4181443.745824     | 239596.390361 |"
      ]
     },
     "metadata": {},
     "output_type": "display_data"
    },
    {
     "data": {
      "text/html": [
       "<pre>| 70        | 71       | 0.000003  | 4.842856     | 4152533.255648     | 237397.922542 |</pre>"
      ],
      "text/plain": [
       "| 70        | 71       | 0.000003  | 4.842856     | 4152533.255648     | 237397.922542 |"
      ]
     },
     "metadata": {},
     "output_type": "display_data"
    },
    {
     "data": {
      "text/html": [
       "<pre>| 80        | 81       | 0.000003  | 5.544840     | 4103221.432651     | 235745.524849 |</pre>"
      ],
      "text/plain": [
       "| 80        | 81       | 0.000003  | 5.544840     | 4103221.432651     | 235745.524849 |"
      ]
     },
     "metadata": {},
     "output_type": "display_data"
    },
    {
     "data": {
      "text/html": [
       "<pre>| 90        | 91       | 0.000003  | 5.937142     | 4055290.772862     | 234373.332513 |</pre>"
      ],
      "text/plain": [
       "| 90        | 91       | 0.000003  | 5.937142     | 4055290.772862     | 234373.332513 |"
      ]
     },
     "metadata": {},
     "output_type": "display_data"
    },
    {
     "data": {
      "text/html": [
       "<pre>| 100       | 101      | 0.000003  | 6.566735     | 4016334.014449     | 233248.808616 |</pre>"
      ],
      "text/plain": [
       "| 100       | 101      | 0.000003  | 6.566735     | 4016334.014449     | 233248.808616 |"
      ]
     },
     "metadata": {},
     "output_type": "display_data"
    },
    {
     "data": {
      "text/html": [
       "<pre>| 101       | 102      | 0.000003  | 6.614593     | 4013053.136746     | 233145.128797 |</pre>"
      ],
      "text/plain": [
       "| 101       | 102      | 0.000003  | 6.614593     | 4013053.136746     | 233145.128797 |"
      ]
     },
     "metadata": {},
     "output_type": "display_data"
    },
    {
     "data": {
      "text/html": [
       "<pre>| 110       | 111      | 0.000003  | 7.180482     | 3989802.246644     | 232237.239625 |</pre>"
      ],
      "text/plain": [
       "| 110       | 111      | 0.000003  | 7.180482     | 3989802.246644     | 232237.239625 |"
      ]
     },
     "metadata": {},
     "output_type": "display_data"
    },
    {
     "data": {
      "text/html": [
       "<pre>| 120       | 121      | 0.000003  | 7.778816     | 3979282.302462     | 231267.423828 |</pre>"
      ],
      "text/plain": [
       "| 120       | 121      | 0.000003  | 7.778816     | 3979282.302462     | 231267.423828 |"
      ]
     },
     "metadata": {},
     "output_type": "display_data"
    },
    {
     "data": {
      "text/html": [
       "<pre>| 130       | 131      | 0.000003  | 8.333556     | 3981235.548616     | 230367.418581 |</pre>"
      ],
      "text/plain": [
       "| 130       | 131      | 0.000003  | 8.333556     | 3981235.548616     | 230367.418581 |"
      ]
     },
     "metadata": {},
     "output_type": "display_data"
    },
    {
     "data": {
      "text/html": [
       "<pre>| 140       | 141      | 0.000003  | 8.731255     | 3982932.235198     | 229544.587855 |</pre>"
      ],
      "text/plain": [
       "| 140       | 141      | 0.000003  | 8.731255     | 3982932.235198     | 229544.587855 |"
      ]
     },
     "metadata": {},
     "output_type": "display_data"
    },
    {
     "data": {
      "text/html": [
       "<pre>| 150       | 151      | 0.000003  | 9.386438     | 3974670.104304     | 228803.626182 |</pre>"
      ],
      "text/plain": [
       "| 150       | 151      | 0.000003  | 9.386438     | 3974670.104304     | 228803.626182 |"
      ]
     },
     "metadata": {},
     "output_type": "display_data"
    },
    {
     "data": {
      "text/html": [
       "<pre>| 160       | 161      | 0.000003  | 9.788572     | 3959628.581710     | 228154.086658 |</pre>"
      ],
      "text/plain": [
       "| 160       | 161      | 0.000003  | 9.788572     | 3959628.581710     | 228154.086658 |"
      ]
     },
     "metadata": {},
     "output_type": "display_data"
    },
    {
     "data": {
      "text/html": [
       "<pre>| 170       | 171      | 0.000003  | 10.350843    | 3946013.614966     | 227582.111238 |</pre>"
      ],
      "text/plain": [
       "| 170       | 171      | 0.000003  | 10.350843    | 3946013.614966     | 227582.111238 |"
      ]
     },
     "metadata": {},
     "output_type": "display_data"
    },
    {
     "data": {
      "text/html": [
       "<pre>| 180       | 181      | 0.000003  | 11.056740    | 3934835.346223     | 227067.249219 |</pre>"
      ],
      "text/plain": [
       "| 180       | 181      | 0.000003  | 11.056740    | 3934835.346223     | 227067.249219 |"
      ]
     },
     "metadata": {},
     "output_type": "display_data"
    },
    {
     "data": {
      "text/html": [
       "<pre>| 190       | 191      | 0.000003  | 11.758394    | 3919227.553120     | 226598.144427 |</pre>"
      ],
      "text/plain": [
       "| 190       | 191      | 0.000003  | 11.758394    | 3919227.553120     | 226598.144427 |"
      ]
     },
     "metadata": {},
     "output_type": "display_data"
    },
    {
     "data": {
      "text/html": [
       "<pre>| 200       | 201      | 0.000003  | 12.286968    | 3893102.743068     | 226159.777865 |</pre>"
      ],
      "text/plain": [
       "| 200       | 201      | 0.000003  | 12.286968    | 3893102.743068     | 226159.777865 |"
      ]
     },
     "metadata": {},
     "output_type": "display_data"
    },
    {
     "data": {
      "text/html": [
       "<pre>| 210       | 211      | 0.000003  | 12.896700    | 3857282.271371     | 225738.685380 |</pre>"
      ],
      "text/plain": [
       "| 210       | 211      | 0.000003  | 12.896700    | 3857282.271371     | 225738.685380 |"
      ]
     },
     "metadata": {},
     "output_type": "display_data"
    },
    {
     "data": {
      "text/html": [
       "<pre>| 220       | 221      | 0.000003  | 13.480490    | 3816902.727680     | 225325.253324 |</pre>"
      ],
      "text/plain": [
       "| 220       | 221      | 0.000003  | 13.480490    | 3816902.727680     | 225325.253324 |"
      ]
     },
     "metadata": {},
     "output_type": "display_data"
    },
    {
     "data": {
      "text/html": [
       "<pre>| 230       | 231      | 0.000003  | 13.927481    | 3775472.692344     | 224908.241511 |</pre>"
      ],
      "text/plain": [
       "| 230       | 231      | 0.000003  | 13.927481    | 3775472.692344     | 224908.241511 |"
      ]
     },
     "metadata": {},
     "output_type": "display_data"
    },
    {
     "data": {
      "text/html": [
       "<pre>| 240       | 241      | 0.000003  | 14.460793    | 3746620.502756     | 224479.512950 |</pre>"
      ],
      "text/plain": [
       "| 240       | 241      | 0.000003  | 14.460793    | 3746620.502756     | 224479.512950 |"
      ]
     },
     "metadata": {},
     "output_type": "display_data"
    },
    {
     "data": {
      "text/html": [
       "<pre>| 250       | 251      | 0.000003  | 14.885034    | 3718152.197883     | 224037.463012 |</pre>"
      ],
      "text/plain": [
       "| 250       | 251      | 0.000003  | 14.885034    | 3718152.197883     | 224037.463012 |"
      ]
     },
     "metadata": {},
     "output_type": "display_data"
    },
    {
     "data": {
      "text/html": [
       "<pre>| 260       | 261      | 0.000003  | 15.431547    | 3686045.667885     | 223584.606093 |</pre>"
      ],
      "text/plain": [
       "| 260       | 261      | 0.000003  | 15.431547    | 3686045.667885     | 223584.606093 |"
      ]
     },
     "metadata": {},
     "output_type": "display_data"
    },
    {
     "data": {
      "text/html": [
       "<pre>| 270       | 271      | 0.000003  | 15.989393    | 3650806.664657     | 223127.073324 |</pre>"
      ],
      "text/plain": [
       "| 270       | 271      | 0.000003  | 15.989393    | 3650806.664657     | 223127.073324 |"
      ]
     },
     "metadata": {},
     "output_type": "display_data"
    },
    {
     "data": {
      "text/html": [
       "<pre>| 280       | 281      | 0.000003  | 16.626017    | 3614574.790658     | 222672.651629 |</pre>"
      ],
      "text/plain": [
       "| 280       | 281      | 0.000003  | 16.626017    | 3614574.790658     | 222672.651629 |"
      ]
     },
     "metadata": {},
     "output_type": "display_data"
    },
    {
     "data": {
      "text/html": [
       "<pre>| 290       | 291      | 0.000003  | 17.170822    | 3579350.589433     | 222226.976785 |</pre>"
      ],
      "text/plain": [
       "| 290       | 291      | 0.000003  | 17.170822    | 3579350.589433     | 222226.976785 |"
      ]
     },
     "metadata": {},
     "output_type": "display_data"
    },
    {
     "data": {
      "text/html": [
       "<pre>| 300       | 301      | 0.000003  | 17.561307    | 3545545.455259     | 221793.456140 |</pre>"
      ],
      "text/plain": [
       "| 300       | 301      | 0.000003  | 17.561307    | 3545545.455259     | 221793.456140 |"
      ]
     },
     "metadata": {},
     "output_type": "display_data"
    },
    {
     "data": {
      "text/html": [
       "<pre>| 310       | 311      | 0.000003  | 18.154235    | 3512029.090461     | 221374.282139 |</pre>"
      ],
      "text/plain": [
       "| 310       | 311      | 0.000003  | 18.154235    | 3512029.090461     | 221374.282139 |"
      ]
     },
     "metadata": {},
     "output_type": "display_data"
    },
    {
     "data": {
      "text/html": [
       "<pre>| 320       | 321      | 0.000003  | 18.731091    | 3477522.372654     | 220970.978418 |</pre>"
      ],
      "text/plain": [
       "| 320       | 321      | 0.000003  | 18.731091    | 3477522.372654     | 220970.978418 |"
      ]
     },
     "metadata": {},
     "output_type": "display_data"
    },
    {
     "data": {
      "text/html": [
       "<pre>| 330       | 331      | 0.000003  | 19.239774    | 3441909.360049     | 220585.613500 |</pre>"
      ],
      "text/plain": [
       "| 330       | 331      | 0.000003  | 19.239774    | 3441909.360049     | 220585.613500 |"
      ]
     },
     "metadata": {},
     "output_type": "display_data"
    },
    {
     "data": {
      "text/html": [
       "<pre>| 340       | 341      | 0.000003  | 19.689564    | 3406248.949387     | 220220.784655 |</pre>"
      ],
      "text/plain": [
       "| 340       | 341      | 0.000003  | 19.689564    | 3406248.949387     | 220220.784655 |"
      ]
     },
     "metadata": {},
     "output_type": "display_data"
    },
    {
     "data": {
      "text/html": [
       "<pre>| 350       | 351      | 0.000003  | 20.212062    | 3371658.823901     | 219878.309219 |</pre>"
      ],
      "text/plain": [
       "| 350       | 351      | 0.000003  | 20.212062    | 3371658.823901     | 219878.309219 |"
      ]
     },
     "metadata": {},
     "output_type": "display_data"
    },
    {
     "data": {
      "text/html": [
       "<pre>| 360       | 361      | 0.000003  | 20.722157    | 3338312.264081     | 219558.516989 |</pre>"
      ],
      "text/plain": [
       "| 360       | 361      | 0.000003  | 20.722157    | 3338312.264081     | 219558.516989 |"
      ]
     },
     "metadata": {},
     "output_type": "display_data"
    },
    {
     "data": {
      "text/html": [
       "<pre>| 370       | 371      | 0.000003  | 21.564667    | 3305521.570645     | 219260.076113 |</pre>"
      ],
      "text/plain": [
       "| 370       | 371      | 0.000003  | 21.564667    | 3305521.570645     | 219260.076113 |"
      ]
     },
     "metadata": {},
     "output_type": "display_data"
    },
    {
     "data": {
      "text/html": [
       "<pre>| 380       | 381      | 0.000003  | 22.135017    | 3272673.085883     | 218980.336283 |</pre>"
      ],
      "text/plain": [
       "| 380       | 381      | 0.000003  | 22.135017    | 3272673.085883     | 218980.336283 |"
      ]
     },
     "metadata": {},
     "output_type": "display_data"
    },
    {
     "data": {
      "text/html": [
       "<pre>| 390       | 391      | 0.000003  | 22.721232    | 3239923.601767     | 218716.465145 |</pre>"
      ],
      "text/plain": [
       "| 390       | 391      | 0.000003  | 22.721232    | 3239923.601767     | 218716.465145 |"
      ]
     },
     "metadata": {},
     "output_type": "display_data"
    },
    {
     "data": {
      "text/html": [
       "<pre>| 400       | 401      | 0.000003  | 23.112102    | 3208001.117129     | 218466.365491 |</pre>"
      ],
      "text/plain": [
       "| 400       | 401      | 0.000003  | 23.112102    | 3208001.117129     | 218466.365491 |"
      ]
     },
     "metadata": {},
     "output_type": "display_data"
    },
    {
     "data": {
      "text/html": [
       "<pre>| 410       | 411      | 0.000003  | 23.576477    | 3177485.831886     | 218228.916991 |</pre>"
      ],
      "text/plain": [
       "| 410       | 411      | 0.000003  | 23.576477    | 3177485.831886     | 218228.916991 |"
      ]
     },
     "metadata": {},
     "output_type": "display_data"
    },
    {
     "data": {
      "text/html": [
       "<pre>| 420       | 421      | 0.000003  | 23.971563    | 3148336.168789     | 218003.786837 |</pre>"
      ],
      "text/plain": [
       "| 420       | 421      | 0.000003  | 23.971563    | 3148336.168789     | 218003.786837 |"
      ]
     },
     "metadata": {},
     "output_type": "display_data"
    },
    {
     "data": {
      "text/html": [
       "<pre>| 430       | 431      | 0.000003  | 24.480292    | 3120207.608350     | 217791.037352 |</pre>"
      ],
      "text/plain": [
       "| 430       | 431      | 0.000003  | 24.480292    | 3120207.608350     | 217791.037352 |"
      ]
     },
     "metadata": {},
     "output_type": "display_data"
    },
    {
     "data": {
      "text/html": [
       "<pre>| 440       | 441      | 0.000003  | 24.902623    | 3092813.418317     | 217590.754452 |</pre>"
      ],
      "text/plain": [
       "| 440       | 441      | 0.000003  | 24.902623    | 3092813.418317     | 217590.754452 |"
      ]
     },
     "metadata": {},
     "output_type": "display_data"
    },
    {
     "data": {
      "text/html": [
       "<pre>| 450       | 451      | 0.000003  | 25.391598    | 3066214.983200     | 217402.972494 |</pre>"
      ],
      "text/plain": [
       "| 450       | 451      | 0.000003  | 25.391598    | 3066214.983200     | 217402.972494 |"
      ]
     },
     "metadata": {},
     "output_type": "display_data"
    },
    {
     "data": {
      "text/html": [
       "<pre>| 460       | 461      | 0.000003  | 25.899761    | 3040693.465783     | 217227.737107 |</pre>"
      ],
      "text/plain": [
       "| 460       | 461      | 0.000003  | 25.899761    | 3040693.465783     | 217227.737107 |"
      ]
     },
     "metadata": {},
     "output_type": "display_data"
    },
    {
     "data": {
      "text/html": [
       "<pre>| 470       | 471      | 0.000003  | 26.289918    | 3016457.560811     | 217065.112755 |</pre>"
      ],
      "text/plain": [
       "| 470       | 471      | 0.000003  | 26.289918    | 3016457.560811     | 217065.112755 |"
      ]
     },
     "metadata": {},
     "output_type": "display_data"
    },
    {
     "data": {
      "text/html": [
       "<pre>| 480       | 481      | 0.000003  | 26.840997    | 2993509.805290     | 216915.107494 |</pre>"
      ],
      "text/plain": [
       "| 480       | 481      | 0.000003  | 26.840997    | 2993509.805290     | 216915.107494 |"
      ]
     },
     "metadata": {},
     "output_type": "display_data"
    },
    {
     "data": {
      "text/html": [
       "<pre>| 490       | 491      | 0.000003  | 27.448336    | 2971658.984718     | 216777.481298 |</pre>"
      ],
      "text/plain": [
       "| 490       | 491      | 0.000003  | 27.448336    | 2971658.984718     | 216777.481298 |"
      ]
     },
     "metadata": {},
     "output_type": "display_data"
    },
    {
     "data": {
      "text/html": [
       "<pre>| 500       | 501      | 0.000003  | 27.930596    | 2950692.457466     | 216651.574980 |</pre>"
      ],
      "text/plain": [
       "| 500       | 501      | 0.000003  | 27.930596    | 2950692.457466     | 216651.574980 |"
      ]
     },
     "metadata": {},
     "output_type": "display_data"
    },
    {
     "data": {
      "text/html": [
       "<pre>| 501       | 502      | 0.000003  | 28.048689    | 2948640.866239     | 216639.590551 |</pre>"
      ],
      "text/plain": [
       "| 501       | 502      | 0.000003  | 28.048689    | 2948640.866239     | 216639.590551 |"
      ]
     },
     "metadata": {},
     "output_type": "display_data"
    },
    {
     "data": {
      "text/html": [
       "<pre>| 510       | 511      | 0.000003  | 28.433582    | 2930561.367958     | 216536.314168 |</pre>"
      ],
      "text/plain": [
       "| 510       | 511      | 0.000003  | 28.433582    | 2930561.367958     | 216536.314168 |"
      ]
     },
     "metadata": {},
     "output_type": "display_data"
    },
    {
     "data": {
      "text/html": [
       "<pre>| 520       | 521      | 0.000003  | 29.014825    | 2911361.299443     | 216430.349929 |</pre>"
      ],
      "text/plain": [
       "| 520       | 521      | 0.000003  | 29.014825    | 2911361.299443     | 216430.349929 |"
      ]
     },
     "metadata": {},
     "output_type": "display_data"
    },
    {
     "data": {
      "text/html": [
       "<pre>| 530       | 531      | 0.000003  | 29.587831    | 2893157.446162     | 216332.241645 |</pre>"
      ],
      "text/plain": [
       "| 530       | 531      | 0.000003  | 29.587831    | 2893157.446162     | 216332.241645 |"
      ]
     },
     "metadata": {},
     "output_type": "display_data"
    },
    {
     "data": {
      "text/html": [
       "<pre>| 540       | 541      | 0.000003  | 29.989323    | 2875841.018475     | 216240.592055 |</pre>"
      ],
      "text/plain": [
       "| 540       | 541      | 0.000003  | 29.989323    | 2875841.018475     | 216240.592055 |"
      ]
     },
     "metadata": {},
     "output_type": "display_data"
    },
    {
     "data": {
      "text/html": [
       "<pre>| 550       | 551      | 0.000003  | 30.522769    | 2859169.145909     | 216154.069642 |</pre>"
      ],
      "text/plain": [
       "| 550       | 551      | 0.000003  | 30.522769    | 2859169.145909     | 216154.069642 |"
      ]
     },
     "metadata": {},
     "output_type": "display_data"
    },
    {
     "data": {
      "text/html": [
       "<pre>| 560       | 561      | 0.000003  | 31.261092    | 2842944.034874     | 216071.368439 |</pre>"
      ],
      "text/plain": [
       "| 560       | 561      | 0.000003  | 31.261092    | 2842944.034874     | 216071.368439 |"
      ]
     },
     "metadata": {},
     "output_type": "display_data"
    },
    {
     "data": {
      "text/html": [
       "<pre>| 570       | 571      | 0.000003  | 31.917554    | 2827137.883469     | 215991.208453 |</pre>"
      ],
      "text/plain": [
       "| 570       | 571      | 0.000003  | 31.917554    | 2827137.883469     | 215991.208453 |"
      ]
     },
     "metadata": {},
     "output_type": "display_data"
    },
    {
     "data": {
      "text/html": [
       "<pre>| 580       | 581      | 0.000003  | 32.344956    | 2811857.447199     | 215912.412776 |</pre>"
      ],
      "text/plain": [
       "| 580       | 581      | 0.000003  | 32.344956    | 2811857.447199     | 215912.412776 |"
      ]
     },
     "metadata": {},
     "output_type": "display_data"
    },
    {
     "data": {
      "text/html": [
       "<pre>| 590       | 591      | 0.000003  | 32.921067    | 2797218.596739     | 215834.037172 |</pre>"
      ],
      "text/plain": [
       "| 590       | 591      | 0.000003  | 32.921067    | 2797218.596739     | 215834.037172 |"
      ]
     },
     "metadata": {},
     "output_type": "display_data"
    },
    {
     "data": {
      "text/html": [
       "<pre>| 600       | 601      | 0.000003  | 33.378160    | 2783270.853683     | 215755.477620 |</pre>"
      ],
      "text/plain": [
       "| 600       | 601      | 0.000003  | 33.378160    | 2783270.853683     | 215755.477620 |"
      ]
     },
     "metadata": {},
     "output_type": "display_data"
    },
    {
     "data": {
      "text/html": [
       "<pre>| 610       | 611      | 0.000003  | 33.842187    | 2770029.530501     | 215676.471114 |</pre>"
      ],
      "text/plain": [
       "| 610       | 611      | 0.000003  | 33.842187    | 2770029.530501     | 215676.471114 |"
      ]
     },
     "metadata": {},
     "output_type": "display_data"
    },
    {
     "data": {
      "text/html": [
       "<pre>| 620       | 621      | 0.000003  | 34.418687    | 2757551.537987     | 215596.978551 |</pre>"
      ],
      "text/plain": [
       "| 620       | 621      | 0.000003  | 34.418687    | 2757551.537987     | 215596.978551 |"
      ]
     },
     "metadata": {},
     "output_type": "display_data"
    },
    {
     "data": {
      "text/html": [
       "<pre>| 630       | 631      | 0.000003  | 34.980599    | 2745966.258985     | 215517.012277 |</pre>"
      ],
      "text/plain": [
       "| 630       | 631      | 0.000003  | 34.980599    | 2745966.258985     | 215517.012277 |"
      ]
     },
     "metadata": {},
     "output_type": "display_data"
    },
    {
     "data": {
      "text/html": [
       "<pre>| 640       | 641      | 0.000003  | 35.377998    | 2735433.628547     | 215436.490623 |</pre>"
      ],
      "text/plain": [
       "| 640       | 641      | 0.000003  | 35.377998    | 2735433.628547     | 215436.490623 |"
      ]
     },
     "metadata": {},
     "output_type": "display_data"
    },
    {
     "data": {
      "text/html": [
       "<pre>| 650       | 651      | 0.000003  | 35.947410    | 2726069.050132     | 215355.181865 |</pre>"
      ],
      "text/plain": [
       "| 650       | 651      | 0.000003  | 35.947410    | 2726069.050132     | 215355.181865 |"
      ]
     },
     "metadata": {},
     "output_type": "display_data"
    },
    {
     "data": {
      "text/html": [
       "<pre>| 660       | 661      | 0.000003  | 36.417114    | 2717899.218869     | 215272.742501 |</pre>"
      ],
      "text/plain": [
       "| 660       | 661      | 0.000003  | 36.417114    | 2717899.218869     | 215272.742501 |"
      ]
     },
     "metadata": {},
     "output_type": "display_data"
    },
    {
     "data": {
      "text/html": [
       "<pre>| 670       | 671      | 0.000003  | 36.903352    | 2710880.293539     | 215188.798396 |</pre>"
      ],
      "text/plain": [
       "| 670       | 671      | 0.000003  | 36.903352    | 2710880.293539     | 215188.798396 |"
      ]
     },
     "metadata": {},
     "output_type": "display_data"
    },
    {
     "data": {
      "text/html": [
       "<pre>| 680       | 681      | 0.000003  | 37.513513    | 2704954.434985     | 215103.011230 |</pre>"
      ],
      "text/plain": [
       "| 680       | 681      | 0.000003  | 37.513513    | 2704954.434985     | 215103.011230 |"
      ]
     },
     "metadata": {},
     "output_type": "display_data"
    },
    {
     "data": {
      "text/html": [
       "<pre>| 690       | 691      | 0.000003  | 37.999053    | 2700092.565564     | 215015.100821 |</pre>"
      ],
      "text/plain": [
       "| 690       | 691      | 0.000003  | 37.999053    | 2700092.565564     | 215015.100821 |"
      ]
     },
     "metadata": {},
     "output_type": "display_data"
    },
    {
     "data": {
      "text/html": [
       "<pre>| 700       | 701      | 0.000003  | 38.531500    | 2696290.676299     | 214924.830028 |</pre>"
      ],
      "text/plain": [
       "| 700       | 701      | 0.000003  | 38.531500    | 2696290.676299     | 214924.830028 |"
      ]
     },
     "metadata": {},
     "output_type": "display_data"
    },
    {
     "data": {
      "text/html": [
       "<pre>| 710       | 711      | 0.000003  | 39.066828    | 2693534.514120     | 214831.985935 |</pre>"
      ],
      "text/plain": [
       "| 710       | 711      | 0.000003  | 39.066828    | 2693534.514120     | 214831.985935 |"
      ]
     },
     "metadata": {},
     "output_type": "display_data"
    },
    {
     "data": {
      "text/html": [
       "<pre>| 720       | 721      | 0.000003  | 39.503148    | 2691776.943535     | 214736.386455 |</pre>"
      ],
      "text/plain": [
       "| 720       | 721      | 0.000003  | 39.503148    | 2691776.943535     | 214736.386455 |"
      ]
     },
     "metadata": {},
     "output_type": "display_data"
    },
    {
     "data": {
      "text/html": [
       "<pre>| 730       | 731      | 0.000003  | 39.962582    | 2690954.045655     | 214637.914887 |</pre>"
      ],
      "text/plain": [
       "| 730       | 731      | 0.000003  | 39.962582    | 2690954.045655     | 214637.914887 |"
      ]
     },
     "metadata": {},
     "output_type": "display_data"
    },
    {
     "data": {
      "text/html": [
       "<pre>| 740       | 741      | 0.000003  | 40.360179    | 2691021.494750     | 214536.563515 |</pre>"
      ],
      "text/plain": [
       "| 740       | 741      | 0.000003  | 40.360179    | 2691021.494750     | 214536.563515 |"
      ]
     },
     "metadata": {},
     "output_type": "display_data"
    },
    {
     "data": {
      "text/html": [
       "<pre>| 750       | 751      | 0.000003  | 41.435090    | 2691971.484888     | 214432.461110 |</pre>"
      ],
      "text/plain": [
       "| 750       | 751      | 0.000003  | 41.435090    | 2691971.484888     | 214432.461110 |"
      ]
     },
     "metadata": {},
     "output_type": "display_data"
    },
    {
     "data": {
      "text/html": [
       "<pre>| 760       | 761      | 0.000003  | 42.018716    | 2693813.189009     | 214325.869359 |</pre>"
      ],
      "text/plain": [
       "| 760       | 761      | 0.000003  | 42.018716    | 2693813.189009     | 214325.869359 |"
      ]
     },
     "metadata": {},
     "output_type": "display_data"
    },
    {
     "data": {
      "text/html": [
       "<pre>| 770       | 771      | 0.000003  | 42.433547    | 2696537.166657     | 214217.152619 |</pre>"
      ],
      "text/plain": [
       "| 770       | 771      | 0.000003  | 42.433547    | 2696537.166657     | 214217.152619 |"
      ]
     },
     "metadata": {},
     "output_type": "display_data"
    },
    {
     "data": {
      "text/html": [
       "<pre>| 780       | 781      | 0.000003  | 42.974358    | 2700096.089580     | 214106.736331 |</pre>"
      ],
      "text/plain": [
       "| 780       | 781      | 0.000003  | 42.974358    | 2700096.089580     | 214106.736331 |"
      ]
     },
     "metadata": {},
     "output_type": "display_data"
    },
    {
     "data": {
      "text/html": [
       "<pre>| 790       | 791      | 0.000003  | 43.496173    | 2704413.777975     | 213995.067142 |</pre>"
      ],
      "text/plain": [
       "| 790       | 791      | 0.000003  | 43.496173    | 2704413.777975     | 213995.067142 |"
      ]
     },
     "metadata": {},
     "output_type": "display_data"
    },
    {
     "data": {
      "text/html": [
       "<pre>| 800       | 801      | 0.000003  | 43.908742    | 2709407.479989     | 213882.579853 |</pre>"
      ],
      "text/plain": [
       "| 800       | 801      | 0.000003  | 43.908742    | 2709407.479989     | 213882.579853 |"
      ]
     },
     "metadata": {},
     "output_type": "display_data"
    },
    {
     "data": {
      "text/html": [
       "<pre>| 810       | 811      | 0.000003  | 44.513864    | 2715000.717635     | 213769.669471 |</pre>"
      ],
      "text/plain": [
       "| 810       | 811      | 0.000003  | 44.513864    | 2715000.717635     | 213769.669471 |"
      ]
     },
     "metadata": {},
     "output_type": "display_data"
    },
    {
     "data": {
      "text/html": [
       "<pre>| 820       | 821      | 0.000003  | 44.900160    | 2721118.476591     | 213656.666849 |</pre>"
      ],
      "text/plain": [
       "| 820       | 821      | 0.000003  | 44.900160    | 2721118.476591     | 213656.666849 |"
      ]
     },
     "metadata": {},
     "output_type": "display_data"
    },
    {
     "data": {
      "text/html": [
       "<pre>| 830       | 831      | 0.000003  | 45.426101    | 2727675.283762     | 213543.822576 |</pre>"
      ],
      "text/plain": [
       "| 830       | 831      | 0.000003  | 45.426101    | 2727675.283762     | 213543.822576 |"
      ]
     },
     "metadata": {},
     "output_type": "display_data"
    },
    {
     "data": {
      "text/html": [
       "<pre>| 840       | 841      | 0.000003  | 45.828432    | 2734572.161740     | 213431.307195 |</pre>"
      ],
      "text/plain": [
       "| 840       | 841      | 0.000003  | 45.828432    | 2734572.161740     | 213431.307195 |"
      ]
     },
     "metadata": {},
     "output_type": "display_data"
    },
    {
     "data": {
      "text/html": [
       "<pre>| 850       | 851      | 0.000003  | 46.429880    | 2741708.134226     | 213319.231435 |</pre>"
      ],
      "text/plain": [
       "| 850       | 851      | 0.000003  | 46.429880    | 2741708.134226     | 213319.231435 |"
      ]
     },
     "metadata": {},
     "output_type": "display_data"
    },
    {
     "data": {
      "text/html": [
       "<pre>| 860       | 861      | 0.000003  | 46.867119    | 2748997.401417     | 213207.680533 |</pre>"
      ],
      "text/plain": [
       "| 860       | 861      | 0.000003  | 46.867119    | 2748997.401417     | 213207.680533 |"
      ]
     },
     "metadata": {},
     "output_type": "display_data"
    },
    {
     "data": {
      "text/html": [
       "<pre>| 870       | 871      | 0.000003  | 47.462829    | 2756378.128241     | 213096.748036 |</pre>"
      ],
      "text/plain": [
       "| 870       | 871      | 0.000003  | 47.462829    | 2756378.128241     | 213096.748036 |"
      ]
     },
     "metadata": {},
     "output_type": "display_data"
    },
    {
     "data": {
      "text/html": [
       "<pre>| 880       | 881      | 0.000003  | 48.075319    | 2763806.999760     | 212986.554101 |</pre>"
      ],
      "text/plain": [
       "| 880       | 881      | 0.000003  | 48.075319    | 2763806.999760     | 212986.554101 |"
      ]
     },
     "metadata": {},
     "output_type": "display_data"
    },
    {
     "data": {
      "text/html": [
       "<pre>| 890       | 891      | 0.000003  | 48.465901    | 2771246.721662     | 212877.242879 |</pre>"
      ],
      "text/plain": [
       "| 890       | 891      | 0.000003  | 48.465901    | 2771246.721662     | 212877.242879 |"
      ]
     },
     "metadata": {},
     "output_type": "display_data"
    },
    {
     "data": {
      "text/html": [
       "<pre>| 900       | 901      | 0.000003  | 49.070810    | 2778658.748762     | 212768.966236 |</pre>"
      ],
      "text/plain": [
       "| 900       | 901      | 0.000003  | 49.070810    | 2778658.748762     | 212768.966236 |"
      ]
     },
     "metadata": {},
     "output_type": "display_data"
    },
    {
     "data": {
      "text/html": [
       "<pre>| 910       | 911      | 0.000003  | 49.465765    | 2786006.444050     | 212661.868159 |</pre>"
      ],
      "text/plain": [
       "| 910       | 911      | 0.000003  | 49.465765    | 2786006.444050     | 212661.868159 |"
      ]
     },
     "metadata": {},
     "output_type": "display_data"
    },
    {
     "data": {
      "text/html": [
       "<pre>| 920       | 921      | 0.000003  | 49.949581    | 2793262.769211     | 212556.081044 |</pre>"
      ],
      "text/plain": [
       "| 920       | 921      | 0.000003  | 49.949581    | 2793262.769211     | 212556.081044 |"
      ]
     },
     "metadata": {},
     "output_type": "display_data"
    },
    {
     "data": {
      "text/html": [
       "<pre>| 930       | 931      | 0.000003  | 50.364271    | 2800412.916893     | 212451.734090 |</pre>"
      ],
      "text/plain": [
       "| 930       | 931      | 0.000003  | 50.364271    | 2800412.916893     | 212451.734090 |"
      ]
     },
     "metadata": {},
     "output_type": "display_data"
    },
    {
     "data": {
      "text/html": [
       "<pre>| 940       | 941      | 0.000003  | 51.013700    | 2807448.713632     | 212348.963319 |</pre>"
      ],
      "text/plain": [
       "| 940       | 941      | 0.000003  | 51.013700    | 2807448.713632     | 212348.963319 |"
      ]
     },
     "metadata": {},
     "output_type": "display_data"
    },
    {
     "data": {
      "text/html": [
       "<pre>| 950       | 951      | 0.000003  | 51.700230    | 2814360.365018     | 212247.910423 |</pre>"
      ],
      "text/plain": [
       "| 950       | 951      | 0.000003  | 51.700230    | 2814360.365018     | 212247.910423 |"
      ]
     },
     "metadata": {},
     "output_type": "display_data"
    },
    {
     "data": {
      "text/html": [
       "<pre>| 960       | 961      | 0.000003  | 52.211026    | 2821133.183106     | 212148.704902 |</pre>"
      ],
      "text/plain": [
       "| 960       | 961      | 0.000003  | 52.211026    | 2821133.183106     | 212148.704902 |"
      ]
     },
     "metadata": {},
     "output_type": "display_data"
    },
    {
     "data": {
      "text/html": [
       "<pre>| 970       | 971      | 0.000003  | 52.602289    | 2827751.288464     | 212051.435634 |</pre>"
      ],
      "text/plain": [
       "| 970       | 971      | 0.000003  | 52.602289    | 2827751.288464     | 212051.435634 |"
      ]
     },
     "metadata": {},
     "output_type": "display_data"
    },
    {
     "data": {
      "text/html": [
       "<pre>| 980       | 981      | 0.000003  | 53.140162    | 2834210.565359     | 211956.126345 |</pre>"
      ],
      "text/plain": [
       "| 980       | 981      | 0.000003  | 53.140162    | 2834210.565359     | 211956.126345 |"
      ]
     },
     "metadata": {},
     "output_type": "display_data"
    },
    {
     "data": {
      "text/html": [
       "<pre>| 990       | 991      | 0.000003  | 53.672676    | 2840527.291840     | 211862.728906 |</pre>"
      ],
      "text/plain": [
       "| 990       | 991      | 0.000003  | 53.672676    | 2840527.291840     | 211862.728906 |"
      ]
     },
     "metadata": {},
     "output_type": "display_data"
    },
    {
     "data": {
      "text/html": [
       "<pre>| 1000      | 1001     | 0.000003  | 54.100480    | 2846653.805931     | 211771.134495 |</pre>"
      ],
      "text/plain": [
       "| 1000      | 1001     | 0.000003  | 54.100480    | 2846653.805931     | 211771.134495 |"
      ]
     },
     "metadata": {},
     "output_type": "display_data"
    },
    {
     "data": {
      "text/html": [
       "<pre>| 1001      | 1002     | 0.000003  | 54.141839    | 2847254.577952     | 211762.068775 |</pre>"
      ],
      "text/plain": [
       "| 1001      | 1002     | 0.000003  | 54.141839    | 2847254.577952     | 211762.068775 |"
      ]
     },
     "metadata": {},
     "output_type": "display_data"
    },
    {
     "data": {
      "text/html": [
       "<pre>| 1010      | 1011     | 0.000003  | 54.713516    | 2852549.814413     | 211681.196134 |</pre>"
      ],
      "text/plain": [
       "| 1010      | 1011     | 0.000003  | 54.713516    | 2852549.814413     | 211681.196134 |"
      ]
     },
     "metadata": {},
     "output_type": "display_data"
    },
    {
     "data": {
      "text/html": [
       "<pre>| 1020      | 1021     | 0.000003  | 55.244291    | 2858255.029864     | 211592.754171 |</pre>"
      ],
      "text/plain": [
       "| 1020      | 1021     | 0.000003  | 55.244291    | 2858255.029864     | 211592.754171 |"
      ]
     },
     "metadata": {},
     "output_type": "display_data"
    },
    {
     "data": {
      "text/html": [
       "<pre>| 1030      | 1031     | 0.000003  | 55.684303    | 2863861.532570     | 211505.658673 |</pre>"
      ],
      "text/plain": [
       "| 1030      | 1031     | 0.000003  | 55.684303    | 2863861.532570     | 211505.658673 |"
      ]
     },
     "metadata": {},
     "output_type": "display_data"
    },
    {
     "data": {
      "text/html": [
       "<pre>| 1040      | 1041     | 0.000003  | 56.242256    | 2869322.844057     | 211419.775152 |</pre>"
      ],
      "text/plain": [
       "| 1040      | 1041     | 0.000003  | 56.242256    | 2869322.844057     | 211419.775152 |"
      ]
     },
     "metadata": {},
     "output_type": "display_data"
    },
    {
     "data": {
      "text/html": [
       "<pre>| 1050      | 1051     | 0.000003  | 56.694199    | 2874547.017907     | 211334.985302 |</pre>"
      ],
      "text/plain": [
       "| 1050      | 1051     | 0.000003  | 56.694199    | 2874547.017907     | 211334.985302 |"
      ]
     },
     "metadata": {},
     "output_type": "display_data"
    },
    {
     "data": {
      "text/html": [
       "<pre>| 1060      | 1061     | 0.000003  | 57.218830    | 2879513.076267     | 211251.186347 |</pre>"
      ],
      "text/plain": [
       "| 1060      | 1061     | 0.000003  | 57.218830    | 2879513.076267     | 211251.186347 |"
      ]
     },
     "metadata": {},
     "output_type": "display_data"
    },
    {
     "data": {
      "text/html": [
       "<pre>| 1070      | 1071     | 0.000003  | 57.639295    | 2884226.375799     | 211168.293366 |</pre>"
      ],
      "text/plain": [
       "| 1070      | 1071     | 0.000003  | 57.639295    | 2884226.375799     | 211168.293366 |"
      ]
     },
     "metadata": {},
     "output_type": "display_data"
    },
    {
     "data": {
      "text/html": [
       "<pre>| 1080      | 1081     | 0.000003  | 58.209929    | 2888717.113558     | 211086.240059 |</pre>"
      ],
      "text/plain": [
       "| 1080      | 1081     | 0.000003  | 58.209929    | 2888717.113558     | 211086.240059 |"
      ]
     },
     "metadata": {},
     "output_type": "display_data"
    },
    {
     "data": {
      "text/html": [
       "<pre>| 1090      | 1091     | 0.000003  | 58.791916    | 2892985.755123     | 211004.978694 |</pre>"
      ],
      "text/plain": [
       "| 1090      | 1091     | 0.000003  | 58.791916    | 2892985.755123     | 211004.978694 |"
      ]
     },
     "metadata": {},
     "output_type": "display_data"
    },
    {
     "data": {
      "text/html": [
       "<pre>| 1100      | 1101     | 0.000003  | 59.182720    | 2896954.029291     | 210924.477854 |</pre>"
      ],
      "text/plain": [
       "| 1100      | 1101     | 0.000003  | 59.182720    | 2896954.029291     | 210924.477854 |"
      ]
     },
     "metadata": {},
     "output_type": "display_data"
    },
    {
     "data": {
      "text/html": [
       "<pre>| 1110      | 1111     | 0.000003  | 59.756564    | 2900540.576363     | 210844.716675 |</pre>"
      ],
      "text/plain": [
       "| 1110      | 1111     | 0.000003  | 59.756564    | 2900540.576363     | 210844.716675 |"
      ]
     },
     "metadata": {},
     "output_type": "display_data"
    },
    {
     "data": {
      "text/html": [
       "<pre>| 1120      | 1121     | 0.000003  | 60.172329    | 2903717.666815     | 210765.678348 |</pre>"
      ],
      "text/plain": [
       "| 1120      | 1121     | 0.000003  | 60.172329    | 2903717.666815     | 210765.678348 |"
      ]
     },
     "metadata": {},
     "output_type": "display_data"
    },
    {
     "data": {
      "text/html": [
       "<pre>| 1130      | 1131     | 0.000003  | 60.735272    | 2906482.905481     | 210687.343700 |</pre>"
      ],
      "text/plain": [
       "| 1130      | 1131     | 0.000003  | 60.735272    | 2906482.905481     | 210687.343700 |"
      ]
     },
     "metadata": {},
     "output_type": "display_data"
    },
    {
     "data": {
      "text/html": [
       "<pre>| 1140      | 1141     | 0.000003  | 61.691712    | 2908823.388233     | 210609.687210 |</pre>"
      ],
      "text/plain": [
       "| 1140      | 1141     | 0.000003  | 61.691712    | 2908823.388233     | 210609.687210 |"
      ]
     },
     "metadata": {},
     "output_type": "display_data"
    },
    {
     "data": {
      "text/html": [
       "<pre>| 1150      | 1151     | 0.000003  | 62.193542    | 2910713.398622     | 210532.675609 |</pre>"
      ],
      "text/plain": [
       "| 1150      | 1151     | 0.000003  | 62.193542    | 2910713.398622     | 210532.675609 |"
      ]
     },
     "metadata": {},
     "output_type": "display_data"
    },
    {
     "data": {
      "text/html": [
       "<pre>| 1160      | 1161     | 0.000003  | 62.608874    | 2912124.890317     | 210456.268470 |</pre>"
      ],
      "text/plain": [
       "| 1160      | 1161     | 0.000003  | 62.608874    | 2912124.890317     | 210456.268470 |"
      ]
     },
     "metadata": {},
     "output_type": "display_data"
    },
    {
     "data": {
      "text/html": [
       "<pre>| 1170      | 1171     | 0.000003  | 63.121279    | 2913034.433068     | 210380.419904 |</pre>"
      ],
      "text/plain": [
       "| 1170      | 1171     | 0.000003  | 63.121279    | 2913034.433068     | 210380.419904 |"
      ]
     },
     "metadata": {},
     "output_type": "display_data"
    },
    {
     "data": {
      "text/html": [
       "<pre>| 1180      | 1181     | 0.000003  | 63.608793    | 2913434.889037     | 210305.083373 |</pre>"
      ],
      "text/plain": [
       "| 1180      | 1181     | 0.000003  | 63.608793    | 2913434.889037     | 210305.083373 |"
      ]
     },
     "metadata": {},
     "output_type": "display_data"
    },
    {
     "data": {
      "text/html": [
       "<pre>| 1190      | 1191     | 0.000003  | 64.013298    | 2913342.071215     | 210230.220055 |</pre>"
      ],
      "text/plain": [
       "| 1190      | 1191     | 0.000003  | 64.013298    | 2913342.071215     | 210230.220055 |"
      ]
     },
     "metadata": {},
     "output_type": "display_data"
    },
    {
     "data": {
      "text/html": [
       "<pre>| 1200      | 1201     | 0.000003  | 64.758304    | 2912783.655003     | 210155.808741 |</pre>"
      ],
      "text/plain": [
       "| 1200      | 1201     | 0.000003  | 64.758304    | 2912783.655003     | 210155.808741 |"
      ]
     },
     "metadata": {},
     "output_type": "display_data"
    },
    {
     "data": {
      "text/html": [
       "<pre>| 1210      | 1211     | 0.000003  | 65.261994    | 2911782.333384     | 210081.854070 |</pre>"
      ],
      "text/plain": [
       "| 1210      | 1211     | 0.000003  | 65.261994    | 2911782.333384     | 210081.854070 |"
      ]
     },
     "metadata": {},
     "output_type": "display_data"
    },
    {
     "data": {
      "text/html": [
       "<pre>| 1220      | 1221     | 0.000003  | 65.724189    | 2910346.563939     | 210008.389637 |</pre>"
      ],
      "text/plain": [
       "| 1220      | 1221     | 0.000003  | 65.724189    | 2910346.563939     | 210008.389637 |"
      ]
     },
     "metadata": {},
     "output_type": "display_data"
    },
    {
     "data": {
      "text/html": [
       "<pre>| 1230      | 1231     | 0.000003  | 66.170364    | 2908477.475375     | 209935.474965 |</pre>"
      ],
      "text/plain": [
       "| 1230      | 1231     | 0.000003  | 66.170364    | 2908477.475375     | 209935.474965 |"
      ]
     },
     "metadata": {},
     "output_type": "display_data"
    },
    {
     "data": {
      "text/html": [
       "<pre>| 1240      | 1241     | 0.000003  | 66.565852    | 2906187.715787     | 209863.188030 |</pre>"
      ],
      "text/plain": [
       "| 1240      | 1241     | 0.000003  | 66.565852    | 2906187.715787     | 209863.188030 |"
      ]
     },
     "metadata": {},
     "output_type": "display_data"
    },
    {
     "data": {
      "text/html": [
       "<pre>| 1250      | 1251     | 0.000003  | 67.043655    | 2903508.114120     | 209791.616437 |</pre>"
      ],
      "text/plain": [
       "| 1250      | 1251     | 0.000003  | 67.043655    | 2903508.114120     | 209791.616437 |"
      ]
     },
     "metadata": {},
     "output_type": "display_data"
    },
    {
     "data": {
      "text/html": [
       "<pre>| 1260      | 1261     | 0.000003  | 67.438886    | 2900472.944890     | 209720.850260 |</pre>"
      ],
      "text/plain": [
       "| 1260      | 1261     | 0.000003  | 67.438886    | 2900472.944890     | 209720.850260 |"
      ]
     },
     "metadata": {},
     "output_type": "display_data"
    },
    {
     "data": {
      "text/html": [
       "<pre>| 1270      | 1271     | 0.000003  | 67.824412    | 2897104.773382     | 209650.978240 |</pre>"
      ],
      "text/plain": [
       "| 1270      | 1271     | 0.000003  | 67.824412    | 2897104.773382     | 209650.978240 |"
      ]
     },
     "metadata": {},
     "output_type": "display_data"
    },
    {
     "data": {
      "text/html": [
       "<pre>| 1280      | 1281     | 0.000003  | 68.215290    | 2893417.030570     | 209582.086387 |</pre>"
      ],
      "text/plain": [
       "| 1280      | 1281     | 0.000003  | 68.215290    | 2893417.030570     | 209582.086387 |"
      ]
     },
     "metadata": {},
     "output_type": "display_data"
    },
    {
     "data": {
      "text/html": [
       "<pre>| 1290      | 1291     | 0.000003  | 68.615351    | 2889428.289291     | 209514.256700 |</pre>"
      ],
      "text/plain": [
       "| 1290      | 1291     | 0.000003  | 68.615351    | 2889428.289291     | 209514.256700 |"
      ]
     },
     "metadata": {},
     "output_type": "display_data"
    },
    {
     "data": {
      "text/html": [
       "<pre>| 1300      | 1301     | 0.000003  | 69.002882    | 2885171.728097     | 209447.564398 |</pre>"
      ],
      "text/plain": [
       "| 1300      | 1301     | 0.000003  | 69.002882    | 2885171.728097     | 209447.564398 |"
      ]
     },
     "metadata": {},
     "output_type": "display_data"
    },
    {
     "data": {
      "text/html": [
       "<pre>| 1310      | 1311     | 0.000003  | 69.398927    | 2880692.259999     | 209382.073910 |</pre>"
      ],
      "text/plain": [
       "| 1310      | 1311     | 0.000003  | 69.398927    | 2880692.259999     | 209382.073910 |"
      ]
     },
     "metadata": {},
     "output_type": "display_data"
    },
    {
     "data": {
      "text/html": [
       "<pre>| 1320      | 1321     | 0.000003  | 69.791264    | 2876036.830641     | 209317.835618 |</pre>"
      ],
      "text/plain": [
       "| 1320      | 1321     | 0.000003  | 69.791264    | 2876036.830641     | 209317.835618 |"
      ]
     },
     "metadata": {},
     "output_type": "display_data"
    },
    {
     "data": {
      "text/html": [
       "<pre>| 1330      | 1331     | 0.000003  | 70.182464    | 2871247.611538     | 209254.885519 |</pre>"
      ],
      "text/plain": [
       "| 1330      | 1331     | 0.000003  | 70.182464    | 2871247.611538     | 209254.885519 |"
      ]
     },
     "metadata": {},
     "output_type": "display_data"
    },
    {
     "data": {
      "text/html": [
       "<pre>| 1340      | 1341     | 0.000003  | 70.567719    | 2866361.974478     | 209193.248448 |</pre>"
      ],
      "text/plain": [
       "| 1340      | 1341     | 0.000003  | 70.567719    | 2866361.974478     | 209193.248448 |"
      ]
     },
     "metadata": {},
     "output_type": "display_data"
    },
    {
     "data": {
      "text/html": [
       "<pre>| 1350      | 1351     | 0.000003  | 71.232841    | 2861415.822042     | 209132.943669 |</pre>"
      ],
      "text/plain": [
       "| 1350      | 1351     | 0.000003  | 71.232841    | 2861415.822042     | 209132.943669 |"
      ]
     },
     "metadata": {},
     "output_type": "display_data"
    },
    {
     "data": {
      "text/html": [
       "<pre>| 1360      | 1361     | 0.000003  | 71.658649    | 2856445.671025     | 209073.990676 |</pre>"
      ],
      "text/plain": [
       "| 1360      | 1361     | 0.000003  | 71.658649    | 2856445.671025     | 209073.990676 |"
      ]
     },
     "metadata": {},
     "output_type": "display_data"
    },
    {
     "data": {
      "text/html": [
       "<pre>| 1370      | 1371     | 0.000003  | 72.045947    | 2851487.336791     | 209016.413088 |</pre>"
      ],
      "text/plain": [
       "| 1370      | 1371     | 0.000003  | 72.045947    | 2851487.336791     | 209016.413088 |"
      ]
     },
     "metadata": {},
     "output_type": "display_data"
    },
    {
     "data": {
      "text/html": [
       "<pre>| 1380      | 1381     | 0.000003  | 72.429835    | 2846571.232627     | 208960.239661 |</pre>"
      ],
      "text/plain": [
       "| 1380      | 1381     | 0.000003  | 72.429835    | 2846571.232627     | 208960.239661 |"
      ]
     },
     "metadata": {},
     "output_type": "display_data"
    },
    {
     "data": {
      "text/html": [
       "<pre>| 1390      | 1391     | 0.000003  | 72.821637    | 2841717.370873     | 208905.502804 |</pre>"
      ],
      "text/plain": [
       "| 1390      | 1391     | 0.000003  | 72.821637    | 2841717.370873     | 208905.502804 |"
      ]
     },
     "metadata": {},
     "output_type": "display_data"
    },
    {
     "data": {
      "text/html": [
       "<pre>| 1400      | 1401     | 0.000003  | 73.236591    | 2836934.942536     | 208852.235702 |</pre>"
      ],
      "text/plain": [
       "| 1400      | 1401     | 0.000003  | 73.236591    | 2836934.942536     | 208852.235702 |"
      ]
     },
     "metadata": {},
     "output_type": "display_data"
    },
    {
     "data": {
      "text/html": [
       "<pre>| 1410      | 1411     | 0.000003  | 73.633678    | 2832227.491196     | 208800.469069 |</pre>"
      ],
      "text/plain": [
       "| 1410      | 1411     | 0.000003  | 73.633678    | 2832227.491196     | 208800.469069 |"
      ]
     },
     "metadata": {},
     "output_type": "display_data"
    },
    {
     "data": {
      "text/html": [
       "<pre>| 1420      | 1421     | 0.000003  | 74.017137    | 2827598.822001     | 208750.227996 |</pre>"
      ],
      "text/plain": [
       "| 1420      | 1421     | 0.000003  | 74.017137    | 2827598.822001     | 208750.227996 |"
      ]
     },
     "metadata": {},
     "output_type": "display_data"
    },
    {
     "data": {
      "text/html": [
       "<pre>| 1430      | 1431     | 0.000003  | 74.412840    | 2823054.427241     | 208701.528891 |</pre>"
      ],
      "text/plain": [
       "| 1430      | 1431     | 0.000003  | 74.412840    | 2823054.427241     | 208701.528891 |"
      ]
     },
     "metadata": {},
     "output_type": "display_data"
    },
    {
     "data": {
      "text/html": [
       "<pre>| 1440      | 1441     | 0.000003  | 74.791400    | 2818598.619697     | 208654.376669 |</pre>"
      ],
      "text/plain": [
       "| 1440      | 1441     | 0.000003  | 74.791400    | 2818598.619697     | 208654.376669 |"
      ]
     },
     "metadata": {},
     "output_type": "display_data"
    },
    {
     "data": {
      "text/html": [
       "<pre>| 1450      | 1451     | 0.000003  | 75.171435    | 2814232.089963     | 208608.762710 |</pre>"
      ],
      "text/plain": [
       "| 1450      | 1451     | 0.000003  | 75.171435    | 2814232.089963     | 208608.762710 |"
      ]
     },
     "metadata": {},
     "output_type": "display_data"
    },
    {
     "data": {
      "text/html": [
       "<pre>| 1460      | 1461     | 0.000003  | 75.597701    | 2809953.424961     | 208564.664255 |</pre>"
      ],
      "text/plain": [
       "| 1460      | 1461     | 0.000003  | 75.597701    | 2809953.424961     | 208564.664255 |"
      ]
     },
     "metadata": {},
     "output_type": "display_data"
    },
    {
     "data": {
      "text/html": [
       "<pre>| 1470      | 1471     | 0.000003  | 75.981686    | 2805763.256625     | 208522.045558 |</pre>"
      ],
      "text/plain": [
       "| 1470      | 1471     | 0.000003  | 75.981686    | 2805763.256625     | 208522.045558 |"
      ]
     },
     "metadata": {},
     "output_type": "display_data"
    },
    {
     "data": {
      "text/html": [
       "<pre>| 1480      | 1481     | 0.000003  | 76.361154    | 2801666.960121     | 208480.860480 |</pre>"
      ],
      "text/plain": [
       "| 1480      | 1481     | 0.000003  | 76.361154    | 2801666.960121     | 208480.860480 |"
      ]
     },
     "metadata": {},
     "output_type": "display_data"
    },
    {
     "data": {
      "text/html": [
       "<pre>| 1490      | 1491     | 0.000003  | 76.754610    | 2797673.848556     | 208441.055754 |</pre>"
      ],
      "text/plain": [
       "| 1490      | 1491     | 0.000003  | 76.754610    | 2797673.848556     | 208441.055754 |"
      ]
     },
     "metadata": {},
     "output_type": "display_data"
    },
    {
     "data": {
      "text/html": [
       "<pre>| 1500      | 1501     | 0.000003  | 77.146124    | 2793794.513733     | 208402.574129 |</pre>"
      ],
      "text/plain": [
       "| 1500      | 1501     | 0.000003  | 77.146124    | 2793794.513733     | 208402.574129 |"
      ]
     },
     "metadata": {},
     "output_type": "display_data"
    },
    {
     "data": {
      "text/html": [
       "<pre>| 1510      | 1511     | 0.000003  | 77.539816    | 2790039.165241     | 208365.357029 |</pre>"
      ],
      "text/plain": [
       "| 1510      | 1511     | 0.000003  | 77.539816    | 2790039.165241     | 208365.357029 |"
      ]
     },
     "metadata": {},
     "output_type": "display_data"
    },
    {
     "data": {
      "text/html": [
       "<pre>| 1520      | 1521     | 0.000003  | 77.930913    | 2786418.144686     | 208329.346873 |</pre>"
      ],
      "text/plain": [
       "| 1520      | 1521     | 0.000003  | 77.930913    | 2786418.144686     | 208329.346873 |"
      ]
     },
     "metadata": {},
     "output_type": "display_data"
    },
    {
     "data": {
      "text/html": [
       "<pre>| 1530      | 1531     | 0.000003  | 78.320325    | 2782943.631805     | 208294.489363 |</pre>"
      ],
      "text/plain": [
       "| 1530      | 1531     | 0.000003  | 78.320325    | 2782943.631805     | 208294.489363 |"
      ]
     },
     "metadata": {},
     "output_type": "display_data"
    },
    {
     "data": {
      "text/html": [
       "<pre>| 1540      | 1541     | 0.000003  | 78.710209    | 2779630.704434     | 208260.735780 |</pre>"
      ],
      "text/plain": [
       "| 1540      | 1541     | 0.000003  | 78.710209    | 2779630.704434     | 208260.735780 |"
      ]
     },
     "metadata": {},
     "output_type": "display_data"
    },
    {
     "data": {
      "text/html": [
       "<pre>| 1550      | 1551     | 0.000003  | 79.105329    | 2776496.608426     | 208228.044789 |</pre>"
      ],
      "text/plain": [
       "| 1550      | 1551     | 0.000003  | 79.105329    | 2776496.608426     | 208228.044789 |"
      ]
     },
     "metadata": {},
     "output_type": "display_data"
    },
    {
     "data": {
      "text/html": [
       "<pre>| 1560      | 1561     | 0.000003  | 79.494761    | 2773558.639634     | 208196.382996 |</pre>"
      ],
      "text/plain": [
       "| 1560      | 1561     | 0.000003  | 79.494761    | 2773558.639634     | 208196.382996 |"
      ]
     },
     "metadata": {},
     "output_type": "display_data"
    },
    {
     "data": {
      "text/html": [
       "<pre>| 1570      | 1571     | 0.000003  | 79.879850    | 2770832.199614     | 208165.723729 |</pre>"
      ],
      "text/plain": [
       "| 1570      | 1571     | 0.000003  | 79.879850    | 2770832.199614     | 208165.723729 |"
      ]
     },
     "metadata": {},
     "output_type": "display_data"
    },
    {
     "data": {
      "text/html": [
       "<pre>| 1580      | 1581     | 0.000003  | 80.273495    | 2768330.313099     | 208136.044269 |</pre>"
      ],
      "text/plain": [
       "| 1580      | 1581     | 0.000003  | 80.273495    | 2768330.313099     | 208136.044269 |"
      ]
     },
     "metadata": {},
     "output_type": "display_data"
    },
    {
     "data": {
      "text/html": [
       "<pre>| 1590      | 1591     | 0.000003  | 80.666711    | 2766064.408266     | 208107.322455 |</pre>"
      ],
      "text/plain": [
       "| 1590      | 1591     | 0.000003  | 80.666711    | 2766064.408266     | 208107.322455 |"
      ]
     },
     "metadata": {},
     "output_type": "display_data"
    },
    {
     "data": {
      "text/html": [
       "<pre>| 1600      | 1601     | 0.000003  | 81.388327    | 2764044.963967     | 208079.533898 |</pre>"
      ],
      "text/plain": [
       "| 1600      | 1601     | 0.000003  | 81.388327    | 2764044.963967     | 208079.533898 |"
      ]
     },
     "metadata": {},
     "output_type": "display_data"
    },
    {
     "data": {
      "text/html": [
       "<pre>| 1610      | 1611     | 0.000003  | 81.779432    | 2762280.994186     | 208052.650696 |</pre>"
      ],
      "text/plain": [
       "| 1610      | 1611     | 0.000003  | 81.779432    | 2762280.994186     | 208052.650696 |"
      ]
     },
     "metadata": {},
     "output_type": "display_data"
    },
    {
     "data": {
      "text/html": [
       "<pre>| 1620      | 1621     | 0.000003  | 82.164588    | 2760778.834764     | 208026.641851 |</pre>"
      ],
      "text/plain": [
       "| 1620      | 1621     | 0.000003  | 82.164588    | 2760778.834764     | 208026.641851 |"
      ]
     },
     "metadata": {},
     "output_type": "display_data"
    },
    {
     "data": {
      "text/html": [
       "<pre>| 1630      | 1631     | 0.000003  | 82.575488    | 2759541.617356     | 208001.474916 |</pre>"
      ],
      "text/plain": [
       "| 1630      | 1631     | 0.000003  | 82.575488    | 2759541.617356     | 208001.474916 |"
      ]
     },
     "metadata": {},
     "output_type": "display_data"
    },
    {
     "data": {
      "text/html": [
       "<pre>| 1640      | 1641     | 0.000003  | 83.140595    | 2758570.167767     | 207977.118102 |</pre>"
      ],
      "text/plain": [
       "| 1640      | 1641     | 0.000003  | 83.140595    | 2758570.167767     | 207977.118102 |"
      ]
     },
     "metadata": {},
     "output_type": "display_data"
    },
    {
     "data": {
      "text/html": [
       "<pre>| 1650      | 1651     | 0.000003  | 83.756192    | 2757864.661959     | 207953.542235 |</pre>"
      ],
      "text/plain": [
       "| 1650      | 1651     | 0.000003  | 83.756192    | 2757864.661959     | 207953.542235 |"
      ]
     },
     "metadata": {},
     "output_type": "display_data"
    },
    {
     "data": {
      "text/html": [
       "<pre>| 1660      | 1661     | 0.000003  | 84.576734    | 2757425.740760     | 207930.722321 |</pre>"
      ],
      "text/plain": [
       "| 1660      | 1661     | 0.000003  | 84.576734    | 2757425.740760     | 207930.722321 |"
      ]
     },
     "metadata": {},
     "output_type": "display_data"
    },
    {
     "data": {
      "text/html": [
       "<pre>| 1670      | 1671     | 0.000003  | 85.390088    | 2757254.418877     | 207908.638768 |</pre>"
      ],
      "text/plain": [
       "| 1670      | 1671     | 0.000003  | 85.390088    | 2757254.418877     | 207908.638768 |"
      ]
     },
     "metadata": {},
     "output_type": "display_data"
    },
    {
     "data": {
      "text/html": [
       "<pre>| 1680      | 1681     | 0.000003  | 86.020810    | 2757351.177145     | 207887.278386 |</pre>"
      ],
      "text/plain": [
       "| 1680      | 1681     | 0.000003  | 86.020810    | 2757351.177145     | 207887.278386 |"
      ]
     },
     "metadata": {},
     "output_type": "display_data"
    },
    {
     "data": {
      "text/html": [
       "<pre>| 1690      | 1691     | 0.000003  | 86.642123    | 2757715.052342     | 207866.635110 |</pre>"
      ],
      "text/plain": [
       "| 1690      | 1691     | 0.000003  | 86.642123    | 2757715.052342     | 207866.635110 |"
      ]
     },
     "metadata": {},
     "output_type": "display_data"
    },
    {
     "data": {
      "text/html": [
       "<pre>| 1700      | 1701     | 0.000003  | 87.210400    | 2758343.132281     | 207846.710220 |</pre>"
      ],
      "text/plain": [
       "| 1700      | 1701     | 0.000003  | 87.210400    | 2758343.132281     | 207846.710220 |"
      ]
     },
     "metadata": {},
     "output_type": "display_data"
    },
    {
     "data": {
      "text/html": [
       "<pre>| 1710      | 1711     | 0.000003  | 87.714451    | 2759230.220235     | 207827.511863 |</pre>"
      ],
      "text/plain": [
       "| 1710      | 1711     | 0.000003  | 87.714451    | 2759230.220235     | 207827.511863 |"
      ]
     },
     "metadata": {},
     "output_type": "display_data"
    },
    {
     "data": {
      "text/html": [
       "<pre>| 1720      | 1721     | 0.000003  | 88.278100    | 2760368.209017     | 207809.053769 |</pre>"
      ],
      "text/plain": [
       "| 1720      | 1721     | 0.000003  | 88.278100    | 2760368.209017     | 207809.053769 |"
      ]
     },
     "metadata": {},
     "output_type": "display_data"
    },
    {
     "data": {
      "text/html": [
       "<pre>| 1730      | 1731     | 0.000003  | 88.737914    | 2761745.053633     | 207791.353329 |</pre>"
      ],
      "text/plain": [
       "| 1730      | 1731     | 0.000003  | 88.737914    | 2761745.053633     | 207791.353329 |"
      ]
     },
     "metadata": {},
     "output_type": "display_data"
    },
    {
     "data": {
      "text/html": [
       "<pre>| 1740      | 1741     | 0.000003  | 89.336898    | 2763343.781783     | 207774.429296 |</pre>"
      ],
      "text/plain": [
       "| 1740      | 1741     | 0.000003  | 89.336898    | 2763343.781783     | 207774.429296 |"
      ]
     },
     "metadata": {},
     "output_type": "display_data"
    },
    {
     "data": {
      "text/html": [
       "<pre>| 1750      | 1751     | 0.000003  | 90.002605    | 2765142.211013     | 207758.299413 |</pre>"
      ],
      "text/plain": [
       "| 1750      | 1751     | 0.000003  | 90.002605    | 2765142.211013     | 207758.299413 |"
      ]
     },
     "metadata": {},
     "output_type": "display_data"
    },
    {
     "data": {
      "text/html": [
       "<pre>| 1760      | 1761     | 0.000003  | 90.572568    | 2767113.720342     | 207742.978271 |</pre>"
      ],
      "text/plain": [
       "| 1760      | 1761     | 0.000003  | 90.572568    | 2767113.720342     | 207742.978271 |"
      ]
     },
     "metadata": {},
     "output_type": "display_data"
    },
    {
     "data": {
      "text/html": [
       "<pre>| 1770      | 1771     | 0.000003  | 91.415131    | 2769228.823000     | 207728.475623 |</pre>"
      ],
      "text/plain": [
       "| 1770      | 1771     | 0.000003  | 91.415131    | 2769228.823000     | 207728.475623 |"
      ]
     },
     "metadata": {},
     "output_type": "display_data"
    },
    {
     "data": {
      "text/html": [
       "<pre>| 1780      | 1781     | 0.000003  | 92.076922    | 2771456.934098     | 207714.795405 |</pre>"
      ],
      "text/plain": [
       "| 1780      | 1781     | 0.000003  | 92.076922    | 2771456.934098     | 207714.795405 |"
      ]
     },
     "metadata": {},
     "output_type": "display_data"
    },
    {
     "data": {
      "text/html": [
       "<pre>| 1790      | 1791     | 0.000003  | 92.530821    | 2773767.892077     | 207701.935674 |</pre>"
      ],
      "text/plain": [
       "| 1790      | 1791     | 0.000003  | 92.530821    | 2773767.892077     | 207701.935674 |"
      ]
     },
     "metadata": {},
     "output_type": "display_data"
    },
    {
     "data": {
      "text/html": [
       "<pre>| 1800      | 1801     | 0.000003  | 92.945403    | 2776133.221107     | 207689.889469 |</pre>"
      ],
      "text/plain": [
       "| 1800      | 1801     | 0.000003  | 92.945403    | 2776133.221107     | 207689.889469 |"
      ]
     },
     "metadata": {},
     "output_type": "display_data"
    },
    {
     "data": {
      "text/html": [
       "<pre>| 1810      | 1811     | 0.000003  | 93.337132    | 2778527.331297     | 207678.646408 |</pre>"
      ],
      "text/plain": [
       "| 1810      | 1811     | 0.000003  | 93.337132    | 2778527.331297     | 207678.646408 |"
      ]
     },
     "metadata": {},
     "output_type": "display_data"
    },
    {
     "data": {
      "text/html": [
       "<pre>| 1820      | 1821     | 0.000003  | 93.730147    | 2780928.661648     | 207668.194533 |</pre>"
      ],
      "text/plain": [
       "| 1820      | 1821     | 0.000003  | 93.730147    | 2780928.661648     | 207668.194533 |"
      ]
     },
     "metadata": {},
     "output_type": "display_data"
    },
    {
     "data": {
      "text/html": [
       "<pre>| 1830      | 1831     | 0.000003  | 94.122700    | 2783320.454488     | 207658.521847 |</pre>"
      ],
      "text/plain": [
       "| 1830      | 1831     | 0.000003  | 94.122700    | 2783320.454488     | 207658.521847 |"
      ]
     },
     "metadata": {},
     "output_type": "display_data"
    },
    {
     "data": {
      "text/html": [
       "<pre>| 1840      | 1841     | 0.000003  | 94.536672    | 2785690.800648     | 207649.617126 |</pre>"
      ],
      "text/plain": [
       "| 1840      | 1841     | 0.000003  | 94.536672    | 2785690.800648     | 207649.617126 |"
      ]
     },
     "metadata": {},
     "output_type": "display_data"
    },
    {
     "data": {
      "text/html": [
       "<pre>| 1850      | 1851     | 0.000003  | 94.931564    | 2788031.891840     | 207641.469913 |</pre>"
      ],
      "text/plain": [
       "| 1850      | 1851     | 0.000003  | 94.931564    | 2788031.891840     | 207641.469913 |"
      ]
     },
     "metadata": {},
     "output_type": "display_data"
    },
    {
     "data": {
      "text/html": [
       "<pre>| 1860      | 1861     | 0.000003  | 95.431638    | 2790338.786280     | 207634.069899 |</pre>"
      ],
      "text/plain": [
       "| 1860      | 1861     | 0.000003  | 95.431638    | 2790338.786280     | 207634.069899 |"
      ]
     },
     "metadata": {},
     "output_type": "display_data"
    },
    {
     "data": {
      "text/html": [
       "<pre>| 1870      | 1871     | 0.000003  | 96.081998    | 2792608.124786     | 207627.406090 |</pre>"
      ],
      "text/plain": [
       "| 1870      | 1871     | 0.000003  | 96.081998    | 2792608.124786     | 207627.406090 |"
      ]
     },
     "metadata": {},
     "output_type": "display_data"
    },
    {
     "data": {
      "text/html": [
       "<pre>| 1880      | 1881     | 0.000003  | 96.535442    | 2794837.075213     | 207621.466036 |</pre>"
      ],
      "text/plain": [
       "| 1880      | 1881     | 0.000003  | 96.535442    | 2794837.075213     | 207621.466036 |"
      ]
     },
     "metadata": {},
     "output_type": "display_data"
    },
    {
     "data": {
      "text/html": [
       "<pre>| 1890      | 1891     | 0.000003  | 97.137578    | 2797022.535033     | 207616.235207 |</pre>"
      ],
      "text/plain": [
       "| 1890      | 1891     | 0.000003  | 97.137578    | 2797022.535033     | 207616.235207 |"
      ]
     },
     "metadata": {},
     "output_type": "display_data"
    },
    {
     "data": {
      "text/html": [
       "<pre>| 1900      | 1901     | 0.000003  | 97.531503    | 2799160.511063     | 207611.696404 |</pre>"
      ],
      "text/plain": [
       "| 1900      | 1901     | 0.000003  | 97.531503    | 2799160.511063     | 207611.696404 |"
      ]
     },
     "metadata": {},
     "output_type": "display_data"
    },
    {
     "data": {
      "text/html": [
       "<pre>| 1910      | 1911     | 0.000003  | 98.260874    | 2801245.670440     | 207607.829045 |</pre>"
      ],
      "text/plain": [
       "| 1910      | 1911     | 0.000003  | 98.260874    | 2801245.670440     | 207607.829045 |"
      ]
     },
     "metadata": {},
     "output_type": "display_data"
    },
    {
     "data": {
      "text/html": [
       "<pre>| 1920      | 1921     | 0.000003  | 98.719367    | 2803271.181050     | 207604.608377 |</pre>"
      ],
      "text/plain": [
       "| 1920      | 1921     | 0.000003  | 98.719367    | 2803271.181050     | 207604.608377 |"
      ]
     },
     "metadata": {},
     "output_type": "display_data"
    },
    {
     "data": {
      "text/html": [
       "<pre>| 1930      | 1931     | 0.000003  | 99.186825    | 2805228.963119     | 207602.004823 |</pre>"
      ],
      "text/plain": [
       "| 1930      | 1931     | 0.000003  | 99.186825    | 2805228.963119     | 207602.004823 |"
      ]
     },
     "metadata": {},
     "output_type": "display_data"
    },
    {
     "data": {
      "text/html": [
       "<pre>| 1940      | 1941     | 0.000003  | 99.646621    | 2807110.319535     | 207599.983837 |</pre>"
      ],
      "text/plain": [
       "| 1940      | 1941     | 0.000003  | 99.646621    | 2807110.319535     | 207599.983837 |"
      ]
     },
     "metadata": {},
     "output_type": "display_data"
    },
    {
     "data": {
      "text/html": [
       "<pre>| 1950      | 1951     | 0.000003  | 100.230962   | 2808906.726133     | 207598.506506 |</pre>"
      ],
      "text/plain": [
       "| 1950      | 1951     | 0.000003  | 100.230962   | 2808906.726133     | 207598.506506 |"
      ]
     },
     "metadata": {},
     "output_type": "display_data"
    },
    {
     "data": {
      "text/html": [
       "<pre>| 1960      | 1961     | 0.000003  | 100.760370   | 2810610.506618     | 207597.530919 |</pre>"
      ],
      "text/plain": [
       "| 1960      | 1961     | 0.000003  | 100.760370   | 2810610.506618     | 207597.530919 |"
      ]
     },
     "metadata": {},
     "output_type": "display_data"
    },
    {
     "data": {
      "text/html": [
       "<pre>| 1970      | 1971     | 0.000003  | 101.555563   | 2812215.230450     | 207597.014043 |</pre>"
      ],
      "text/plain": [
       "| 1970      | 1971     | 0.000003  | 101.555563   | 2812215.230450     | 207597.014043 |"
      ]
     },
     "metadata": {},
     "output_type": "display_data"
    },
    {
     "data": {
      "text/html": [
       "<pre>| 1980      | 1981     | 0.000003  | 102.107232   | 2813715.841861     | 207596.913647 |</pre>"
      ],
      "text/plain": [
       "| 1980      | 1981     | 0.000003  | 102.107232   | 2813715.841861     | 207596.913647 |"
      ]
     },
     "metadata": {},
     "output_type": "display_data"
    },
    {
     "data": {
      "text/html": [
       "<pre>| 1990      | 1991     | 0.000003  | 102.629449   | 2815108.608139     | 207597.189909 |</pre>"
      ],
      "text/plain": [
       "| 1990      | 1991     | 0.000003  | 102.629449   | 2815108.608139     | 207597.189909 |"
      ]
     },
     "metadata": {},
     "output_type": "display_data"
    },
    {
     "data": {
      "text/html": [
       "<pre>| 2000      | 2001     | 0.000003  | 103.064192   | 2816390.931099     | 207597.806439 |</pre>"
      ],
      "text/plain": [
       "| 2000      | 2001     | 0.000003  | 103.064192   | 2816390.931099     | 207597.806439 |"
      ]
     },
     "metadata": {},
     "output_type": "display_data"
    },
    {
     "data": {
      "text/html": [
       "<pre>| 2010      | 2011     | 0.000003  | 103.493937   | 2817560.991916     | 207598.730706 |</pre>"
      ],
      "text/plain": [
       "| 2010      | 2011     | 0.000003  | 103.493937   | 2817560.991916     | 207598.730706 |"
      ]
     },
     "metadata": {},
     "output_type": "display_data"
    },
    {
     "data": {
      "text/html": [
       "<pre>| 2020      | 2021     | 0.000003  | 103.890840   | 2818617.205145     | 207599.933971 |</pre>"
      ],
      "text/plain": [
       "| 2020      | 2021     | 0.000003  | 103.890840   | 2818617.205145     | 207599.933971 |"
      ]
     },
     "metadata": {},
     "output_type": "display_data"
    },
    {
     "data": {
      "text/html": [
       "<pre>| 2030      | 2031     | 0.000003  | 104.460711   | 2819557.551733     | 207601.390895 |</pre>"
      ],
      "text/plain": [
       "| 2030      | 2031     | 0.000003  | 104.460711   | 2819557.551733     | 207601.390895 |"
      ]
     },
     "metadata": {},
     "output_type": "display_data"
    },
    {
     "data": {
      "text/html": [
       "<pre>| 2040      | 2041     | 0.000003  | 104.854726   | 2820378.954732     | 207603.078951 |</pre>"
      ],
      "text/plain": [
       "| 2040      | 2041     | 0.000003  | 104.854726   | 2820378.954732     | 207603.078951 |"
      ]
     },
     "metadata": {},
     "output_type": "display_data"
    },
    {
     "data": {
      "text/html": [
       "<pre>| 2050      | 2051     | 0.000003  | 105.438222   | 2821076.866940     | 207604.977762 |</pre>"
      ],
      "text/plain": [
       "| 2050      | 2051     | 0.000003  | 105.438222   | 2821076.866940     | 207604.977762 |"
      ]
     },
     "metadata": {},
     "output_type": "display_data"
    },
    {
     "data": {
      "text/html": [
       "<pre>| 2060      | 2061     | 0.000003  | 106.039773   | 2821645.154186     | 207607.068419 |</pre>"
      ],
      "text/plain": [
       "| 2060      | 2061     | 0.000003  | 106.039773   | 2821645.154186     | 207607.068419 |"
      ]
     },
     "metadata": {},
     "output_type": "display_data"
    },
    {
     "data": {
      "text/html": [
       "<pre>| 2070      | 2071     | 0.000003  | 106.585141   | 2822076.254800     | 207609.332881 |</pre>"
      ],
      "text/plain": [
       "| 2070      | 2071     | 0.000003  | 106.585141   | 2822076.254800     | 207609.332881 |"
      ]
     },
     "metadata": {},
     "output_type": "display_data"
    },
    {
     "data": {
      "text/html": [
       "<pre>| 2080      | 2081     | 0.000003  | 107.026315   | 2822361.548430     | 207611.753523 |</pre>"
      ],
      "text/plain": [
       "| 2080      | 2081     | 0.000003  | 107.026315   | 2822361.548430     | 207611.753523 |"
      ]
     },
     "metadata": {},
     "output_type": "display_data"
    },
    {
     "data": {
      "text/html": [
       "<pre>| 2090      | 2091     | 0.000003  | 107.490957   | 2822491.884307     | 207614.312886 |</pre>"
      ],
      "text/plain": [
       "| 2090      | 2091     | 0.000003  | 107.490957   | 2822491.884307     | 207614.312886 |"
      ]
     },
     "metadata": {},
     "output_type": "display_data"
    },
    {
     "data": {
      "text/html": [
       "<pre>| 2100      | 2101     | 0.000003  | 107.968538   | 2822458.249154     | 207616.993660 |</pre>"
      ],
      "text/plain": [
       "| 2100      | 2101     | 0.000003  | 107.968538   | 2822458.249154     | 207616.993660 |"
      ]
     },
     "metadata": {},
     "output_type": "display_data"
    },
    {
     "data": {
      "text/html": [
       "<pre>| 2110      | 2111     | 0.000003  | 108.362424   | 2822252.545329     | 207619.778903 |</pre>"
      ],
      "text/plain": [
       "| 2110      | 2111     | 0.000003  | 108.362424   | 2822252.545329     | 207619.778903 |"
      ]
     },
     "metadata": {},
     "output_type": "display_data"
    },
    {
     "data": {
      "text/html": [
       "<pre>| 2120      | 2121     | 0.000003  | 108.803930   | 2821868.398957     | 207622.652483 |</pre>"
      ],
      "text/plain": [
       "| 2120      | 2121     | 0.000003  | 108.803930   | 2821868.398957     | 207622.652483 |"
      ]
     },
     "metadata": {},
     "output_type": "display_data"
    },
    {
     "data": {
      "text/html": [
       "<pre>| 2130      | 2131     | 0.000003  | 109.194308   | 2821301.873007     | 207625.599706 |</pre>"
      ],
      "text/plain": [
       "| 2130      | 2131     | 0.000003  | 109.194308   | 2821301.873007     | 207625.599706 |"
      ]
     },
     "metadata": {},
     "output_type": "display_data"
    },
    {
     "data": {
      "text/html": [
       "<pre>| 2140      | 2141     | 0.000003  | 109.587458   | 2820551.968649     | 207628.608048 |</pre>"
      ],
      "text/plain": [
       "| 2140      | 2141     | 0.000003  | 109.587458   | 2820551.968649     | 207628.608048 |"
      ]
     },
     "metadata": {},
     "output_type": "display_data"
    },
    {
     "data": {
      "text/html": [
       "<pre>| 2150      | 2151     | 0.000003  | 109.994956   | 2819620.860027     | 207631.667869 |</pre>"
      ],
      "text/plain": [
       "| 2150      | 2151     | 0.000003  | 109.994956   | 2819620.860027     | 207631.667869 |"
      ]
     },
     "metadata": {},
     "output_type": "display_data"
    },
    {
     "data": {
      "text/html": [
       "<pre>| 2160      | 2161     | 0.000003  | 110.420063   | 2818513.878395     | 207634.772922 |</pre>"
      ],
      "text/plain": [
       "| 2160      | 2161     | 0.000003  | 110.420063   | 2818513.878395     | 207634.772922 |"
      ]
     },
     "metadata": {},
     "output_type": "display_data"
    },
    {
     "data": {
      "text/html": [
       "<pre>| 2170      | 2171     | 0.000003  | 111.034928   | 2817239.296404     | 207637.920489 |</pre>"
      ],
      "text/plain": [
       "| 2170      | 2171     | 0.000003  | 111.034928   | 2817239.296404     | 207637.920489 |"
      ]
     },
     "metadata": {},
     "output_type": "display_data"
    },
    {
     "data": {
      "text/html": [
       "<pre>| 2180      | 2181     | 0.000003  | 111.601293   | 2815807.957311     | 207641.111056 |</pre>"
      ],
      "text/plain": [
       "| 2180      | 2181     | 0.000003  | 111.601293   | 2815807.957311     | 207641.111056 |"
      ]
     },
     "metadata": {},
     "output_type": "display_data"
    },
    {
     "data": {
      "text/html": [
       "<pre>| 2190      | 2191     | 0.000003  | 111.992915   | 2814232.778777     | 207644.347551 |</pre>"
      ],
      "text/plain": [
       "| 2190      | 2191     | 0.000003  | 111.992915   | 2814232.778777     | 207644.347551 |"
      ]
     },
     "metadata": {},
     "output_type": "display_data"
    },
    {
     "data": {
      "text/html": [
       "<pre>| 2200      | 2201     | 0.000003  | 112.383001   | 2812528.167381     | 207647.634315 |</pre>"
      ],
      "text/plain": [
       "| 2200      | 2201     | 0.000003  | 112.383001   | 2812528.167381     | 207647.634315 |"
      ]
     },
     "metadata": {},
     "output_type": "display_data"
    },
    {
     "data": {
      "text/html": [
       "<pre>| 2210      | 2211     | 0.000003  | 112.761222   | 2810709.405919     | 207650.976021 |</pre>"
      ],
      "text/plain": [
       "| 2210      | 2211     | 0.000003  | 112.761222   | 2810709.405919     | 207650.976021 |"
      ]
     },
     "metadata": {},
     "output_type": "display_data"
    },
    {
     "data": {
      "text/html": [
       "<pre>| 2220      | 2221     | 0.000003  | 113.141710   | 2808792.092557     | 207654.376741 |</pre>"
      ],
      "text/plain": [
       "| 2220      | 2221     | 0.000003  | 113.141710   | 2808792.092557     | 207654.376741 |"
      ]
     },
     "metadata": {},
     "output_type": "display_data"
    },
    {
     "data": {
      "text/html": [
       "<pre>| 2230      | 2231     | 0.000003  | 113.534116   | 2806791.695600     | 207657.839260 |</pre>"
      ],
      "text/plain": [
       "| 2230      | 2231     | 0.000003  | 113.534116   | 2806791.695600     | 207657.839260 |"
      ]
     },
     "metadata": {},
     "output_type": "display_data"
    },
    {
     "data": {
      "text/html": [
       "<pre>| 2240      | 2241     | 0.000003  | 113.917970   | 2804723.245822     | 207661.364656 |</pre>"
      ],
      "text/plain": [
       "| 2240      | 2241     | 0.000003  | 113.917970   | 2804723.245822     | 207661.364656 |"
      ]
     },
     "metadata": {},
     "output_type": "display_data"
    },
    {
     "data": {
      "text/html": [
       "<pre>| 2250      | 2251     | 0.000003  | 114.326906   | 2802601.147980     | 207664.952097 |</pre>"
      ],
      "text/plain": [
       "| 2250      | 2251     | 0.000003  | 114.326906   | 2802601.147980     | 207664.952097 |"
      ]
     },
     "metadata": {},
     "output_type": "display_data"
    },
    {
     "data": {
      "text/html": [
       "<pre>| 2260      | 2261     | 0.000003  | 114.740588   | 2800439.077612     | 207668.598797 |</pre>"
      ],
      "text/plain": [
       "| 2260      | 2261     | 0.000003  | 114.740588   | 2800439.077612     | 207668.598797 |"
      ]
     },
     "metadata": {},
     "output_type": "display_data"
    },
    {
     "data": {
      "text/html": [
       "<pre>| 2270      | 2271     | 0.000003  | 115.208162   | 2798249.938125     | 207672.300120 |</pre>"
      ],
      "text/plain": [
       "| 2270      | 2271     | 0.000003  | 115.208162   | 2798249.938125     | 207672.300120 |"
      ]
     },
     "metadata": {},
     "output_type": "display_data"
    },
    {
     "data": {
      "text/html": [
       "<pre>| 2280      | 2281     | 0.000003  | 115.616746   | 2796045.866897     | 207676.049858 |</pre>"
      ],
      "text/plain": [
       "| 2280      | 2281     | 0.000003  | 115.616746   | 2796045.866897     | 207676.049858 |"
      ]
     },
     "metadata": {},
     "output_type": "display_data"
    },
    {
     "data": {
      "text/html": [
       "<pre>| 2290      | 2291     | 0.000003  | 116.189235   | 2793838.280167     | 207679.840663 |</pre>"
      ],
      "text/plain": [
       "| 2290      | 2291     | 0.000003  | 116.189235   | 2793838.280167     | 207679.840663 |"
      ]
     },
     "metadata": {},
     "output_type": "display_data"
    },
    {
     "data": {
      "text/html": [
       "<pre>| 2300      | 2301     | 0.000003  | 116.654751   | 2791637.935592     | 207683.664596 |</pre>"
      ],
      "text/plain": [
       "| 2300      | 2301     | 0.000003  | 116.654751   | 2791637.935592     | 207683.664596 |"
      ]
     },
     "metadata": {},
     "output_type": "display_data"
    },
    {
     "data": {
      "text/html": [
       "<pre>| 2310      | 2311     | 0.000003  | 117.121260   | 2789454.983449     | 207687.513697 |</pre>"
      ],
      "text/plain": [
       "| 2310      | 2311     | 0.000003  | 117.121260   | 2789454.983449     | 207687.513697 |"
      ]
     },
     "metadata": {},
     "output_type": "display_data"
    },
    {
     "data": {
      "text/html": [
       "<pre>| 2320      | 2321     | 0.000003  | 117.642113   | 2787298.984718     | 207691.380420 |</pre>"
      ],
      "text/plain": [
       "| 2320      | 2321     | 0.000003  | 117.642113   | 2787298.984718     | 207691.380420 |"
      ]
     },
     "metadata": {},
     "output_type": "display_data"
    },
    {
     "data": {
      "text/html": [
       "<pre>| 2330      | 2331     | 0.000003  | 118.177269   | 2785178.893482     | 207695.257864 |</pre>"
      ],
      "text/plain": [
       "| 2330      | 2331     | 0.000003  | 118.177269   | 2785178.893482     | 207695.257864 |"
      ]
     },
     "metadata": {},
     "output_type": "display_data"
    },
    {
     "data": {
      "text/html": [
       "<pre>| 2340      | 2341     | 0.000003  | 118.598432   | 2783103.017240     | 207699.139717 |</pre>"
      ],
      "text/plain": [
       "| 2340      | 2341     | 0.000003  | 118.598432   | 2783103.017240     | 207699.139717 |"
      ]
     },
     "metadata": {},
     "output_type": "display_data"
    },
    {
     "data": {
      "text/html": [
       "<pre>| 2350      | 2351     | 0.000003  | 119.038303   | 2781078.970523     | 207703.019968 |</pre>"
      ],
      "text/plain": [
       "| 2350      | 2351     | 0.000003  | 119.038303   | 2781078.970523     | 207703.019968 |"
      ]
     },
     "metadata": {},
     "output_type": "display_data"
    },
    {
     "data": {
      "text/html": [
       "<pre>| 2360      | 2361     | 0.000003  | 119.560183   | 2779113.627491     | 207706.892449 |</pre>"
      ],
      "text/plain": [
       "| 2360      | 2361     | 0.000003  | 119.560183   | 2779113.627491     | 207706.892449 |"
      ]
     },
     "metadata": {},
     "output_type": "display_data"
    },
    {
     "data": {
      "text/html": [
       "<pre>| 2370      | 2371     | 0.000003  | 119.960310   | 2777213.070932     | 207710.750306 |</pre>"
      ],
      "text/plain": [
       "| 2370      | 2371     | 0.000003  | 119.960310   | 2777213.070932     | 207710.750306 |"
      ]
     },
     "metadata": {},
     "output_type": "display_data"
    },
    {
     "data": {
      "text/html": [
       "<pre>| 2380      | 2381     | 0.000003  | 120.504781   | 2775382.537913     | 207714.585519 |</pre>"
      ],
      "text/plain": [
       "| 2380      | 2381     | 0.000003  | 120.504781   | 2775382.537913     | 207714.585519 |"
      ]
     },
     "metadata": {},
     "output_type": "display_data"
    },
    {
     "data": {
      "text/html": [
       "<pre>| 2390      | 2391     | 0.000003  | 121.054796   | 2773626.374045     | 207718.388537 |</pre>"
      ],
      "text/plain": [
       "| 2390      | 2391     | 0.000003  | 121.054796   | 2773626.374045     | 207718.388537 |"
      ]
     },
     "metadata": {},
     "output_type": "display_data"
    },
    {
     "data": {
      "text/html": [
       "<pre>| 2400      | 2401     | 0.000003  | 121.763744   | 2771948.018095     | 207722.148109 |</pre>"
      ],
      "text/plain": [
       "| 2400      | 2401     | 0.000003  | 121.763744   | 2771948.018095     | 207722.148109 |"
      ]
     },
     "metadata": {},
     "output_type": "display_data"
    },
    {
     "data": {
      "text/html": [
       "<pre>| 2410      | 2411     | 0.000003  | 122.216270   | 2770350.038167     | 207725.851341 |</pre>"
      ],
      "text/plain": [
       "| 2410      | 2411     | 0.000003  | 122.216270   | 2770350.038167     | 207725.851341 |"
      ]
     },
     "metadata": {},
     "output_type": "display_data"
    },
    {
     "data": {
      "text/html": [
       "<pre>| 2420      | 2421     | 0.000003  | 122.741893   | 2768834.231076     | 207729.483986 |</pre>"
      ],
      "text/plain": [
       "| 2420      | 2421     | 0.000003  | 122.741893   | 2768834.231076     | 207729.483986 |"
      ]
     },
     "metadata": {},
     "output_type": "display_data"
    },
    {
     "data": {
      "text/html": [
       "<pre>| 2430      | 2431     | 0.000003  | 123.133464   | 2767401.785493     | 207733.030916 |</pre>"
      ],
      "text/plain": [
       "| 2430      | 2431     | 0.000003  | 123.133464   | 2767401.785493     | 207733.030916 |"
      ]
     },
     "metadata": {},
     "output_type": "display_data"
    },
    {
     "data": {
      "text/html": [
       "<pre>| 2440      | 2441     | 0.000003  | 123.618884   | 2766053.502679     | 207736.476718 |</pre>"
      ],
      "text/plain": [
       "| 2440      | 2441     | 0.000003  | 123.618884   | 2766053.502679     | 207736.476718 |"
      ]
     },
     "metadata": {},
     "output_type": "display_data"
    },
    {
     "data": {
      "text/html": [
       "<pre>| 2450      | 2451     | 0.000003  | 124.024159   | 2764790.064938     | 207739.806315 |</pre>"
      ],
      "text/plain": [
       "| 2450      | 2451     | 0.000003  | 124.024159   | 2764790.064938     | 207739.806315 |"
      ]
     },
     "metadata": {},
     "output_type": "display_data"
    },
    {
     "data": {
      "text/html": [
       "<pre>| 2460      | 2461     | 0.000003  | 124.597885   | 2763612.335809     | 207743.005534 |</pre>"
      ],
      "text/plain": [
       "| 2460      | 2461     | 0.000003  | 124.597885   | 2763612.335809     | 207743.005534 |"
      ]
     },
     "metadata": {},
     "output_type": "display_data"
    },
    {
     "data": {
      "text/html": [
       "<pre>| 2470      | 2471     | 0.000003  | 125.091197   | 2762521.664940     | 207746.061587 |</pre>"
      ],
      "text/plain": [
       "| 2470      | 2471     | 0.000003  | 125.091197   | 2762521.664940     | 207746.061587 |"
      ]
     },
     "metadata": {},
     "output_type": "display_data"
    },
    {
     "data": {
      "text/html": [
       "<pre>| 2480      | 2481     | 0.000003  | 125.526434   | 2761520.158565     | 207748.963416 |</pre>"
      ],
      "text/plain": [
       "| 2480      | 2481     | 0.000003  | 125.526434   | 2761520.158565     | 207748.963416 |"
      ]
     },
     "metadata": {},
     "output_type": "display_data"
    },
    {
     "data": {
      "text/html": [
       "<pre>| 2490      | 2491     | 0.000003  | 126.059243   | 2760610.871469     | 207751.701911 |</pre>"
      ],
      "text/plain": [
       "| 2490      | 2491     | 0.000003  | 126.059243   | 2760610.871469     | 207751.701911 |"
      ]
     },
     "metadata": {},
     "output_type": "display_data"
    },
    {
     "data": {
      "text/html": [
       "<pre>| 2500      | 2501     | 0.000003  | 126.546186   | 2759797.883061     | 207754.269976 |</pre>"
      ],
      "text/plain": [
       "| 2500      | 2501     | 0.000003  | 126.546186   | 2759797.883061     | 207754.269976 |"
      ]
     },
     "metadata": {},
     "output_type": "display_data"
    },
    {
     "data": {
      "text/html": [
       "<pre>| 2510      | 2511     | 0.000003  | 127.106666   | 2759086.237010     | 207756.662424 |</pre>"
      ],
      "text/plain": [
       "| 2510      | 2511     | 0.000003  | 127.106666   | 2759086.237010     | 207756.662424 |"
      ]
     },
     "metadata": {},
     "output_type": "display_data"
    },
    {
     "data": {
      "text/html": [
       "<pre>| 2520      | 2521     | 0.000003  | 127.545690   | 2758481.744239     | 207758.875733 |</pre>"
      ],
      "text/plain": [
       "| 2520      | 2521     | 0.000003  | 127.545690   | 2758481.744239     | 207758.875733 |"
      ]
     },
     "metadata": {},
     "output_type": "display_data"
    },
    {
     "data": {
      "text/html": [
       "<pre>| 2530      | 2531     | 0.000003  | 127.998106   | 2757990.667160     | 207760.907652 |</pre>"
      ],
      "text/plain": [
       "| 2530      | 2531     | 0.000003  | 127.998106   | 2757990.667160     | 207760.907652 |"
      ]
     },
     "metadata": {},
     "output_type": "display_data"
    },
    {
     "data": {
      "text/html": [
       "<pre>| 2540      | 2541     | 0.000003  | 128.414992   | 2757619.316960     | 207762.756774 |</pre>"
      ],
      "text/plain": [
       "| 2540      | 2541     | 0.000003  | 128.414992   | 2757619.316960     | 207762.756774 |"
      ]
     },
     "metadata": {},
     "output_type": "display_data"
    },
    {
     "data": {
      "text/html": [
       "<pre>| 2550      | 2551     | 0.000003  | 128.962777   | 2757373.606424     | 207764.422143 |</pre>"
      ],
      "text/plain": [
       "| 2550      | 2551     | 0.000003  | 128.962777   | 2757373.606424     | 207764.422143 |"
      ]
     },
     "metadata": {},
     "output_type": "display_data"
    },
    {
     "data": {
      "text/html": [
       "<pre>| 2560      | 2561     | 0.000003  | 129.554650   | 2757258.608164     | 207765.902994 |</pre>"
      ],
      "text/plain": [
       "| 2560      | 2561     | 0.000003  | 129.554650   | 2757258.608164     | 207765.902994 |"
      ]
     },
     "metadata": {},
     "output_type": "display_data"
    },
    {
     "data": {
      "text/html": [
       "<pre>| 2570      | 2571     | 0.000003  | 130.142695   | 2757278.169473     | 207767.198690 |</pre>"
      ],
      "text/plain": [
       "| 2570      | 2571     | 0.000003  | 130.142695   | 2757278.169473     | 207767.198690 |"
      ]
     },
     "metadata": {},
     "output_type": "display_data"
    },
    {
     "data": {
      "text/html": [
       "<pre>| 2580      | 2581     | 0.000003  | 130.672536   | 2757434.627261     | 207768.308844 |</pre>"
      ],
      "text/plain": [
       "| 2580      | 2581     | 0.000003  | 130.672536   | 2757434.627261     | 207768.308844 |"
      ]
     },
     "metadata": {},
     "output_type": "display_data"
    },
    {
     "data": {
      "text/html": [
       "<pre>| 2590      | 2591     | 0.000003  | 131.672216   | 2757728.649392     | 207769.233585 |</pre>"
      ],
      "text/plain": [
       "| 2590      | 2591     | 0.000003  | 131.672216   | 2757728.649392     | 207769.233585 |"
      ]
     },
     "metadata": {},
     "output_type": "display_data"
    },
    {
     "data": {
      "text/html": [
       "<pre>| 2600      | 2601     | 0.000003  | 132.394267   | 2758159.206374     | 207769.973888 |</pre>"
      ],
      "text/plain": [
       "| 2600      | 2601     | 0.000003  | 132.394267   | 2758159.206374     | 207769.973888 |"
      ]
     },
     "metadata": {},
     "output_type": "display_data"
    },
    {
     "data": {
      "text/html": [
       "<pre>| 2610      | 2611     | 0.000003  | 132.872239   | 2758723.656432     | 207770.531889 |</pre>"
      ],
      "text/plain": [
       "| 2610      | 2611     | 0.000003  | 132.872239   | 2758723.656432     | 207770.531889 |"
      ]
     },
     "metadata": {},
     "output_type": "display_data"
    },
    {
     "data": {
      "text/html": [
       "<pre>| 2620      | 2621     | 0.000003  | 133.362290   | 2759417.912313     | 207770.911134 |</pre>"
      ],
      "text/plain": [
       "| 2620      | 2621     | 0.000003  | 133.362290   | 2759417.912313     | 207770.911134 |"
      ]
     },
     "metadata": {},
     "output_type": "display_data"
    },
    {
     "data": {
      "text/html": [
       "<pre>| 2630      | 2631     | 0.000003  | 133.841010   | 2760236.651614     | 207771.116702 |</pre>"
      ],
      "text/plain": [
       "| 2630      | 2631     | 0.000003  | 133.841010   | 2760236.651614     | 207771.116702 |"
      ]
     },
     "metadata": {},
     "output_type": "display_data"
    },
    {
     "data": {
      "text/html": [
       "<pre>| 2640      | 2641     | 0.000003  | 134.485753   | 2761173.532726     | 207771.155211 |</pre>"
      ],
      "text/plain": [
       "| 2640      | 2641     | 0.000003  | 134.485753   | 2761173.532726     | 207771.155211 |"
      ]
     },
     "metadata": {},
     "output_type": "display_data"
    },
    {
     "data": {
      "text/html": [
       "<pre>| 2650      | 2651     | 0.000003  | 135.032650   | 2762221.384185     | 207771.034681 |</pre>"
      ],
      "text/plain": [
       "| 2650      | 2651     | 0.000003  | 135.032650   | 2762221.384185     | 207771.034681 |"
      ]
     },
     "metadata": {},
     "output_type": "display_data"
    },
    {
     "data": {
      "text/html": [
       "<pre>| 2660      | 2661     | 0.000003  | 135.616766   | 2763372.345518     | 207770.764279 |</pre>"
      ],
      "text/plain": [
       "| 2660      | 2661     | 0.000003  | 135.616766   | 2763372.345518     | 207770.764279 |"
      ]
     },
     "metadata": {},
     "output_type": "display_data"
    },
    {
     "data": {
      "text/html": [
       "<pre>| 2670      | 2671     | 0.000003  | 136.253705   | 2764617.951692     | 207770.353958 |</pre>"
      ],
      "text/plain": [
       "| 2670      | 2671     | 0.000003  | 136.253705   | 2764617.951692     | 207770.353958 |"
      ]
     },
     "metadata": {},
     "output_type": "display_data"
    },
    {
     "data": {
      "text/html": [
       "<pre>| 2680      | 2681     | 0.000003  | 136.821393   | 2765949.168869     | 207769.814019 |</pre>"
      ],
      "text/plain": [
       "| 2680      | 2681     | 0.000003  | 136.821393   | 2765949.168869     | 207769.814019 |"
      ]
     },
     "metadata": {},
     "output_type": "display_data"
    },
    {
     "data": {
      "text/html": [
       "<pre>| 2690      | 2691     | 0.000003  | 137.405158   | 2767356.402501     | 207769.154652 |</pre>"
      ],
      "text/plain": [
       "| 2690      | 2691     | 0.000003  | 137.405158   | 2767356.402501     | 207769.154652 |"
      ]
     },
     "metadata": {},
     "output_type": "display_data"
    },
    {
     "data": {
      "text/html": [
       "<pre>| 2700      | 2701     | 0.000003  | 137.941859   | 2768829.505952     | 207768.385484 |</pre>"
      ],
      "text/plain": [
       "| 2700      | 2701     | 0.000003  | 137.941859   | 2768829.505952     | 207768.385484 |"
      ]
     },
     "metadata": {},
     "output_type": "display_data"
    },
    {
     "data": {
      "text/html": [
       "<pre>| 2710      | 2711     | 0.000003  | 138.570999   | 2770357.817184     | 207767.515200 |</pre>"
      ],
      "text/plain": [
       "| 2710      | 2711     | 0.000003  | 138.570999   | 2770357.817184     | 207767.515200 |"
      ]
     },
     "metadata": {},
     "output_type": "display_data"
    },
    {
     "data": {
      "text/html": [
       "<pre>| 2720      | 2721     | 0.000003  | 139.121923   | 2771930.243510     | 207766.551270 |</pre>"
      ],
      "text/plain": [
       "| 2720      | 2721     | 0.000003  | 139.121923   | 2771930.243510     | 207766.551270 |"
      ]
     },
     "metadata": {},
     "output_type": "display_data"
    },
    {
     "data": {
      "text/html": [
       "<pre>| 2730      | 2731     | 0.000003  | 139.712413   | 2773535.403192     | 207765.499813 |</pre>"
      ],
      "text/plain": [
       "| 2730      | 2731     | 0.000003  | 139.712413   | 2773535.403192     | 207765.499813 |"
      ]
     },
     "metadata": {},
     "output_type": "display_data"
    },
    {
     "data": {
      "text/html": [
       "<pre>| 2740      | 2741     | 0.000003  | 140.210715   | 2775161.820664     | 207764.365618 |</pre>"
      ],
      "text/plain": [
       "| 2740      | 2741     | 0.000003  | 140.210715   | 2775161.820664     | 207764.365618 |"
      ]
     },
     "metadata": {},
     "output_type": "display_data"
    },
    {
     "data": {
      "text/html": [
       "<pre>| 2750      | 2751     | 0.000003  | 140.613137   | 2776798.161489     | 207763.152300 |</pre>"
      ],
      "text/plain": [
       "| 2750      | 2751     | 0.000003  | 140.613137   | 2776798.161489     | 207763.152300 |"
      ]
     },
     "metadata": {},
     "output_type": "display_data"
    },
    {
     "data": {
      "text/html": [
       "<pre>| 2760      | 2761     | 0.000003  | 141.387543   | 2778433.484979     | 207761.862573 |</pre>"
      ],
      "text/plain": [
       "| 2760      | 2761     | 0.000003  | 141.387543   | 2778433.484979     | 207761.862573 |"
      ]
     },
     "metadata": {},
     "output_type": "display_data"
    },
    {
     "data": {
      "text/html": [
       "<pre>| 2770      | 2771     | 0.000003  | 141.806645   | 2780057.487843     | 207760.498556 |</pre>"
      ],
      "text/plain": [
       "| 2770      | 2771     | 0.000003  | 141.806645   | 2780057.487843     | 207760.498556 |"
      ]
     },
     "metadata": {},
     "output_type": "display_data"
    },
    {
     "data": {
      "text/html": [
       "<pre>| 2780      | 2781     | 0.000003  | 142.264961   | 2781660.712299     | 207759.062061 |</pre>"
      ],
      "text/plain": [
       "| 2780      | 2781     | 0.000003  | 142.264961   | 2781660.712299     | 207759.062061 |"
      ]
     },
     "metadata": {},
     "output_type": "display_data"
    },
    {
     "data": {
      "text/html": [
       "<pre>| 2790      | 2791     | 0.000003  | 142.670299   | 2783234.697202     | 207757.554796 |</pre>"
      ],
      "text/plain": [
       "| 2790      | 2791     | 0.000003  | 142.670299   | 2783234.697202     | 207757.554796 |"
      ]
     },
     "metadata": {},
     "output_type": "display_data"
    },
    {
     "data": {
      "text/html": [
       "<pre>| 2800      | 2801     | 0.000003  | 143.071875   | 2784772.060023     | 207755.978454 |</pre>"
      ],
      "text/plain": [
       "| 2800      | 2801     | 0.000003  | 143.071875   | 2784772.060023     | 207755.978454 |"
      ]
     },
     "metadata": {},
     "output_type": "display_data"
    },
    {
     "data": {
      "text/html": [
       "<pre>| 2810      | 2811     | 0.000003  | 143.500840   | 2786266.508342     | 207754.334673 |</pre>"
      ],
      "text/plain": [
       "| 2810      | 2811     | 0.000003  | 143.500840   | 2786266.508342     | 207754.334673 |"
      ]
     },
     "metadata": {},
     "output_type": "display_data"
    },
    {
     "data": {
      "text/html": [
       "<pre>| 2820      | 2821     | 0.000003  | 143.962524   | 2787712.789306     | 207752.624930 |</pre>"
      ],
      "text/plain": [
       "| 2820      | 2821     | 0.000003  | 143.962524   | 2787712.789306     | 207752.624930 |"
      ]
     },
     "metadata": {},
     "output_type": "display_data"
    },
    {
     "data": {
      "text/html": [
       "<pre>| 2830      | 2831     | 0.000003  | 144.410131   | 2789106.592119     | 207750.850377 |</pre>"
      ],
      "text/plain": [
       "| 2830      | 2831     | 0.000003  | 144.410131   | 2789106.592119     | 207750.850377 |"
      ]
     },
     "metadata": {},
     "output_type": "display_data"
    },
    {
     "data": {
      "text/html": [
       "<pre>| 2840      | 2841     | 0.000003  | 144.838786   | 2790444.421510     | 207749.011684 |</pre>"
      ],
      "text/plain": [
       "| 2840      | 2841     | 0.000003  | 144.838786   | 2790444.421510     | 207749.011684 |"
      ]
     },
     "metadata": {},
     "output_type": "display_data"
    },
    {
     "data": {
      "text/html": [
       "<pre>| 2850      | 2851     | 0.000003  | 145.306106   | 2791723.459727     | 207747.108916 |</pre>"
      ],
      "text/plain": [
       "| 2850      | 2851     | 0.000003  | 145.306106   | 2791723.459727     | 207747.108916 |"
      ]
     },
     "metadata": {},
     "output_type": "display_data"
    },
    {
     "data": {
      "text/html": [
       "<pre>| 2860      | 2861     | 0.000003  | 145.798957   | 2792941.431587     | 207745.141450 |</pre>"
      ],
      "text/plain": [
       "| 2860      | 2861     | 0.000003  | 145.798957   | 2792941.431587     | 207745.141450 |"
      ]
     },
     "metadata": {},
     "output_type": "display_data"
    },
    {
     "data": {
      "text/html": [
       "<pre>| 2870      | 2871     | 0.000003  | 146.199612   | 2794096.482450     | 207743.107958 |</pre>"
      ],
      "text/plain": [
       "| 2870      | 2871     | 0.000003  | 146.199612   | 2794096.482450     | 207743.107958 |"
      ]
     },
     "metadata": {},
     "output_type": "display_data"
    },
    {
     "data": {
      "text/html": [
       "<pre>| 2880      | 2881     | 0.000003  | 146.589785   | 2795187.073284     | 207741.006449 |</pre>"
      ],
      "text/plain": [
       "| 2880      | 2881     | 0.000003  | 146.589785   | 2795187.073284     | 207741.006449 |"
      ]
     },
     "metadata": {},
     "output_type": "display_data"
    },
    {
     "data": {
      "text/html": [
       "<pre>| 2890      | 2891     | 0.000003  | 146.993125   | 2796211.891635     | 207738.834397 |</pre>"
      ],
      "text/plain": [
       "| 2890      | 2891     | 0.000003  | 146.993125   | 2796211.891635     | 207738.834397 |"
      ]
     },
     "metadata": {},
     "output_type": "display_data"
    },
    {
     "data": {
      "text/html": [
       "<pre>| 2900      | 2901     | 0.000003  | 147.399582   | 2797169.773518     | 207736.588961 |</pre>"
      ],
      "text/plain": [
       "| 2900      | 2901     | 0.000003  | 147.399582   | 2797169.773518     | 207736.588961 |"
      ]
     },
     "metadata": {},
     "output_type": "display_data"
    },
    {
     "data": {
      "text/html": [
       "<pre>| 2910      | 2911     | 0.000003  | 147.830509   | 2798059.630050     | 207734.267270 |</pre>"
      ],
      "text/plain": [
       "| 2910      | 2911     | 0.000003  | 147.830509   | 2798059.630050     | 207734.267270 |"
      ]
     },
     "metadata": {},
     "output_type": "display_data"
    },
    {
     "data": {
      "text/html": [
       "<pre>| 2920      | 2921     | 0.000003  | 148.214250   | 2798880.374196     | 207731.866773 |</pre>"
      ],
      "text/plain": [
       "| 2920      | 2921     | 0.000003  | 148.214250   | 2798880.374196     | 207731.866773 |"
      ]
     },
     "metadata": {},
     "output_type": "display_data"
    },
    {
     "data": {
      "text/html": [
       "<pre>| 2930      | 2931     | 0.000003  | 148.600367   | 2799630.846401     | 207729.385574 |</pre>"
      ],
      "text/plain": [
       "| 2930      | 2931     | 0.000003  | 148.600367   | 2799630.846401     | 207729.385574 |"
      ]
     },
     "metadata": {},
     "output_type": "display_data"
    },
    {
     "data": {
      "text/html": [
       "<pre>| 2940      | 2941     | 0.000003  | 148.980162   | 2800309.742008     | 207726.822737 |</pre>"
      ],
      "text/plain": [
       "| 2940      | 2941     | 0.000003  | 148.980162   | 2800309.742008     | 207726.822737 |"
      ]
     },
     "metadata": {},
     "output_type": "display_data"
    },
    {
     "data": {
      "text/html": [
       "<pre>| 2950      | 2951     | 0.000003  | 149.371268   | 2800915.546939     | 207724.178474 |</pre>"
      ],
      "text/plain": [
       "| 2950      | 2951     | 0.000003  | 149.371268   | 2800915.546939     | 207724.178474 |"
      ]
     },
     "metadata": {},
     "output_type": "display_data"
    },
    {
     "data": {
      "text/html": [
       "<pre>| 2960      | 2961     | 0.000003  | 149.760404   | 2801446.490520     | 207721.454236 |</pre>"
      ],
      "text/plain": [
       "| 2960      | 2961     | 0.000003  | 149.760404   | 2801446.490520     | 207721.454236 |"
      ]
     },
     "metadata": {},
     "output_type": "display_data"
    },
    {
     "data": {
      "text/html": [
       "<pre>| 2970      | 2971     | 0.000003  | 150.144727   | 2801900.525159     | 207718.652668 |</pre>"
      ],
      "text/plain": [
       "| 2970      | 2971     | 0.000003  | 150.144727   | 2801900.525159     | 207718.652668 |"
      ]
     },
     "metadata": {},
     "output_type": "display_data"
    },
    {
     "data": {
      "text/html": [
       "<pre>| 2980      | 2981     | 0.000003  | 150.524939   | 2802275.341639     | 207715.777475 |</pre>"
      ],
      "text/plain": [
       "| 2980      | 2981     | 0.000003  | 150.524939   | 2802275.341639     | 207715.777475 |"
      ]
     },
     "metadata": {},
     "output_type": "display_data"
    },
    {
     "data": {
      "text/html": [
       "<pre>| 2990      | 2991     | 0.000003  | 151.078747   | 2802568.425993     | 207712.833229 |</pre>"
      ],
      "text/plain": [
       "| 2990      | 2991     | 0.000003  | 151.078747   | 2802568.425993     | 207712.833229 |"
      ]
     },
     "metadata": {},
     "output_type": "display_data"
    },
    {
     "data": {
      "text/html": [
       "<pre>| 3000      | 3001     | 0.000003  | 151.645185   | 2802777.159518     | 207709.825145 |</pre>"
      ],
      "text/plain": [
       "| 3000      | 3001     | 0.000003  | 151.645185   | 2802777.159518     | 207709.825145 |"
      ]
     },
     "metadata": {},
     "output_type": "display_data"
    },
    {
     "data": {
      "text/html": [
       "<pre>+-----------+----------+-----------+--------------+--------------------+---------------+</pre>"
      ],
      "text/plain": [
       "+-----------+----------+-----------+--------------+--------------------+---------------+"
      ]
     },
     "metadata": {},
     "output_type": "display_data"
    },
    {
     "data": {
      "text/html": [
       "<pre>TERMINATED: Iteration limit reached.</pre>"
      ],
      "text/plain": [
       "TERMINATED: Iteration limit reached."
      ]
     },
     "metadata": {},
     "output_type": "display_data"
    },
    {
     "data": {
      "text/html": [
       "<pre>This model may not be optimal. To improve it, consider increasing `max_iterations`.</pre>"
      ],
      "text/plain": [
       "This model may not be optimal. To improve it, consider increasing `max_iterations`."
      ]
     },
     "metadata": {},
     "output_type": "display_data"
    },
    {
     "name": "stdout",
     "output_type": "stream",
     "text": [
      "number of nonzeros = 18\n",
      "+------------------+-------+----------------+--------+\n",
      "|       name       | index |     value      | stderr |\n",
      "+------------------+-------+----------------+--------+\n",
      "|   (intercept)    |  None | 7516152.69034  |  None  |\n",
      "|     bedrooms     |  None | -17156.423975  |  None  |\n",
      "| bedrooms_square  |  None | 530.831989588  |  None  |\n",
      "|    bathrooms     |  None | 60813.2452288  |  None  |\n",
      "|   sqft_living    |  None |  316.83337139  |  None  |\n",
      "| sqft_living_sqrt |  None | -51290.4847285 |  None  |\n",
      "|     sqft_lot     |  None | 1.03582659941  |  None  |\n",
      "|  sqft_lot_sqrt   |  None | -858.684962183 |  None  |\n",
      "|      floors      |  None | -86768.2629607 |  None  |\n",
      "|  floors_square   |  None | 30286.9416622  |  None  |\n",
      "+------------------+-------+----------------+--------+\n",
      "[18 rows x 4 columns]\n",
      "Note: Only the head of the SFrame is printed.\n",
      "You can use print_rows(num_rows=m, num_columns=n) to print more rows and columns.\n"
     ]
    }
   ],
   "source": [
    "model = train_model(training, 'price', 1e5, max_iterations=3000, verbose=True)\n",
    "print_coefficient(model)"
   ]
  },
  {
   "cell_type": "code",
   "execution_count": 24,
   "metadata": {},
   "outputs": [
    {
     "data": {
      "text/plain": [
       "array([  1.00000000e+01,   3.16227766e+01,   1.00000000e+02,\n",
       "         3.16227766e+02,   1.00000000e+03,   3.16227766e+03,\n",
       "         1.00000000e+04,   3.16227766e+04,   1.00000000e+05,\n",
       "         3.16227766e+05,   1.00000000e+06,   3.16227766e+06,\n",
       "         1.00000000e+07])"
      ]
     },
     "execution_count": 24,
     "metadata": {},
     "output_type": "execute_result"
    }
   ],
   "source": [
    "np.logspace(1, 7, num=13)"
   ]
  },
  {
   "cell_type": "code",
   "execution_count": 59,
   "metadata": {},
   "outputs": [
    {
     "name": "stdout",
     "output_type": "stream",
     "text": [
      "        10.0\t 18\t 4.033e+14\t 221 ms\n",
      "        31.6\t 18\t 4.033e+14\t 213 ms\n",
      "       100.0\t 18\t 4.033e+14\t 214 ms\n",
      "       316.2\t 18\t 4.033e+14\t 225 ms\n",
      "      1000.0\t 18\t 4.033e+14\t 216 ms\n",
      "      3162.3\t 18\t 4.033e+14\t 211 ms\n",
      "     10000.0\t 18\t 4.033e+14\t 211 ms\n",
      "     31622.8\t 18\t 4.033e+14\t 198 ms\n",
      "    100000.0\t 18\t 4.032e+14\t 202 ms\n",
      "    316227.8\t 18\t 4.029e+14\t 196 ms\n",
      "   1000000.0\t 18\t 4.022e+14\t 205 ms\n",
      "   3162277.7\t 18\t 4.014e+14\t 202 ms\n",
      "  10000000.0\t 15\t 4.144e+14\t 193 ms\n"
     ]
    }
   ],
   "source": [
    "\n",
    "import time\n",
    "\n",
    "models = dict()\n",
    "rss = dict()\n",
    "for l1_penalty in np.logspace(1, 7, num=13):\n",
    "    start = time.time()\n",
    "    model = train_model(training, 'price', l1_penalty, max_iterations=5000)\n",
    "    models[l1_penalty] = model\n",
    "    rss[l1_penalty] = RSS(validation['price'], model.predict(validation))\n",
    "    print('%12.1f\\t%3d\\t%10.4g\\t %.0f s' % (l1_penalty, model.coefficients['value'].nnz(),\n",
    "                                           rss[l1_penalty], (time.time() - start)))\n",
    "    \n",
    "#     print_coefficient(model)\n",
    "    "
   ]
  },
  {
   "cell_type": "markdown",
   "metadata": {},
   "source": [
    "*** QUIZ QUESTION. *** What was the best value for the `l1_penalty`?"
   ]
  },
  {
   "cell_type": "code",
   "execution_count": 1,
   "metadata": {},
   "outputs": [
    {
     "ename": "NameError",
     "evalue": "name 'rss' is not defined",
     "output_type": "error",
     "traceback": [
      "\u001b[0;31m---------------------------------------------------------------------------\u001b[0m",
      "\u001b[0;31mNameError\u001b[0m                                 Traceback (most recent call last)",
      "\u001b[0;32m<ipython-input-1-d98831b4d44d>\u001b[0m in \u001b[0;36m<module>\u001b[0;34m()\u001b[0m\n\u001b[0;32m----> 1\u001b[0;31m \u001b[0mmin\u001b[0m\u001b[0;34m(\u001b[0m\u001b[0mrss\u001b[0m\u001b[0;34m.\u001b[0m\u001b[0mitems\u001b[0m\u001b[0;34m(\u001b[0m\u001b[0;34m)\u001b[0m\u001b[0;34m,\u001b[0m \u001b[0mkey\u001b[0m\u001b[0;34m=\u001b[0m\u001b[0;32mlambda\u001b[0m \u001b[0mx\u001b[0m\u001b[0;34m:\u001b[0m \u001b[0mx\u001b[0m\u001b[0;34m[\u001b[0m\u001b[0;36m1\u001b[0m\u001b[0;34m]\u001b[0m\u001b[0;34m)\u001b[0m\u001b[0;34m\u001b[0m\u001b[0m\n\u001b[0m",
      "\u001b[0;31mNameError\u001b[0m: name 'rss' is not defined"
     ]
    }
   ],
   "source": [
    "min(rss.items(), key=lambda x: x[1])"
   ]
  },
  {
   "cell_type": "code",
   "execution_count": 44,
   "metadata": {},
   "outputs": [
    {
     "name": "stdout",
     "output_type": "stream",
     "text": [
      "number of nonzeros = 9\n",
      "+---------------+-------+----------------+--------+\n",
      "|      name     | index |     value      | stderr |\n",
      "+---------------+-------+----------------+--------+\n",
      "|  (intercept)  |  None | -264517.238331 |  None  |\n",
      "|  sqft_living  |  None | 210.665336347  |  None  |\n",
      "| sqft_lot_sqrt |  None | -131.521118505 |  None  |\n",
      "|   waterfront  |  None | 570295.535475  |  None  |\n",
      "|      view     |  None | 68959.2743556  |  None  |\n",
      "|   condition   |  None | 3842.98013917  |  None  |\n",
      "|     grade     |  None |  44489.484322  |  None  |\n",
      "| sqft_basement |  None | 2.97326517413  |  None  |\n",
      "|  yr_renovated |  None | 49.5925234494  |  None  |\n",
      "+---------------+-------+----------------+--------+\n",
      "[9 rows x 4 columns]\n",
      "\n",
      "number of nonzeros = 6\n",
      "+--------------+-------+---------------+--------+\n",
      "|     name     | index |     value     | stderr |\n",
      "+--------------+-------+---------------+--------+\n",
      "| (intercept)  |  None | 21945.1252773 |  None  |\n",
      "| sqft_living  |  None |  234.41225288 |  None  |\n",
      "|  waterfront  |  None | 525497.676487 |  None  |\n",
      "|     view     |  None | 72465.0297371 |  None  |\n",
      "|  sqft_above  |  None | 3.47242322298 |  None  |\n",
      "| yr_renovated |  None | 35.0709233545 |  None  |\n",
      "+--------------+-------+---------------+--------+\n",
      "[6 rows x 4 columns]\n",
      "\n",
      "number of nonzeros = 4\n",
      "+-------------+-------+---------------+--------+\n",
      "|     name    | index |     value     | stderr |\n",
      "+-------------+-------+---------------+--------+\n",
      "| (intercept) |  None |  280564.1855  |  None  |\n",
      "| sqft_living |  None | 116.792420827 |  None  |\n",
      "|  waterfront |  None | 151077.863212 |  None  |\n",
      "|     view    |  None | 69249.5885398 |  None  |\n",
      "+-------------+-------+---------------+--------+\n",
      "[4 rows x 4 columns]\n",
      "\n",
      "number of nonzeros = 1\n",
      "+-------------+-------+---------------+--------+\n",
      "|     name    | index |     value     | stderr |\n",
      "+-------------+-------+---------------+--------+\n",
      "| (intercept) |  None | 542731.089932 |  None  |\n",
      "+-------------+-------+---------------+--------+\n",
      "[1 rows x 4 columns]\n",
      "\n",
      "number of nonzeros = 6\n",
      "+--------------+-------+---------------+--------+\n",
      "|     name     | index |     value     | stderr |\n",
      "+--------------+-------+---------------+--------+\n",
      "| (intercept)  |  None | 20299.6815024 |  None  |\n",
      "| sqft_living  |  None | 234.852410636 |  None  |\n",
      "|  waterfront  |  None | 527616.481254 |  None  |\n",
      "|     view     |  None | 72501.7717841 |  None  |\n",
      "|  sqft_above  |  None | 3.83323638157 |  None  |\n",
      "| yr_renovated |  None | 35.6866479243 |  None  |\n",
      "+--------------+-------+---------------+--------+\n",
      "[6 rows x 4 columns]\n",
      "\n",
      "number of nonzeros = 7\n",
      "+---------------+-------+----------------+--------+\n",
      "|      name     | index |     value      | stderr |\n",
      "+---------------+-------+----------------+--------+\n",
      "|  (intercept)  |  None | -129336.22033  |  None  |\n",
      "|  sqft_living  |  None | 224.108082507  |  None  |\n",
      "| sqft_lot_sqrt |  None | -65.9245561705 |  None  |\n",
      "|   waterfront  |  None | 553422.243972  |  None  |\n",
      "|      view     |  None | 70697.8821844  |  None  |\n",
      "|     grade     |  None | 24169.1861814  |  None  |\n",
      "|  yr_renovated |  None | 43.7769290587  |  None  |\n",
      "+---------------+-------+----------------+--------+\n",
      "[7 rows x 4 columns]\n",
      "\n",
      "number of nonzeros = 5\n",
      "+--------------+-------+---------------+--------+\n",
      "|     name     | index |     value     | stderr |\n",
      "+--------------+-------+---------------+--------+\n",
      "| (intercept)  |  None | 38531.4142122 |  None  |\n",
      "| sqft_living  |  None | 229.832551426 |  None  |\n",
      "|  waterfront  |  None | 504104.415193 |  None  |\n",
      "|     view     |  None | 72112.0844034 |  None  |\n",
      "| yr_renovated |  None | 28.8661066083 |  None  |\n",
      "+--------------+-------+---------------+--------+\n",
      "[5 rows x 4 columns]\n",
      "\n",
      "number of nonzeros = 5\n",
      "+--------------+-------+---------------+--------+\n",
      "|     name     | index |     value     | stderr |\n",
      "+--------------+-------+---------------+--------+\n",
      "| (intercept)  |  None | 59166.1283028 |  None  |\n",
      "| sqft_living  |  None | 220.380731276 |  None  |\n",
      "|  waterfront  |  None | 476223.027995 |  None  |\n",
      "|     view     |  None |  72098.359628 |  None  |\n",
      "| yr_renovated |  None | 21.1054548468 |  None  |\n",
      "+--------------+-------+---------------+--------+\n",
      "[5 rows x 4 columns]\n",
      "\n",
      "number of nonzeros = 1\n",
      "+-------------+-------+---------------+--------+\n",
      "|     name    | index |     value     | stderr |\n",
      "+-------------+-------+---------------+--------+\n",
      "| (intercept) |  None | 542735.247515 |  None  |\n",
      "+-------------+-------+---------------+--------+\n",
      "[1 rows x 4 columns]\n",
      "\n",
      "number of nonzeros = 8\n",
      "+---------------+-------+-----------------+--------+\n",
      "|      name     | index |      value      | stderr |\n",
      "+---------------+-------+-----------------+--------+\n",
      "|  (intercept)  |  None |  -12823.047233  |  None  |\n",
      "|  sqft_living  |  None |  234.159570905  |  None  |\n",
      "| sqft_lot_sqrt |  None | -0.551625068013 |  None  |\n",
      "|   waterfront  |  None |  536538.754132  |  None  |\n",
      "|      view     |  None |  72067.7183811  |  None  |\n",
      "|     grade     |  None |  4764.53984953  |  None  |\n",
      "|   sqft_above  |  None |  2.67432886341  |  None  |\n",
      "|  yr_renovated |  None |  38.4045202297  |  None  |\n",
      "+---------------+-------+-----------------+--------+\n",
      "[8 rows x 4 columns]\n",
      "\n",
      "number of nonzeros = 7\n",
      "+---------------+-------+----------------+--------+\n",
      "|      name     | index |     value      | stderr |\n",
      "+---------------+-------+----------------+--------+\n",
      "|  (intercept)  |  None | -178229.429444 |  None  |\n",
      "|  sqft_living  |  None | 219.077300659  |  None  |\n",
      "| sqft_lot_sqrt |  None | -94.7631581382 |  None  |\n",
      "|   waterfront  |  None | 560508.692334  |  None  |\n",
      "|      view     |  None | 70238.6347619  |  None  |\n",
      "|     grade     |  None | 32285.0281263  |  None  |\n",
      "|  yr_renovated |  None | 46.1006842134  |  None  |\n",
      "+---------------+-------+----------------+--------+\n",
      "[7 rows x 4 columns]\n",
      "\n",
      "number of nonzeros = 7\n",
      "+--------------+-------+---------------+--------+\n",
      "|     name     | index |     value     | stderr |\n",
      "+--------------+-------+---------------+--------+\n",
      "| (intercept)  |  None | 5139.37191424 |  None  |\n",
      "| sqft_living  |  None |  235.2277648  |  None  |\n",
      "|  waterfront  |  None | 534142.419968 |  None  |\n",
      "|     view     |  None | 72387.2795185 |  None  |\n",
      "|    grade     |  None |  1833.6181162 |  None  |\n",
      "|  sqft_above  |  None |  3.909161995  |  None  |\n",
      "| yr_renovated |  None | 37.6320972093 |  None  |\n",
      "+--------------+-------+---------------+--------+\n",
      "[7 rows x 4 columns]\n",
      "\n",
      "number of nonzeros = 1\n",
      "+-------------+-------+---------------+--------+\n",
      "|     name    | index |     value     | stderr |\n",
      "+-------------+-------+---------------+--------+\n",
      "| (intercept) |  None | 542734.962796 |  None  |\n",
      "+-------------+-------+---------------+--------+\n",
      "[1 rows x 4 columns]\n",
      "\n",
      "number of nonzeros = 9\n",
      "+---------------+-------+----------------+--------+\n",
      "|      name     | index |     value      | stderr |\n",
      "+---------------+-------+----------------+--------+\n",
      "|  (intercept)  |  None | -235176.569894 |  None  |\n",
      "|  sqft_living  |  None | 212.788558055  |  None  |\n",
      "| sqft_lot_sqrt |  None | -121.690479392 |  None  |\n",
      "|   waterfront  |  None | 567897.534807  |  None  |\n",
      "|      view     |  None | 69408.3533498  |  None  |\n",
      "|   condition   |  None | 897.159676157  |  None  |\n",
      "|     grade     |  None | 41286.2144441  |  None  |\n",
      "| sqft_basement |  None | 2.39871035443  |  None  |\n",
      "|  yr_renovated |  None | 48.5089429823  |  None  |\n",
      "+---------------+-------+----------------+--------+\n",
      "[9 rows x 4 columns]\n",
      "\n",
      "number of nonzeros = 7\n",
      "+---------------+-------+----------------+--------+\n",
      "|      name     | index |     value      | stderr |\n",
      "+---------------+-------+----------------+--------+\n",
      "|  (intercept)  |  None | -163323.753806 |  None  |\n",
      "|  sqft_living  |  None | 220.595283659  |  None  |\n",
      "| sqft_lot_sqrt |  None | -86.4787168966 |  None  |\n",
      "|   waterfront  |  None | 558433.509469  |  None  |\n",
      "|      view     |  None | 70392.6586031  |  None  |\n",
      "|     grade     |  None |   29822.2788   |  None  |\n",
      "|  yr_renovated |  None | 45.4129046332  |  None  |\n",
      "+---------------+-------+----------------+--------+\n",
      "[7 rows x 4 columns]\n",
      "\n",
      "number of nonzeros = 8\n",
      "+---------------+-------+----------------+--------+\n",
      "|      name     | index |     value      | stderr |\n",
      "+---------------+-------+----------------+--------+\n",
      "|  (intercept)  |  None | -29994.6599106 |  None  |\n",
      "|  sqft_living  |  None | 233.136066371  |  None  |\n",
      "| sqft_lot_sqrt |  None | -9.43203161559 |  None  |\n",
      "|   waterfront  |  None | 539033.764532  |  None  |\n",
      "|      view     |  None | 71801.8285617  |  None  |\n",
      "|     grade     |  None | 7640.45313143  |  None  |\n",
      "|   sqft_above  |  None | 1.64660691309  |  None  |\n",
      "|  yr_renovated |  None | 39.1592155053  |  None  |\n",
      "+---------------+-------+----------------+--------+\n",
      "[8 rows x 4 columns]\n",
      "\n",
      "number of nonzeros = 1\n",
      "+-------------+-------+---------------+--------+\n",
      "|     name    | index |     value     | stderr |\n",
      "+-------------+-------+---------------+--------+\n",
      "| (intercept) |  None | 542733.718947 |  None  |\n",
      "+-------------+-------+---------------+--------+\n",
      "[1 rows x 4 columns]\n",
      "\n",
      "number of nonzeros = 8\n",
      "+---------------+-------+----------------+--------+\n",
      "|      name     | index |     value      | stderr |\n",
      "+---------------+-------+----------------+--------+\n",
      "|  (intercept)  |  None | -47194.9471692 |  None  |\n",
      "|  sqft_living  |  None | 232.087031696  |  None  |\n",
      "| sqft_lot_sqrt |  None | -18.3105627515 |  None  |\n",
      "|   waterfront  |  None | 541524.751252  |  None  |\n",
      "|      view     |  None | 71538.7295294  |  None  |\n",
      "|     grade     |  None | 10521.9193683  |  None  |\n",
      "|   sqft_above  |  None | 0.640252882442 |  None  |\n",
      "|  yr_renovated |  None | 39.9151843449  |  None  |\n",
      "+---------------+-------+----------------+--------+\n",
      "[8 rows x 4 columns]\n",
      "\n",
      "number of nonzeros = 7\n"
     ]
    },
    {
     "name": "stdout",
     "output_type": "stream",
     "text": [
      "+---------------+-------+----------------+--------+\n",
      "|      name     | index |     value      | stderr |\n",
      "+---------------+-------+----------------+--------+\n",
      "|  (intercept)  |  None | -96735.0193961 |  None  |\n",
      "|  sqft_living  |  None |  227.46290368  |  None  |\n",
      "| sqft_lot_sqrt |  None | -46.6999488088 |  None  |\n",
      "|   waterfront  |  None | 548697.967539  |  None  |\n",
      "|      view     |  None | 71004.1111866  |  None  |\n",
      "|     grade     |  None | 18757.6314667  |  None  |\n",
      "|  yr_renovated |  None |  42.227672297  |  None  |\n",
      "+---------------+-------+----------------+--------+\n",
      "[7 rows x 4 columns]\n",
      "\n",
      "number of nonzeros = 4\n",
      "+-------------+-------+---------------+--------+\n",
      "|     name    | index |     value     | stderr |\n",
      "+-------------+-------+---------------+--------+\n",
      "| (intercept) |  None | 160176.779359 |  None  |\n",
      "| sqft_living |  None | 173.518797494 |  None  |\n",
      "|  waterfront |  None | 332445.771511 |  None  |\n",
      "|     view    |  None | 71271.1257824 |  None  |\n",
      "+-------------+-------+---------------+--------+\n",
      "[4 rows x 4 columns]\n",
      "\n",
      "number of nonzeros = 7\n",
      "+---------------+-------+----------------+--------+\n",
      "|      name     | index |     value      | stderr |\n",
      "+---------------+-------+----------------+--------+\n",
      "|  (intercept)  |  None | -80422.2880369 |  None  |\n",
      "|  sqft_living  |  None | 229.141624226  |  None  |\n",
      "| sqft_lot_sqrt |  None | -37.0896363877 |  None  |\n",
      "|   waterfront  |  None | 546335.703432  |  None  |\n",
      "|      view     |  None | 71157.5208574  |  None  |\n",
      "|     grade     |  None | 16049.9505587  |  None  |\n",
      "|  yr_renovated |  None | 41.4528521228  |  None  |\n",
      "+---------------+-------+----------------+--------+\n",
      "[7 rows x 4 columns]\n",
      "\n",
      "number of nonzeros = 6\n",
      "+--------------+-------+---------------+--------+\n",
      "|     name     | index |     value     | stderr |\n",
      "+--------------+-------+---------------+--------+\n",
      "| (intercept)  |  None |  17009.511624 |  None  |\n",
      "| sqft_living  |  None | 235.724203131 |  None  |\n",
      "|  waterfront  |  None | 531852.422046 |  None  |\n",
      "|     view     |  None | 72576.5352505 |  None  |\n",
      "|  sqft_above  |  None | 4.56417181929 |  None  |\n",
      "| yr_renovated |  None | 36.9184622927 |  None  |\n",
      "+--------------+-------+---------------+--------+\n",
      "[6 rows x 4 columns]\n",
      "\n",
      "number of nonzeros = 7\n",
      "+---------------+-------+----------------+--------+\n",
      "|      name     | index |     value      | stderr |\n",
      "+---------------+-------+----------------+--------+\n",
      "|  (intercept)  |  None | -161927.829555 |  None  |\n",
      "|  sqft_living  |  None | 220.754503421  |  None  |\n",
      "| sqft_lot_sqrt |  None | -85.1508599633 |  None  |\n",
      "|   waterfront  |  None | 558146.471377  |  None  |\n",
      "|      view     |  None | 70391.8421494  |  None  |\n",
      "|     grade     |  None | 29579.1798852  |  None  |\n",
      "|  yr_renovated |  None | 45.3260369481  |  None  |\n",
      "+---------------+-------+----------------+--------+\n",
      "[7 rows x 4 columns]\n",
      "\n",
      "number of nonzeros = 4\n",
      "+-------------+-------+---------------+--------+\n",
      "|     name    | index |     value     | stderr |\n",
      "+-------------+-------+---------------+--------+\n",
      "| (intercept) |  None | 213235.455794 |  None  |\n",
      "| sqft_living |  None | 148.519490652 |  None  |\n",
      "|  waterfront |  None |  252682.53789 |  None  |\n",
      "|     view    |  None | 70399.5450109 |  None  |\n",
      "+-------------+-------+---------------+--------+\n",
      "[4 rows x 4 columns]\n",
      "\n",
      "number of nonzeros = 7\n",
      "+---------------+-------+----------------+--------+\n",
      "|      name     | index |     value      | stderr |\n",
      "+---------------+-------+----------------+--------+\n",
      "|  (intercept)  |  None | -113038.164365 |  None  |\n",
      "|  sqft_living  |  None | 225.785200971  |  None  |\n",
      "| sqft_lot_sqrt |  None | -56.311819507  |  None  |\n",
      "|   waterfront  |  None | 551060.127023  |  None  |\n",
      "|      view     |  None | 70850.9384015  |  None  |\n",
      "|     grade     |  None | 21463.8127327  |  None  |\n",
      "|  yr_renovated |  None |  43.002340463  |  None  |\n",
      "+---------------+-------+----------------+--------+\n",
      "[7 rows x 4 columns]\n",
      "\n",
      "number of nonzeros = 7\n",
      "+---------------+-------+----------------+--------+\n",
      "|      name     | index |     value      | stderr |\n",
      "+---------------+-------+----------------+--------+\n",
      "|  (intercept)  |  None |  -61527.94807  |  None  |\n",
      "|  sqft_living  |  None | 231.137172815  |  None  |\n",
      "| sqft_lot_sqrt |  None | -26.8614056586 |  None  |\n",
      "|   waterfront  |  None | 543769.545722  |  None  |\n",
      "|      view     |  None | 71343.2030957  |  None  |\n",
      "|     grade     |  None | 12912.0340769  |  None  |\n",
      "|  yr_renovated |  None | 40.5937389638  |  None  |\n",
      "+---------------+-------+----------------+--------+\n",
      "[7 rows x 4 columns]\n",
      "\n",
      "number of nonzeros = 8\n",
      "+---------------+-------+----------------+--------+\n",
      "|      name     | index |     value      | stderr |\n",
      "+---------------+-------+----------------+--------+\n",
      "|  (intercept)  |  None | -213310.597906 |  None  |\n",
      "|  sqft_living  |  None | 215.096045335  |  None  |\n",
      "| sqft_lot_sqrt |  None | -112.944010999 |  None  |\n",
      "|   waterfront  |  None | 565373.546146  |  None  |\n",
      "|      view     |  None | 69790.2453549  |  None  |\n",
      "|     grade     |  None | 38138.9466664  |  None  |\n",
      "| sqft_basement |  None | 1.07564659687  |  None  |\n",
      "|  yr_renovated |  None | 47.6527444478  |  None  |\n",
      "+---------------+-------+----------------+--------+\n",
      "[8 rows x 4 columns]\n",
      "\n",
      "number of nonzeros = 6\n",
      "+--------------+-------+---------------+--------+\n",
      "|     name     | index |     value     | stderr |\n",
      "+--------------+-------+---------------+--------+\n",
      "| (intercept)  |  None | 18653.7996578 |  None  |\n",
      "| sqft_living  |  None |  235.29417934 |  None  |\n",
      "|  waterfront  |  None | 529735.601235 |  None  |\n",
      "|     view     |  None | 72538.2541861 |  None  |\n",
      "|  sqft_above  |  None | 4.19244118886 |  None  |\n",
      "| yr_renovated |  None | 36.3023225314 |  None  |\n",
      "+--------------+-------+---------------+--------+\n",
      "[6 rows x 4 columns]\n",
      "\n",
      "number of nonzeros = 7\n",
      "+---------------+-------+----------------+--------+\n",
      "|      name     | index |     value      | stderr |\n",
      "+---------------+-------+----------------+--------+\n",
      "|  (intercept)  |  None | -64137.5280686 |  None  |\n",
      "|  sqft_living  |  None | 230.815238677  |  None  |\n",
      "| sqft_lot_sqrt |  None | -27.4737373534 |  None  |\n",
      "|   waterfront  |  None | 543973.260644  |  None  |\n",
      "|      view     |  None | 71310.7039213  |  None  |\n",
      "|     grade     |  None | 13347.2272561  |  None  |\n",
      "|  yr_renovated |  None | 40.6784559499  |  None  |\n",
      "+---------------+-------+----------------+--------+\n",
      "[7 rows x 4 columns]\n",
      "\n",
      "number of nonzeros = 5\n",
      "+--------------+-------+---------------+--------+\n",
      "|     name     | index |     value     | stderr |\n",
      "+--------------+-------+---------------+--------+\n",
      "| (intercept)  |  None |  85330.00006  |  None  |\n",
      "| sqft_living  |  None | 208.395891016 |  None  |\n",
      "|  waterfront  |  None | 440709.849282 |  None  |\n",
      "|     view     |  None |  72062.589907 |  None  |\n",
      "| yr_renovated |  None | 11.2197330417 |  None  |\n",
      "+--------------+-------+---------------+--------+\n",
      "[5 rows x 4 columns]\n",
      "\n",
      "number of nonzeros = 4\n",
      "+-------------+-------+---------------+--------+\n",
      "|     name    | index |     value     | stderr |\n",
      "+-------------+-------+---------------+--------+\n",
      "| (intercept) |  None | 366756.385763 |  None  |\n",
      "| sqft_living |  None |  76.182361162 |  None  |\n",
      "|  waterfront |  None | 21555.5726248 |  None  |\n",
      "|     view    |  None |  67839.452862 |  None  |\n",
      "+-------------+-------+---------------+--------+\n",
      "[4 rows x 4 columns]\n",
      "\n",
      "number of nonzeros = 3\n",
      "+-------------+-------+---------------+--------+\n",
      "|     name    | index |     value     | stderr |\n",
      "+-------------+-------+---------------+--------+\n",
      "| (intercept) |  None | 476320.652493 |  None  |\n",
      "| sqft_living |  None | 24.7875756699 |  None  |\n",
      "|     view    |  None | 59232.4892803 |  None  |\n",
      "+-------------+-------+---------------+--------+\n",
      "[3 rows x 4 columns]\n",
      "\n",
      "number of nonzeros = 1\n",
      "+-------------+-------+---------------+--------+\n",
      "|     name    | index |     value     | stderr |\n",
      "+-------------+-------+---------------+--------+\n",
      "| (intercept) |  None | 542734.447494 |  None  |\n",
      "+-------------+-------+---------------+--------+\n",
      "[1 rows x 4 columns]\n",
      "\n",
      "number of nonzeros = 4\n",
      "+-------------+-------+---------------+--------+\n",
      "|     name    | index |     value     | stderr |\n",
      "+-------------+-------+---------------+--------+\n",
      "| (intercept) |  None | 118506.042264 |  None  |\n",
      "| sqft_living |  None | 193.152037825 |  None  |\n",
      "|  waterfront |  None | 395044.814172 |  None  |\n",
      "|     view    |  None | 71950.5937719 |  None  |\n",
      "+-------------+-------+---------------+--------+\n",
      "[4 rows x 4 columns]\n",
      "\n",
      "number of nonzeros = 1\n",
      "+-------------+-------+---------------+--------+\n",
      "|     name    | index |     value     | stderr |\n",
      "+-------------+-------+---------------+--------+\n",
      "| (intercept) |  None | 542734.432806 |  None  |\n",
      "+-------------+-------+---------------+--------+\n",
      "[1 rows x 4 columns]\n",
      "\n",
      "number of nonzeros = 7\n",
      "+---------------+-------+----------------+--------+\n",
      "|      name     | index |     value      | stderr |\n",
      "+---------------+-------+----------------+--------+\n",
      "|  (intercept)  |  None | -145631.252403 |  None  |\n",
      "|  sqft_living  |  None | 222.431349739  |  None  |\n",
      "| sqft_lot_sqrt |  None | -75.5378249419 |  None  |\n",
      "|   waterfront  |  None | 555784.344163  |  None  |\n",
      "|      view     |  None | 70544.8868252  |  None  |\n",
      "|     grade     |  None | 26874.0691095  |  None  |\n",
      "|  yr_renovated |  None |  44.551470675  |  None  |\n",
      "+---------------+-------+----------------+--------+\n",
      "[7 rows x 4 columns]\n",
      "\n",
      "number of nonzeros = 7\n",
      "+---------------+-------+----------------+--------+\n",
      "|      name     | index |     value      | stderr |\n",
      "+---------------+-------+----------------+--------+\n",
      "|  (intercept)  |  None | -194613.462678 |  None  |\n",
      "|  sqft_living  |  None | 217.389965566  |  None  |\n",
      "| sqft_lot_sqrt |  None | -104.361115248 |  None  |\n",
      "|   waterfront  |  None | 562871.451701  |  None  |\n",
      "|      view     |  None | 70083.6846348  |  None  |\n",
      "|     grade     |  None | 35004.1439378  |  None  |\n",
      "|  yr_renovated |  None | 46.8766143558  |  None  |\n",
      "+---------------+-------+----------------+--------+\n",
      "[7 rows x 4 columns]\n",
      "\n",
      "number of nonzeros = 2\n",
      "+-------------+-------+---------------+--------+\n",
      "|     name    | index |     value     | stderr |\n",
      "+-------------+-------+---------------+--------+\n",
      "| (intercept) |  None | 534477.525561 |  None  |\n",
      "|     view    |  None | 33295.7714969 |  None  |\n",
      "+-------------+-------+---------------+--------+\n",
      "[2 rows x 4 columns]\n",
      "\n"
     ]
    }
   ],
   "source": [
    "# print(rss[100000])\n",
    "# print(RSS(validation['price'], model.predict(validation)))\n",
    "\n",
    "\n",
    "for model in models.values():\n",
    "    print_coefficient(model)"
   ]
  },
  {
   "cell_type": "markdown",
   "metadata": {},
   "source": [
    "***QUIZ QUESTION***\n",
    "Also, using this value of L1 penalty, how many nonzero weights do you have?"
   ]
  },
  {
   "cell_type": "code",
   "execution_count": null,
   "metadata": {
    "collapsed": true
   },
   "outputs": [],
   "source": []
  },
  {
   "cell_type": "markdown",
   "metadata": {},
   "source": [
    "# Limit the number of nonzero weights\n",
    "\n",
    "What if we absolutely wanted to limit ourselves to, say, 7 features? This may be important if we want to derive \"a rule of thumb\" --- an interpretable model that has only a few features in them."
   ]
  },
  {
   "cell_type": "markdown",
   "metadata": {},
   "source": [
    "In this section, you are going to implement a simple, two phase procedure to achive this goal:\n",
    "1. Explore a large range of `l1_penalty` values to find a narrow region of `l1_penalty` values where models are likely to have the desired number of non-zero weights.\n",
    "2. Further explore the narrow region you found to find a good value for `l1_penalty` that achieves the desired sparsity.  Here, we will again use a validation set to choose the best value for `l1_penalty`."
   ]
  },
  {
   "cell_type": "code",
   "execution_count": 11,
   "metadata": {
    "collapsed": true
   },
   "outputs": [],
   "source": [
    "max_nonzeros = 7"
   ]
  },
  {
   "cell_type": "markdown",
   "metadata": {},
   "source": [
    "## Exploring the larger range of values to find a narrow range with the desired sparsity\n",
    "\n",
    "Let's define a wide range of possible `l1_penalty_values`:"
   ]
  },
  {
   "cell_type": "code",
   "execution_count": 12,
   "metadata": {
    "collapsed": true
   },
   "outputs": [],
   "source": [
    "l1_penalty_values = np.logspace(8, 10, num=20)"
   ]
  },
  {
   "cell_type": "markdown",
   "metadata": {},
   "source": [
    "Now, implement a loop that search through this space of possible `l1_penalty` values:\n",
    "\n",
    "* For `l1_penalty` in `np.logspace(8, 10, num=20)`:\n",
    "    * Fit a regression model with a given `l1_penalty` on TRAIN data. Specify `l1_penalty=l1_penalty` and `l2_penalty=0.` in the parameter list. When you call `linear_regression.create()` make sure you set `validation_set = None`\n",
    "    * Extract the weights of the model and count the number of nonzeros. Save the number of nonzeros to a list.\n",
    "        * *Hint: `model['coefficients']['value']` gives you an SArray with the parameters you learned.  If you call the method `.nnz()` on it, you will find the number of non-zero parameters!* "
   ]
  },
  {
   "cell_type": "code",
   "execution_count": 13,
   "metadata": {},
   "outputs": [
    {
     "data": {
      "text/html": [
       "<pre>Linear regression:</pre>"
      ],
      "text/plain": [
       "Linear regression:"
      ]
     },
     "metadata": {},
     "output_type": "display_data"
    },
    {
     "data": {
      "text/html": [
       "<pre>--------------------------------------------------------</pre>"
      ],
      "text/plain": [
       "--------------------------------------------------------"
      ]
     },
     "metadata": {},
     "output_type": "display_data"
    },
    {
     "data": {
      "text/html": [
       "<pre>Number of examples          : 9761</pre>"
      ],
      "text/plain": [
       "Number of examples          : 9761"
      ]
     },
     "metadata": {},
     "output_type": "display_data"
    },
    {
     "data": {
      "text/html": [
       "<pre>Number of features          : 17</pre>"
      ],
      "text/plain": [
       "Number of features          : 17"
      ]
     },
     "metadata": {},
     "output_type": "display_data"
    },
    {
     "data": {
      "text/html": [
       "<pre>Number of unpacked features : 17</pre>"
      ],
      "text/plain": [
       "Number of unpacked features : 17"
      ]
     },
     "metadata": {},
     "output_type": "display_data"
    },
    {
     "data": {
      "text/html": [
       "<pre>Number of coefficients    : 18</pre>"
      ],
      "text/plain": [
       "Number of coefficients    : 18"
      ]
     },
     "metadata": {},
     "output_type": "display_data"
    },
    {
     "data": {
      "text/html": [
       "<pre>Starting Accelerated Gradient (FISTA)</pre>"
      ],
      "text/plain": [
       "Starting Accelerated Gradient (FISTA)"
      ]
     },
     "metadata": {},
     "output_type": "display_data"
    },
    {
     "data": {
      "text/html": [
       "<pre>--------------------------------------------------------</pre>"
      ],
      "text/plain": [
       "--------------------------------------------------------"
      ]
     },
     "metadata": {},
     "output_type": "display_data"
    },
    {
     "data": {
      "text/html": [
       "<pre>+-----------+----------+-----------+--------------+--------------------+---------------+</pre>"
      ],
      "text/plain": [
       "+-----------+----------+-----------+--------------+--------------------+---------------+"
      ]
     },
     "metadata": {},
     "output_type": "display_data"
    },
    {
     "data": {
      "text/html": [
       "<pre>| Iteration | Passes   | Step size | Elapsed Time | Training-max_error | Training-rmse |</pre>"
      ],
      "text/plain": [
       "| Iteration | Passes   | Step size | Elapsed Time | Training-max_error | Training-rmse |"
      ]
     },
     "metadata": {},
     "output_type": "display_data"
    },
    {
     "data": {
      "text/html": [
       "<pre>+-----------+----------+-----------+--------------+--------------------+---------------+</pre>"
      ],
      "text/plain": [
       "+-----------+----------+-----------+--------------+--------------------+---------------+"
      ]
     },
     "metadata": {},
     "output_type": "display_data"
    },
    {
     "data": {
      "text/html": [
       "<pre>Tuning step size. First iteration could take longer than subsequent iterations.</pre>"
      ],
      "text/plain": [
       "Tuning step size. First iteration could take longer than subsequent iterations."
      ]
     },
     "metadata": {},
     "output_type": "display_data"
    },
    {
     "data": {
      "text/html": [
       "<pre>| 1         | 2        | 0.000003  | 1.609077     | 6302596.887972     | 323993.114447 |</pre>"
      ],
      "text/plain": [
       "| 1         | 2        | 0.000003  | 1.609077     | 6302596.887972     | 323993.114447 |"
      ]
     },
     "metadata": {},
     "output_type": "display_data"
    },
    {
     "data": {
      "text/html": [
       "<pre>| 2         | 3        | 0.000003  | 1.667401     | 6023837.209073     | 303975.326597 |</pre>"
      ],
      "text/plain": [
       "| 2         | 3        | 0.000003  | 1.667401     | 6023837.209073     | 303975.326597 |"
      ]
     },
     "metadata": {},
     "output_type": "display_data"
    },
    {
     "data": {
      "text/html": [
       "<pre>| 3         | 4        | 0.000003  | 1.743157     | 5911895.809122     | 298805.600064 |</pre>"
      ],
      "text/plain": [
       "| 3         | 4        | 0.000003  | 1.743157     | 5911895.809122     | 298805.600064 |"
      ]
     },
     "metadata": {},
     "output_type": "display_data"
    },
    {
     "data": {
      "text/html": [
       "<pre>| 4         | 5        | 0.000003  | 1.815003     | 5839957.243889     | 294292.598204 |</pre>"
      ],
      "text/plain": [
       "| 4         | 5        | 0.000003  | 1.815003     | 5839957.243889     | 294292.598204 |"
      ]
     },
     "metadata": {},
     "output_type": "display_data"
    },
    {
     "data": {
      "text/html": [
       "<pre>| 5         | 6        | 0.000003  | 1.864509     | 5767046.162784     | 289966.959726 |</pre>"
      ],
      "text/plain": [
       "| 5         | 6        | 0.000003  | 1.864509     | 5767046.162784     | 289966.959726 |"
      ]
     },
     "metadata": {},
     "output_type": "display_data"
    },
    {
     "data": {
      "text/html": [
       "<pre>| 6         | 7        | 0.000003  | 1.939829     | 5688716.875912     | 285965.139010 |</pre>"
      ],
      "text/plain": [
       "| 6         | 7        | 0.000003  | 1.939829     | 5688716.875912     | 285965.139010 |"
      ]
     },
     "metadata": {},
     "output_type": "display_data"
    },
    {
     "data": {
      "text/html": [
       "<pre>| 11        | 12       | 0.000003  | 2.186598     | 5303708.434487     | 271813.161397 |</pre>"
      ],
      "text/plain": [
       "| 11        | 12       | 0.000003  | 2.186598     | 5303708.434487     | 271813.161397 |"
      ]
     },
     "metadata": {},
     "output_type": "display_data"
    },
    {
     "data": {
      "text/html": [
       "<pre>| 25        | 26       | 0.000003  | 2.855810     | 4682471.378091     | 253340.650804 |</pre>"
      ],
      "text/plain": [
       "| 25        | 26       | 0.000003  | 2.855810     | 4682471.378091     | 253340.650804 |"
      ]
     },
     "metadata": {},
     "output_type": "display_data"
    },
    {
     "data": {
      "text/html": [
       "<pre>| 50        | 51       | 0.000003  | 3.865519     | 4370279.675701     | 247420.826958 |</pre>"
      ],
      "text/plain": [
       "| 50        | 51       | 0.000003  | 3.865519     | 4370279.675701     | 247420.826958 |"
      ]
     },
     "metadata": {},
     "output_type": "display_data"
    },
    {
     "data": {
      "text/html": [
       "<pre>| 51        | 52       | 0.000003  | 3.948847     | 4367065.999586     | 247344.009781 |</pre>"
      ],
      "text/plain": [
       "| 51        | 52       | 0.000003  | 3.948847     | 4367065.999586     | 247344.009781 |"
      ]
     },
     "metadata": {},
     "output_type": "display_data"
    },
    {
     "data": {
      "text/html": [
       "<pre>| 75        | 76       | 0.000003  | 5.044711     | 4430050.238856     | 246757.593529 |</pre>"
      ],
      "text/plain": [
       "| 75        | 76       | 0.000003  | 5.044711     | 4430050.238856     | 246757.593529 |"
      ]
     },
     "metadata": {},
     "output_type": "display_data"
    },
    {
     "data": {
      "text/html": [
       "<pre>| 100       | 101      | 0.000003  | 6.062417     | 4479461.027404     | 246168.777700 |</pre>"
      ],
      "text/plain": [
       "| 100       | 101      | 0.000003  | 6.062417     | 4479461.027404     | 246168.777700 |"
      ]
     },
     "metadata": {},
     "output_type": "display_data"
    },
    {
     "data": {
      "text/html": [
       "<pre>| 101       | 102      | 0.000003  | 6.105848     | 4478065.886399     | 246120.368302 |</pre>"
      ],
      "text/plain": [
       "| 101       | 102      | 0.000003  | 6.105848     | 4478065.886399     | 246120.368302 |"
      ]
     },
     "metadata": {},
     "output_type": "display_data"
    },
    {
     "data": {
      "text/html": [
       "<pre>| 125       | 126      | 0.000003  | 7.169796     | 4479539.152671     | 245339.782751 |</pre>"
      ],
      "text/plain": [
       "| 125       | 126      | 0.000003  | 7.169796     | 4479539.152671     | 245339.782751 |"
      ]
     },
     "metadata": {},
     "output_type": "display_data"
    },
    {
     "data": {
      "text/html": [
       "<pre>| 150       | 151      | 0.000003  | 8.154815     | 4523021.906193     | 244710.237948 |</pre>"
      ],
      "text/plain": [
       "| 150       | 151      | 0.000003  | 8.154815     | 4523021.906193     | 244710.237948 |"
      ]
     },
     "metadata": {},
     "output_type": "display_data"
    },
    {
     "data": {
      "text/html": [
       "<pre>| 175       | 176      | 0.000003  | 9.118756     | 4536359.017834     | 243961.073394 |</pre>"
      ],
      "text/plain": [
       "| 175       | 176      | 0.000003  | 9.118756     | 4536359.017834     | 243961.073394 |"
      ]
     },
     "metadata": {},
     "output_type": "display_data"
    },
    {
     "data": {
      "text/html": [
       "<pre>| 200       | 201      | 0.000003  | 10.081839    | 4552078.712452     | 243327.729083 |</pre>"
      ],
      "text/plain": [
       "| 200       | 201      | 0.000003  | 10.081839    | 4552078.712452     | 243327.729083 |"
      ]
     },
     "metadata": {},
     "output_type": "display_data"
    },
    {
     "data": {
      "text/html": [
       "<pre>| 225       | 226      | 0.000003  | 11.050343    | 4558223.802515     | 242856.133099 |</pre>"
      ],
      "text/plain": [
       "| 225       | 226      | 0.000003  | 11.050343    | 4558223.802515     | 242856.133099 |"
      ]
     },
     "metadata": {},
     "output_type": "display_data"
    },
    {
     "data": {
      "text/html": [
       "<pre>| 250       | 251      | 0.000003  | 12.023434    | 4558725.305074     | 242528.540417 |</pre>"
      ],
      "text/plain": [
       "| 250       | 251      | 0.000003  | 12.023434    | 4558725.305074     | 242528.540417 |"
      ]
     },
     "metadata": {},
     "output_type": "display_data"
    },
    {
     "data": {
      "text/html": [
       "<pre>| 275       | 276      | 0.000003  | 12.966080    | 4559836.363176     | 242410.630530 |</pre>"
      ],
      "text/plain": [
       "| 275       | 276      | 0.000003  | 12.966080    | 4559836.363176     | 242410.630530 |"
      ]
     },
     "metadata": {},
     "output_type": "display_data"
    },
    {
     "data": {
      "text/html": [
       "<pre>| 300       | 301      | 0.000003  | 14.078275    | 4558165.062078     | 242441.628162 |</pre>"
      ],
      "text/plain": [
       "| 300       | 301      | 0.000003  | 14.078275    | 4558165.062078     | 242441.628162 |"
      ]
     },
     "metadata": {},
     "output_type": "display_data"
    },
    {
     "data": {
      "text/html": [
       "<pre>| 325       | 326      | 0.000003  | 15.055146    | 4558841.390970     | 242609.357986 |</pre>"
      ],
      "text/plain": [
       "| 325       | 326      | 0.000003  | 15.055146    | 4558841.390970     | 242609.357986 |"
      ]
     },
     "metadata": {},
     "output_type": "display_data"
    },
    {
     "data": {
      "text/html": [
       "<pre>| 350       | 351      | 0.000003  | 15.997208    | 4508082.224057     | 242705.731933 |</pre>"
      ],
      "text/plain": [
       "| 350       | 351      | 0.000003  | 15.997208    | 4508082.224057     | 242705.731933 |"
      ]
     },
     "metadata": {},
     "output_type": "display_data"
    },
    {
     "data": {
      "text/html": [
       "<pre>| 375       | 376      | 0.000003  | 17.134456    | 4551786.111033     | 243143.968130 |</pre>"
      ],
      "text/plain": [
       "| 375       | 376      | 0.000003  | 17.134456    | 4551786.111033     | 243143.968130 |"
      ]
     },
     "metadata": {},
     "output_type": "display_data"
    },
    {
     "data": {
      "text/html": [
       "<pre>| 400       | 401      | 0.000003  | 18.108387    | 4528378.596566     | 243347.643939 |</pre>"
      ],
      "text/plain": [
       "| 400       | 401      | 0.000003  | 18.108387    | 4528378.596566     | 243347.643939 |"
      ]
     },
     "metadata": {},
     "output_type": "display_data"
    },
    {
     "data": {
      "text/html": [
       "<pre>| 425       | 426      | 0.000003  | 19.068100    | 4523032.251993     | 243553.792084 |</pre>"
      ],
      "text/plain": [
       "| 425       | 426      | 0.000003  | 19.068100    | 4523032.251993     | 243553.792084 |"
      ]
     },
     "metadata": {},
     "output_type": "display_data"
    },
    {
     "data": {
      "text/html": [
       "<pre>| 450       | 451      | 0.000003  | 20.168492    | 4537804.450247     | 243735.120475 |</pre>"
      ],
      "text/plain": [
       "| 450       | 451      | 0.000003  | 20.168492    | 4537804.450247     | 243735.120475 |"
      ]
     },
     "metadata": {},
     "output_type": "display_data"
    },
    {
     "data": {
      "text/html": [
       "<pre>| 475       | 476      | 0.000003  | 21.270644    | 4537204.861402     | 243693.654145 |</pre>"
      ],
      "text/plain": [
       "| 475       | 476      | 0.000003  | 21.270644    | 4537204.861402     | 243693.654145 |"
      ]
     },
     "metadata": {},
     "output_type": "display_data"
    },
    {
     "data": {
      "text/html": [
       "<pre>| 500       | 501      | 0.000003  | 22.313600    | 4525125.429446     | 243531.898925 |</pre>"
      ],
      "text/plain": [
       "| 500       | 501      | 0.000003  | 22.313600    | 4525125.429446     | 243531.898925 |"
      ]
     },
     "metadata": {},
     "output_type": "display_data"
    },
    {
     "data": {
      "text/html": [
       "<pre>| 501       | 502      | 0.000003  | 22.379634    | 4525160.568796     | 243525.859972 |</pre>"
      ],
      "text/plain": [
       "| 501       | 502      | 0.000003  | 22.379634    | 4525160.568796     | 243525.859972 |"
      ]
     },
     "metadata": {},
     "output_type": "display_data"
    },
    {
     "data": {
      "text/html": [
       "<pre>| 525       | 526      | 0.000003  | 23.371580    | 4533928.580515     | 243362.644707 |</pre>"
      ],
      "text/plain": [
       "| 525       | 526      | 0.000003  | 23.371580    | 4533928.580515     | 243362.644707 |"
      ]
     },
     "metadata": {},
     "output_type": "display_data"
    },
    {
     "data": {
      "text/html": [
       "<pre>| 550       | 551      | 0.000003  | 24.346506    | 4535993.672169     | 243198.443884 |</pre>"
      ],
      "text/plain": [
       "| 550       | 551      | 0.000003  | 24.346506    | 4535993.672169     | 243198.443884 |"
      ]
     },
     "metadata": {},
     "output_type": "display_data"
    },
    {
     "data": {
      "text/html": [
       "<pre>| 575       | 576      | 0.000003  | 25.412645    | 4534461.926032     | 243045.298953 |</pre>"
      ],
      "text/plain": [
       "| 575       | 576      | 0.000003  | 25.412645    | 4534461.926032     | 243045.298953 |"
      ]
     },
     "metadata": {},
     "output_type": "display_data"
    },
    {
     "data": {
      "text/html": [
       "<pre>| 600       | 601      | 0.000003  | 26.473393    | 4544615.458782     | 242996.843192 |</pre>"
      ],
      "text/plain": [
       "| 600       | 601      | 0.000003  | 26.473393    | 4544615.458782     | 242996.843192 |"
      ]
     },
     "metadata": {},
     "output_type": "display_data"
    },
    {
     "data": {
      "text/html": [
       "<pre>| 625       | 626      | 0.000003  | 27.736932    | 4546878.295988     | 242954.937750 |</pre>"
      ],
      "text/plain": [
       "| 625       | 626      | 0.000003  | 27.736932    | 4546878.295988     | 242954.937750 |"
      ]
     },
     "metadata": {},
     "output_type": "display_data"
    },
    {
     "data": {
      "text/html": [
       "<pre>| 650       | 651      | 0.000003  | 28.719891    | 4542349.800791     | 242937.911993 |</pre>"
      ],
      "text/plain": [
       "| 650       | 651      | 0.000003  | 28.719891    | 4542349.800791     | 242937.911993 |"
      ]
     },
     "metadata": {},
     "output_type": "display_data"
    },
    {
     "data": {
      "text/html": [
       "<pre>| 675       | 676      | 0.000003  | 29.689960    | 4543271.749186     | 242970.439285 |</pre>"
      ],
      "text/plain": [
       "| 675       | 676      | 0.000003  | 29.689960    | 4543271.749186     | 242970.439285 |"
      ]
     },
     "metadata": {},
     "output_type": "display_data"
    },
    {
     "data": {
      "text/html": [
       "<pre>| 700       | 701      | 0.000003  | 30.725562    | 4539654.075023     | 243033.519832 |</pre>"
      ],
      "text/plain": [
       "| 700       | 701      | 0.000003  | 30.725562    | 4539654.075023     | 243033.519832 |"
      ]
     },
     "metadata": {},
     "output_type": "display_data"
    },
    {
     "data": {
      "text/html": [
       "<pre>| 725       | 726      | 0.000003  | 31.777682    | 4535067.535198     | 243119.922623 |</pre>"
      ],
      "text/plain": [
       "| 725       | 726      | 0.000003  | 31.777682    | 4535067.535198     | 243119.922623 |"
      ]
     },
     "metadata": {},
     "output_type": "display_data"
    },
    {
     "data": {
      "text/html": [
       "<pre>| 750       | 751      | 0.000003  | 32.862734    | 4536732.858982     | 243241.265342 |</pre>"
      ],
      "text/plain": [
       "| 750       | 751      | 0.000003  | 32.862734    | 4536732.858982     | 243241.265342 |"
      ]
     },
     "metadata": {},
     "output_type": "display_data"
    },
    {
     "data": {
      "text/html": [
       "<pre>| 775       | 776      | 0.000003  | 33.936078    | 4536467.259861     | 243335.006520 |</pre>"
      ],
      "text/plain": [
       "| 775       | 776      | 0.000003  | 33.936078    | 4536467.259861     | 243335.006520 |"
      ]
     },
     "metadata": {},
     "output_type": "display_data"
    },
    {
     "data": {
      "text/html": [
       "<pre>| 800       | 801      | 0.000003  | 35.005210    | 4534744.577296     | 243383.146464 |</pre>"
      ],
      "text/plain": [
       "| 800       | 801      | 0.000003  | 35.005210    | 4534744.577296     | 243383.146464 |"
      ]
     },
     "metadata": {},
     "output_type": "display_data"
    },
    {
     "data": {
      "text/html": [
       "<pre>| 825       | 826      | 0.000003  | 36.056562    | 4535769.363144     | 243386.291355 |</pre>"
      ],
      "text/plain": [
       "| 825       | 826      | 0.000003  | 36.056562    | 4535769.363144     | 243386.291355 |"
      ]
     },
     "metadata": {},
     "output_type": "display_data"
    },
    {
     "data": {
      "text/html": [
       "<pre>| 850       | 851      | 0.000003  | 37.278109    | 4534868.623612     | 243339.717045 |</pre>"
      ],
      "text/plain": [
       "| 850       | 851      | 0.000003  | 37.278109    | 4534868.623612     | 243339.717045 |"
      ]
     },
     "metadata": {},
     "output_type": "display_data"
    },
    {
     "data": {
      "text/html": [
       "<pre>| 875       | 876      | 0.000003  | 38.349665    | 4534029.979097     | 243267.485032 |</pre>"
      ],
      "text/plain": [
       "| 875       | 876      | 0.000003  | 38.349665    | 4534029.979097     | 243267.485032 |"
      ]
     },
     "metadata": {},
     "output_type": "display_data"
    },
    {
     "data": {
      "text/html": [
       "<pre>| 900       | 901      | 0.000003  | 39.518669    | 4536502.320207     | 243202.327920 |</pre>"
      ],
      "text/plain": [
       "| 900       | 901      | 0.000003  | 39.518669    | 4536502.320207     | 243202.327920 |"
      ]
     },
     "metadata": {},
     "output_type": "display_data"
    },
    {
     "data": {
      "text/html": [
       "<pre>| 925       | 926      | 0.000003  | 40.627647    | 4538460.105108     | 243143.909758 |</pre>"
      ],
      "text/plain": [
       "| 925       | 926      | 0.000003  | 40.627647    | 4538460.105108     | 243143.909758 |"
      ]
     },
     "metadata": {},
     "output_type": "display_data"
    },
    {
     "data": {
      "text/html": [
       "<pre>| 950       | 951      | 0.000003  | 41.983359    | 4539817.832123     | 243099.231007 |</pre>"
      ],
      "text/plain": [
       "| 950       | 951      | 0.000003  | 41.983359    | 4539817.832123     | 243099.231007 |"
      ]
     },
     "metadata": {},
     "output_type": "display_data"
    },
    {
     "data": {
      "text/html": [
       "<pre>| 975       | 976      | 0.000003  | 43.390352    | 4541565.431497     | 243073.260954 |</pre>"
      ],
      "text/plain": [
       "| 975       | 976      | 0.000003  | 43.390352    | 4541565.431497     | 243073.260954 |"
      ]
     },
     "metadata": {},
     "output_type": "display_data"
    },
    {
     "data": {
      "text/html": [
       "<pre>| 1000      | 1001     | 0.000003  | 44.571664    | 4541062.631137     | 243059.819851 |</pre>"
      ],
      "text/plain": [
       "| 1000      | 1001     | 0.000003  | 44.571664    | 4541062.631137     | 243059.819851 |"
      ]
     },
     "metadata": {},
     "output_type": "display_data"
    },
    {
     "data": {
      "text/html": [
       "<pre>+-----------+----------+-----------+--------------+--------------------+---------------+</pre>"
      ],
      "text/plain": [
       "+-----------+----------+-----------+--------------+--------------------+---------------+"
      ]
     },
     "metadata": {},
     "output_type": "display_data"
    },
    {
     "data": {
      "text/html": [
       "<pre>TERMINATED: Iteration limit reached.</pre>"
      ],
      "text/plain": [
       "TERMINATED: Iteration limit reached."
      ]
     },
     "metadata": {},
     "output_type": "display_data"
    },
    {
     "data": {
      "text/html": [
       "<pre>This model may not be optimal. To improve it, consider increasing `max_iterations`.</pre>"
      ],
      "text/plain": [
       "This model may not be optimal. To improve it, consider increasing `max_iterations`."
      ]
     },
     "metadata": {},
     "output_type": "display_data"
    }
   ],
   "source": [
    "model = train_model(training, 'price', 1e8, max_iterations=1000, verbose=True)"
   ]
  },
  {
   "cell_type": "code",
   "execution_count": 15,
   "metadata": {},
   "outputs": [
    {
     "name": "stdout",
     "output_type": "stream",
     "text": [
      "number of nonzeros = 9\n",
      "+---------------+-------+----------------+--------+\n",
      "|      name     | index |     value      | stderr |\n",
      "+---------------+-------+----------------+--------+\n",
      "|  (intercept)  |  None | -269929.877343 |  None  |\n",
      "|  sqft_living  |  None | 209.843324063  |  None  |\n",
      "| sqft_lot_sqrt |  None | -130.492150814 |  None  |\n",
      "|   waterfront  |  None | 570332.060701  |  None  |\n",
      "|      view     |  None | 68849.3074269  |  None  |\n",
      "|   condition   |  None | 4109.62267543  |  None  |\n",
      "|     grade     |  None | 45272.2684584  |  None  |\n",
      "| sqft_basement |  None | 3.36352578278  |  None  |\n",
      "|  yr_renovated |  None | 49.6744855882  |  None  |\n",
      "+---------------+-------+----------------+--------+\n",
      "[9 rows x 4 columns]\n",
      "\n"
     ]
    }
   ],
   "source": [
    "print_coefficient(model)\n",
    "\n",
    "models = {}\n",
    "\n",
    "models[1e8] = model"
   ]
  },
  {
   "cell_type": "code",
   "execution_count": 18,
   "metadata": {},
   "outputs": [
    {
     "name": "stdout",
     "output_type": "stream",
     "text": [
      "100000000.0\n",
      "127427498.57\n",
      "162377673.919\n",
      "206913808.111\n",
      "263665089.873\n",
      "335981828.628\n",
      "428133239.872\n",
      "545559478.117\n",
      "695192796.178\n",
      "885866790.41\n",
      "1128837891.68\n",
      "1438449888.29\n",
      "1832980710.83\n",
      "2335721469.09\n",
      "2976351441.63\n",
      "3792690190.73\n",
      "4832930238.57\n",
      "6158482110.66\n",
      "7847599703.51\n",
      "10000000000.0\n"
     ]
    }
   ],
   "source": [
    "for l1_penalty in l1_penalty_values:\n",
    "    model = train_model(training, 'price', l1_penalty, max_iterations=1000)\n",
    "    print(l1_penalty)\n",
    "    models[l1_penalty] = model"
   ]
  },
  {
   "cell_type": "code",
   "execution_count": 21,
   "metadata": {},
   "outputs": [
    {
     "name": "stdout",
     "output_type": "stream",
     "text": [
      "100000000.0 9\n",
      "127427498.57 7\n",
      "162377673.919 7\n",
      "206913808.111 6\n",
      "263665089.873 5\n",
      "335981828.628 5\n",
      "428133239.872 5\n",
      "545559478.117 4\n",
      "695192796.178 4\n",
      "885866790.41 4\n",
      "1128837891.68 4\n",
      "1438449888.29 4\n",
      "1832980710.83 3\n",
      "2335721469.09 2\n",
      "2976351441.63 1\n",
      "3792690190.73 1\n",
      "4832930238.57 1\n",
      "6158482110.66 1\n",
      "7847599703.51 1\n",
      "10000000000.0 1\n"
     ]
    }
   ],
   "source": [
    "\n",
    "from collections import OrderedDict\n",
    "\n",
    "order_models = OrderedDict()\n",
    "\n",
    "for l1_penalty in l1_penalty_values:\n",
    "    order_models[l1_penalty] = models[l1_penalty]\n",
    "    \n",
    "for l1_penalty, model in order_models.iteritems():\n",
    "    coef = model.coefficients\n",
    "    print(l1_penalty, coef['value'].nnz())"
   ]
  },
  {
   "cell_type": "markdown",
   "metadata": {},
   "source": [
    "Out of this large range, we want to find the two ends of our desired narrow range of `l1_penalty`.  At one end, we will have `l1_penalty` values that have too few non-zeros, and at the other end, we will have an `l1_penalty` that has too many non-zeros.  \n",
    "\n",
    "More formally, find:\n",
    "* The largest `l1_penalty` that has more non-zeros than `max_nonzeros` (if we pick a penalty smaller than this value, we will definitely have too many non-zero weights)\n",
    "    * Store this value in the variable `l1_penalty_min` (we will use it later)\n",
    "* The smallest `l1_penalty` that has fewer non-zeros than `max_nonzeros` (if we pick a penalty larger than this value, we will definitely have too few non-zero weights)\n",
    "    * Store this value in the variable `l1_penalty_max` (we will use it later)\n",
    "\n",
    "\n",
    "*Hint: there are many ways to do this, e.g.:*\n",
    "* Programmatically within the loop above\n",
    "* Creating a list with the number of non-zeros for each value of `l1_penalty` and inspecting it to find the appropriate boundaries."
   ]
  },
  {
   "cell_type": "code",
   "execution_count": 24,
   "metadata": {},
   "outputs": [
    {
     "name": "stdout",
     "output_type": "stream",
     "text": [
      "100000000.0\n",
      "206913808.111\n"
     ]
    }
   ],
   "source": [
    "l1_penalty_min = l1_penalty_values[0]\n",
    "l1_penalty_max = l1_penalty_values[3]\n",
    "\n",
    "print(l1_penalty_min)\n",
    "print(l1_penalty_max)"
   ]
  },
  {
   "cell_type": "markdown",
   "metadata": {},
   "source": [
    "***QUIZ QUESTION.*** What values did you find for `l1_penalty_min` and `l1_penalty_max`, respectively? "
   ]
  },
  {
   "cell_type": "markdown",
   "metadata": {},
   "source": [
    "## Exploring the narrow range of values to find the solution with the right number of non-zeros that has lowest RSS on the validation set \n",
    "\n",
    "We will now explore the narrow region of `l1_penalty` values we found:"
   ]
  },
  {
   "cell_type": "code",
   "execution_count": 25,
   "metadata": {
    "collapsed": true
   },
   "outputs": [],
   "source": [
    "l1_penalty_values = np.linspace(l1_penalty_min,l1_penalty_max,20)"
   ]
  },
  {
   "cell_type": "markdown",
   "metadata": {},
   "source": [
    "* For `l1_penalty` in `np.linspace(l1_penalty_min,l1_penalty_max,20)`:\n",
    "    * Fit a regression model with a given `l1_penalty` on TRAIN data. Specify `l1_penalty=l1_penalty` and `l2_penalty=0.` in the parameter list. When you call `linear_regression.create()` make sure you set `validation_set = None`\n",
    "    * Measure the RSS of the learned model on the VALIDATION set\n",
    "\n",
    "Find the model that the lowest RSS on the VALIDATION set and has sparsity *equal* to `max_nonzeros`."
   ]
  },
  {
   "cell_type": "code",
   "execution_count": 30,
   "metadata": {},
   "outputs": [
    {
     "name": "stdout",
     "output_type": "stream",
     "text": [
      "100000000.0 9\n",
      "105627042.532 9\n",
      "111254085.064 8\n",
      "116881127.597 7\n",
      "122508170.129 7\n",
      "128135212.661 7\n",
      "133762255.193 7\n",
      "139389297.725 7\n",
      "145016340.257 7\n",
      "150643382.79 7\n",
      "156270425.322 7\n",
      "161897467.854 7\n",
      "167524510.386 8\n",
      "173151552.918 8\n",
      "178778595.451 8\n",
      "184405637.983 7\n",
      "190032680.515 6\n",
      "195659723.047 6\n",
      "201286765.579 6\n",
      "206913808.111 6\n"
     ]
    }
   ],
   "source": [
    "for l1_penalty in l1_penalty_values:\n",
    "    model = train_model(training, 'price', l1_penalty, max_iterations=2000)\n",
    "    print(l1_penalty, model.coefficients['value'].nnz())\n",
    "    models[l1_penalty] = model"
   ]
  },
  {
   "cell_type": "code",
   "execution_count": 37,
   "metadata": {},
   "outputs": [
    {
     "name": "stdout",
     "output_type": "stream",
     "text": [
      "116881127.597 7\n",
      "122508170.129 7\n",
      "128135212.661 7\n",
      "133762255.193 7\n",
      "139389297.725 7\n",
      "145016340.257 7\n",
      "150643382.79 7\n",
      "156270425.322 7\n",
      "161897467.854 7\n",
      "184405637.983 7\n"
     ]
    }
   ],
   "source": [
    "\n",
    "order_models2 = OrderedDict()\n",
    "\n",
    "for l1_penalty in l1_penalty_values:\n",
    "    if models[l1_penalty].coefficients['value'].nnz() == 7:\n",
    "        order_models2[l1_penalty] = models[l1_penalty]\n",
    "    \n",
    "validation_error = dict()\n",
    "for l1_penalty, model in order_models2.iteritems():\n",
    "    coef = model.coefficients\n",
    "    validation_error[l1_penalty] = RSS(validation['price'], model.predict(validation))\n",
    "    print(l1_penalty, coef['value'].nnz())"
   ]
  },
  {
   "cell_type": "code",
   "execution_count": 43,
   "metadata": {},
   "outputs": [
    {
     "name": "stdout",
     "output_type": "stream",
     "text": [
      "(116881127.59654932, 514361075626750.81)\n",
      "number of nonzeros = 7\n",
      "+---------------+-------+----------------+--------+\n",
      "|      name     | index |     value      | stderr |\n",
      "+---------------+-------+----------------+--------+\n",
      "|  (intercept)  |  None | -194613.462678 |  None  |\n",
      "|  sqft_living  |  None | 217.389965566  |  None  |\n",
      "| sqft_lot_sqrt |  None | -104.361115248 |  None  |\n",
      "|   waterfront  |  None | 562871.451701  |  None  |\n",
      "|      view     |  None | 70083.6846348  |  None  |\n",
      "|     grade     |  None | 35004.1439378  |  None  |\n",
      "|  yr_renovated |  None | 46.8766143558  |  None  |\n",
      "+---------------+-------+----------------+--------+\n",
      "[7 rows x 4 columns]\n",
      "\n"
     ]
    }
   ],
   "source": [
    "best = min(validation_error.items(), key=lambda x: x[1])\n",
    "\n",
    "best_model = order_models2[best[0]]\n",
    "print(best)\n",
    "print_coefficient(best_model)"
   ]
  },
  {
   "cell_type": "markdown",
   "metadata": {},
   "source": [
    "***QUIZ QUESTIONS***\n",
    "1. What value of `l1_penalty` in our narrow range has the lowest RSS on the VALIDATION set and has sparsity *equal* to `max_nonzeros`?\n",
    "2. What features in this model have non-zero coefficients?"
   ]
  },
  {
   "cell_type": "code",
   "execution_count": null,
   "metadata": {
    "collapsed": true
   },
   "outputs": [],
   "source": []
  }
 ],
 "metadata": {
  "kernelspec": {
   "display_name": "Python 2",
   "language": "python",
   "name": "python2"
  },
  "language_info": {
   "codemirror_mode": {
    "name": "ipython",
    "version": 2
   },
   "file_extension": ".py",
   "mimetype": "text/x-python",
   "name": "python",
   "nbconvert_exporter": "python",
   "pygments_lexer": "ipython2",
   "version": "2.7.13"
  },
  "varInspector": {
   "cols": {
    "lenName": 16,
    "lenType": 16,
    "lenVar": 40
   },
   "kernels_config": {
    "python": {
     "delete_cmd_postfix": "",
     "delete_cmd_prefix": "del ",
     "library": "var_list.py",
     "varRefreshCmd": "print(var_dic_list())"
    },
    "r": {
     "delete_cmd_postfix": ") ",
     "delete_cmd_prefix": "rm(",
     "library": "var_list.r",
     "varRefreshCmd": "cat(var_dic_list()) "
    }
   },
   "types_to_exclude": [
    "module",
    "function",
    "builtin_function_or_method",
    "instance",
    "_Feature"
   ],
   "window_display": false
  }
 },
 "nbformat": 4,
 "nbformat_minor": 1
}
